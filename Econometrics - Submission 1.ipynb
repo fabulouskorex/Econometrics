{
 "cells": [
  {
   "cell_type": "markdown",
   "metadata": {},
   "source": [
    "# 0. ETF Selection\n",
    "\n",
    "We select the SPDR Gold Shares (GLD) ETF as the gold ETF. It is traded on Nasdaq, the currency is USD.\n",
    "\n",
    "Similarly, we choose the Amundi CAC 40 UCITS ETF-C (C40.PA) as the equity ETF. It will track the CAC 40 index of France. It is traded on Paris Euronext, the currency is EUR.\n",
    "\n",
    "Data source: https://finance.yahoo.com/"
   ]
  },
  {
   "cell_type": "markdown",
   "metadata": {},
   "source": [
    "# 1. Data Importing"
   ]
  },
  {
   "cell_type": "code",
   "execution_count": 1,
   "metadata": {
    "scrolled": true
   },
   "outputs": [],
   "source": [
    "import arch\n",
    "import holidays\n",
    "import pandas as pd\n",
    "import numpy as np\n",
    "from pandas import Series, DataFrame\n",
    "import matplotlib.pyplot as plt\n",
    "import seaborn as sns\n",
    "\n",
    "from statsmodels.tsa.arima.model import ARIMA\n",
    "from scipy import stats\n",
    "from datetime import datetime\n",
    "from nelson_siegel_svensson import NelsonSiegelSvenssonCurve, NelsonSiegelCurve\n",
    "from nelson_siegel_svensson.calibrate import calibrate_ns_ols, calibrate_nss_ols\n",
    "\n",
    "%matplotlib inline"
   ]
  },
  {
   "cell_type": "code",
   "execution_count": 2,
   "metadata": {},
   "outputs": [],
   "source": [
    "gold_df = pd.read_csv(\"data/SPDR_Gold_Shares_USD.csv\")\n",
    "equity_df = pd.read_csv(\"data/C40.PA.csv\")\n",
    "treasury_Yield_df = pd.read_csv('data/Treasury_Yield.csv')"
   ]
  },
  {
   "cell_type": "markdown",
   "metadata": {},
   "source": [
    "Convert the data into the datetime format and make it the index to query the dataframe easier."
   ]
  },
  {
   "cell_type": "code",
   "execution_count": 3,
   "metadata": {},
   "outputs": [],
   "source": [
    "gold_df[\"Date\"] = pd.to_datetime(gold_df[\"Date\"], format=\"%Y-%m-%d\")\n",
    "gold_df.set_index(\"Date\", inplace=True)\n",
    "equity_df[\"Date\"] = pd.to_datetime(equity_df[\"Date\"], format=\"%Y-%m-%d\")\n",
    "equity_df.set_index(\"Date\", inplace=True)"
   ]
  },
  {
   "cell_type": "markdown",
   "metadata": {},
   "source": [
    "Verify that the time range is correct."
   ]
  },
  {
   "cell_type": "code",
   "execution_count": 4,
   "metadata": {},
   "outputs": [
    {
     "data": {
      "text/html": [
       "<div>\n",
       "<style scoped>\n",
       "    .dataframe tbody tr th:only-of-type {\n",
       "        vertical-align: middle;\n",
       "    }\n",
       "\n",
       "    .dataframe tbody tr th {\n",
       "        vertical-align: top;\n",
       "    }\n",
       "\n",
       "    .dataframe thead th {\n",
       "        text-align: right;\n",
       "    }\n",
       "</style>\n",
       "<table border=\"1\" class=\"dataframe\">\n",
       "  <thead>\n",
       "    <tr style=\"text-align: right;\">\n",
       "      <th></th>\n",
       "      <th>Date</th>\n",
       "      <th>2 Year Price</th>\n",
       "      <th>3 Year Price</th>\n",
       "      <th>5 Year Price</th>\n",
       "      <th>7 Year Price</th>\n",
       "      <th>10 Year Price</th>\n",
       "      <th>30 Year Price</th>\n",
       "    </tr>\n",
       "  </thead>\n",
       "  <tbody>\n",
       "    <tr>\n",
       "      <th>0</th>\n",
       "      <td>Oct 01, 2019</td>\n",
       "      <td>1.542</td>\n",
       "      <td>1.494</td>\n",
       "      <td>1.489</td>\n",
       "      <td>1.571</td>\n",
       "      <td>1.635</td>\n",
       "      <td>2.091</td>\n",
       "    </tr>\n",
       "    <tr>\n",
       "      <th>1</th>\n",
       "      <td>Oct 02, 2019</td>\n",
       "      <td>1.484</td>\n",
       "      <td>1.435</td>\n",
       "      <td>1.435</td>\n",
       "      <td>1.528</td>\n",
       "      <td>1.601</td>\n",
       "      <td>2.088</td>\n",
       "    </tr>\n",
       "    <tr>\n",
       "      <th>2</th>\n",
       "      <td>Oct 03, 2019</td>\n",
       "      <td>1.392</td>\n",
       "      <td>1.351</td>\n",
       "      <td>1.349</td>\n",
       "      <td>1.450</td>\n",
       "      <td>1.534</td>\n",
       "      <td>2.031</td>\n",
       "    </tr>\n",
       "    <tr>\n",
       "      <th>3</th>\n",
       "      <td>Oct 04, 2019</td>\n",
       "      <td>1.406</td>\n",
       "      <td>1.361</td>\n",
       "      <td>1.349</td>\n",
       "      <td>1.446</td>\n",
       "      <td>1.529</td>\n",
       "      <td>2.014</td>\n",
       "    </tr>\n",
       "    <tr>\n",
       "      <th>4</th>\n",
       "      <td>Oct 06, 2019</td>\n",
       "      <td>1.386</td>\n",
       "      <td>1.342</td>\n",
       "      <td>1.331</td>\n",
       "      <td>1.429</td>\n",
       "      <td>1.515</td>\n",
       "      <td>2.008</td>\n",
       "    </tr>\n",
       "  </tbody>\n",
       "</table>\n",
       "</div>"
      ],
      "text/plain": [
       "           Date   2 Year Price  3 Year Price  5 Year Price  7 Year Price  \\\n",
       "0  Oct 01, 2019          1.542         1.494         1.489         1.571   \n",
       "1  Oct 02, 2019          1.484         1.435         1.435         1.528   \n",
       "2  Oct 03, 2019          1.392         1.351         1.349         1.450   \n",
       "3  Oct 04, 2019          1.406         1.361         1.349         1.446   \n",
       "4  Oct 06, 2019          1.386         1.342         1.331         1.429   \n",
       "\n",
       "   10 Year Price  30 Year Price  \n",
       "0          1.635          2.091  \n",
       "1          1.601          2.088  \n",
       "2          1.534          2.031  \n",
       "3          1.529          2.014  \n",
       "4          1.515          2.008  "
      ]
     },
     "execution_count": 4,
     "metadata": {},
     "output_type": "execute_result"
    }
   ],
   "source": [
    "treasury_Yield_df.head()"
   ]
  },
  {
   "cell_type": "code",
   "execution_count": 5,
   "metadata": {},
   "outputs": [
    {
     "data": {
      "text/html": [
       "<div>\n",
       "<style scoped>\n",
       "    .dataframe tbody tr th:only-of-type {\n",
       "        vertical-align: middle;\n",
       "    }\n",
       "\n",
       "    .dataframe tbody tr th {\n",
       "        vertical-align: top;\n",
       "    }\n",
       "\n",
       "    .dataframe thead th {\n",
       "        text-align: right;\n",
       "    }\n",
       "</style>\n",
       "<table border=\"1\" class=\"dataframe\">\n",
       "  <thead>\n",
       "    <tr style=\"text-align: right;\">\n",
       "      <th></th>\n",
       "      <th>Date</th>\n",
       "      <th>2 Year Price</th>\n",
       "      <th>3 Year Price</th>\n",
       "      <th>5 Year Price</th>\n",
       "      <th>7 Year Price</th>\n",
       "      <th>10 Year Price</th>\n",
       "      <th>30 Year Price</th>\n",
       "    </tr>\n",
       "  </thead>\n",
       "  <tbody>\n",
       "    <tr>\n",
       "      <th>45</th>\n",
       "      <td>Nov 25, 2019</td>\n",
       "      <td>1.611</td>\n",
       "      <td>1.595</td>\n",
       "      <td>1.607</td>\n",
       "      <td>1.692</td>\n",
       "      <td>1.752</td>\n",
       "      <td>2.197</td>\n",
       "    </tr>\n",
       "    <tr>\n",
       "      <th>46</th>\n",
       "      <td>Nov 26, 2019</td>\n",
       "      <td>1.590</td>\n",
       "      <td>1.579</td>\n",
       "      <td>1.596</td>\n",
       "      <td>1.683</td>\n",
       "      <td>1.741</td>\n",
       "      <td>2.178</td>\n",
       "    </tr>\n",
       "    <tr>\n",
       "      <th>47</th>\n",
       "      <td>Nov 27, 2019</td>\n",
       "      <td>1.626</td>\n",
       "      <td>1.617</td>\n",
       "      <td>1.627</td>\n",
       "      <td>1.718</td>\n",
       "      <td>1.767</td>\n",
       "      <td>2.189</td>\n",
       "    </tr>\n",
       "    <tr>\n",
       "      <th>48</th>\n",
       "      <td>Nov 28, 2019</td>\n",
       "      <td>1.628</td>\n",
       "      <td>1.622</td>\n",
       "      <td>1.636</td>\n",
       "      <td>1.723</td>\n",
       "      <td>1.778</td>\n",
       "      <td>2.201</td>\n",
       "    </tr>\n",
       "    <tr>\n",
       "      <th>49</th>\n",
       "      <td>Nov 29, 2019</td>\n",
       "      <td>1.612</td>\n",
       "      <td>1.609</td>\n",
       "      <td>1.624</td>\n",
       "      <td>1.729</td>\n",
       "      <td>1.774</td>\n",
       "      <td>2.203</td>\n",
       "    </tr>\n",
       "  </tbody>\n",
       "</table>\n",
       "</div>"
      ],
      "text/plain": [
       "            Date   2 Year Price  3 Year Price  5 Year Price  7 Year Price  \\\n",
       "45  Nov 25, 2019          1.611         1.595         1.607         1.692   \n",
       "46  Nov 26, 2019          1.590         1.579         1.596         1.683   \n",
       "47  Nov 27, 2019          1.626         1.617         1.627         1.718   \n",
       "48  Nov 28, 2019          1.628         1.622         1.636         1.723   \n",
       "49  Nov 29, 2019          1.612         1.609         1.624         1.729   \n",
       "\n",
       "    10 Year Price  30 Year Price  \n",
       "45          1.752          2.197  \n",
       "46          1.741          2.178  \n",
       "47          1.767          2.189  \n",
       "48          1.778          2.201  \n",
       "49          1.774          2.203  "
      ]
     },
     "execution_count": 5,
     "metadata": {},
     "output_type": "execute_result"
    }
   ],
   "source": [
    "treasury_Yield_df.tail()"
   ]
  },
  {
   "cell_type": "code",
   "execution_count": 6,
   "metadata": {},
   "outputs": [
    {
     "data": {
      "text/html": [
       "<div>\n",
       "<style scoped>\n",
       "    .dataframe tbody tr th:only-of-type {\n",
       "        vertical-align: middle;\n",
       "    }\n",
       "\n",
       "    .dataframe tbody tr th {\n",
       "        vertical-align: top;\n",
       "    }\n",
       "\n",
       "    .dataframe thead th {\n",
       "        text-align: right;\n",
       "    }\n",
       "</style>\n",
       "<table border=\"1\" class=\"dataframe\">\n",
       "  <thead>\n",
       "    <tr style=\"text-align: right;\">\n",
       "      <th></th>\n",
       "      <th>Open</th>\n",
       "      <th>High</th>\n",
       "      <th>Low</th>\n",
       "      <th>Close</th>\n",
       "      <th>Adj Close</th>\n",
       "      <th>Volume</th>\n",
       "    </tr>\n",
       "    <tr>\n",
       "      <th>Date</th>\n",
       "      <th></th>\n",
       "      <th></th>\n",
       "      <th></th>\n",
       "      <th></th>\n",
       "      <th></th>\n",
       "      <th></th>\n",
       "    </tr>\n",
       "  </thead>\n",
       "  <tbody>\n",
       "    <tr>\n",
       "      <th>2019-10-01</th>\n",
       "      <td>138.070007</td>\n",
       "      <td>140.190002</td>\n",
       "      <td>137.800003</td>\n",
       "      <td>139.630005</td>\n",
       "      <td>139.630005</td>\n",
       "      <td>12476200</td>\n",
       "    </tr>\n",
       "    <tr>\n",
       "      <th>2019-10-02</th>\n",
       "      <td>140.789993</td>\n",
       "      <td>141.880005</td>\n",
       "      <td>140.460007</td>\n",
       "      <td>141.259995</td>\n",
       "      <td>141.259995</td>\n",
       "      <td>11914300</td>\n",
       "    </tr>\n",
       "    <tr>\n",
       "      <th>2019-10-03</th>\n",
       "      <td>141.360001</td>\n",
       "      <td>143.250000</td>\n",
       "      <td>141.289993</td>\n",
       "      <td>141.899994</td>\n",
       "      <td>141.899994</td>\n",
       "      <td>12396100</td>\n",
       "    </tr>\n",
       "    <tr>\n",
       "      <th>2019-10-04</th>\n",
       "      <td>141.479996</td>\n",
       "      <td>142.309998</td>\n",
       "      <td>141.139999</td>\n",
       "      <td>141.899994</td>\n",
       "      <td>141.899994</td>\n",
       "      <td>9651000</td>\n",
       "    </tr>\n",
       "    <tr>\n",
       "      <th>2019-10-07</th>\n",
       "      <td>141.160004</td>\n",
       "      <td>141.770004</td>\n",
       "      <td>140.240005</td>\n",
       "      <td>140.690002</td>\n",
       "      <td>140.690002</td>\n",
       "      <td>6127200</td>\n",
       "    </tr>\n",
       "  </tbody>\n",
       "</table>\n",
       "</div>"
      ],
      "text/plain": [
       "                  Open        High         Low       Close   Adj Close  \\\n",
       "Date                                                                     \n",
       "2019-10-01  138.070007  140.190002  137.800003  139.630005  139.630005   \n",
       "2019-10-02  140.789993  141.880005  140.460007  141.259995  141.259995   \n",
       "2019-10-03  141.360001  143.250000  141.289993  141.899994  141.899994   \n",
       "2019-10-04  141.479996  142.309998  141.139999  141.899994  141.899994   \n",
       "2019-10-07  141.160004  141.770004  140.240005  140.690002  140.690002   \n",
       "\n",
       "              Volume  \n",
       "Date                  \n",
       "2019-10-01  12476200  \n",
       "2019-10-02  11914300  \n",
       "2019-10-03  12396100  \n",
       "2019-10-04   9651000  \n",
       "2019-10-07   6127200  "
      ]
     },
     "execution_count": 6,
     "metadata": {},
     "output_type": "execute_result"
    }
   ],
   "source": [
    "gold_df.head()"
   ]
  },
  {
   "cell_type": "code",
   "execution_count": 7,
   "metadata": {},
   "outputs": [
    {
     "data": {
      "text/html": [
       "<div>\n",
       "<style scoped>\n",
       "    .dataframe tbody tr th:only-of-type {\n",
       "        vertical-align: middle;\n",
       "    }\n",
       "\n",
       "    .dataframe tbody tr th {\n",
       "        vertical-align: top;\n",
       "    }\n",
       "\n",
       "    .dataframe thead th {\n",
       "        text-align: right;\n",
       "    }\n",
       "</style>\n",
       "<table border=\"1\" class=\"dataframe\">\n",
       "  <thead>\n",
       "    <tr style=\"text-align: right;\">\n",
       "      <th></th>\n",
       "      <th>Open</th>\n",
       "      <th>High</th>\n",
       "      <th>Low</th>\n",
       "      <th>Close</th>\n",
       "      <th>Adj Close</th>\n",
       "      <th>Volume</th>\n",
       "    </tr>\n",
       "    <tr>\n",
       "      <th>Date</th>\n",
       "      <th></th>\n",
       "      <th></th>\n",
       "      <th></th>\n",
       "      <th></th>\n",
       "      <th></th>\n",
       "      <th></th>\n",
       "    </tr>\n",
       "  </thead>\n",
       "  <tbody>\n",
       "    <tr>\n",
       "      <th>2019-11-22</th>\n",
       "      <td>138.369995</td>\n",
       "      <td>138.460007</td>\n",
       "      <td>137.660004</td>\n",
       "      <td>137.740005</td>\n",
       "      <td>137.740005</td>\n",
       "      <td>3620300</td>\n",
       "    </tr>\n",
       "    <tr>\n",
       "      <th>2019-11-25</th>\n",
       "      <td>137.320007</td>\n",
       "      <td>137.619995</td>\n",
       "      <td>136.990005</td>\n",
       "      <td>137.080002</td>\n",
       "      <td>137.080002</td>\n",
       "      <td>6415800</td>\n",
       "    </tr>\n",
       "    <tr>\n",
       "      <th>2019-11-26</th>\n",
       "      <td>136.979996</td>\n",
       "      <td>137.800003</td>\n",
       "      <td>136.580002</td>\n",
       "      <td>137.740005</td>\n",
       "      <td>137.740005</td>\n",
       "      <td>4724400</td>\n",
       "    </tr>\n",
       "    <tr>\n",
       "      <th>2019-11-27</th>\n",
       "      <td>137.029999</td>\n",
       "      <td>137.210007</td>\n",
       "      <td>136.830002</td>\n",
       "      <td>137.009995</td>\n",
       "      <td>137.009995</td>\n",
       "      <td>4111000</td>\n",
       "    </tr>\n",
       "    <tr>\n",
       "      <th>2019-11-29</th>\n",
       "      <td>137.100006</td>\n",
       "      <td>138.130005</td>\n",
       "      <td>137.080002</td>\n",
       "      <td>137.860001</td>\n",
       "      <td>137.860001</td>\n",
       "      <td>4516400</td>\n",
       "    </tr>\n",
       "  </tbody>\n",
       "</table>\n",
       "</div>"
      ],
      "text/plain": [
       "                  Open        High         Low       Close   Adj Close  \\\n",
       "Date                                                                     \n",
       "2019-11-22  138.369995  138.460007  137.660004  137.740005  137.740005   \n",
       "2019-11-25  137.320007  137.619995  136.990005  137.080002  137.080002   \n",
       "2019-11-26  136.979996  137.800003  136.580002  137.740005  137.740005   \n",
       "2019-11-27  137.029999  137.210007  136.830002  137.009995  137.009995   \n",
       "2019-11-29  137.100006  138.130005  137.080002  137.860001  137.860001   \n",
       "\n",
       "             Volume  \n",
       "Date                 \n",
       "2019-11-22  3620300  \n",
       "2019-11-25  6415800  \n",
       "2019-11-26  4724400  \n",
       "2019-11-27  4111000  \n",
       "2019-11-29  4516400  "
      ]
     },
     "execution_count": 7,
     "metadata": {},
     "output_type": "execute_result"
    }
   ],
   "source": [
    "gold_df.tail()"
   ]
  },
  {
   "cell_type": "code",
   "execution_count": 8,
   "metadata": {},
   "outputs": [
    {
     "data": {
      "text/html": [
       "<div>\n",
       "<style scoped>\n",
       "    .dataframe tbody tr th:only-of-type {\n",
       "        vertical-align: middle;\n",
       "    }\n",
       "\n",
       "    .dataframe tbody tr th {\n",
       "        vertical-align: top;\n",
       "    }\n",
       "\n",
       "    .dataframe thead th {\n",
       "        text-align: right;\n",
       "    }\n",
       "</style>\n",
       "<table border=\"1\" class=\"dataframe\">\n",
       "  <thead>\n",
       "    <tr style=\"text-align: right;\">\n",
       "      <th></th>\n",
       "      <th>Open</th>\n",
       "      <th>High</th>\n",
       "      <th>Low</th>\n",
       "      <th>Close</th>\n",
       "      <th>Adj Close</th>\n",
       "      <th>Volume</th>\n",
       "    </tr>\n",
       "    <tr>\n",
       "      <th>Date</th>\n",
       "      <th></th>\n",
       "      <th></th>\n",
       "      <th></th>\n",
       "      <th></th>\n",
       "      <th></th>\n",
       "      <th></th>\n",
       "    </tr>\n",
       "  </thead>\n",
       "  <tbody>\n",
       "    <tr>\n",
       "      <th>2019-10-01</th>\n",
       "      <td>83.650002</td>\n",
       "      <td>83.650002</td>\n",
       "      <td>81.970001</td>\n",
       "      <td>81.989998</td>\n",
       "      <td>81.989998</td>\n",
       "      <td>0</td>\n",
       "    </tr>\n",
       "    <tr>\n",
       "      <th>2019-10-02</th>\n",
       "      <td>82.019997</td>\n",
       "      <td>82.019997</td>\n",
       "      <td>79.459999</td>\n",
       "      <td>79.500000</td>\n",
       "      <td>79.500000</td>\n",
       "      <td>0</td>\n",
       "    </tr>\n",
       "    <tr>\n",
       "      <th>2019-10-03</th>\n",
       "      <td>79.500000</td>\n",
       "      <td>79.500000</td>\n",
       "      <td>79.500000</td>\n",
       "      <td>79.500000</td>\n",
       "      <td>79.500000</td>\n",
       "      <td>0</td>\n",
       "    </tr>\n",
       "    <tr>\n",
       "      <th>2019-10-04</th>\n",
       "      <td>79.989998</td>\n",
       "      <td>80.699997</td>\n",
       "      <td>79.830002</td>\n",
       "      <td>80.699997</td>\n",
       "      <td>80.699997</td>\n",
       "      <td>0</td>\n",
       "    </tr>\n",
       "    <tr>\n",
       "      <th>2019-10-07</th>\n",
       "      <td>80.599998</td>\n",
       "      <td>81.320000</td>\n",
       "      <td>80.379997</td>\n",
       "      <td>81.320000</td>\n",
       "      <td>81.320000</td>\n",
       "      <td>0</td>\n",
       "    </tr>\n",
       "  </tbody>\n",
       "</table>\n",
       "</div>"
      ],
      "text/plain": [
       "                 Open       High        Low      Close  Adj Close  Volume\n",
       "Date                                                                     \n",
       "2019-10-01  83.650002  83.650002  81.970001  81.989998  81.989998       0\n",
       "2019-10-02  82.019997  82.019997  79.459999  79.500000  79.500000       0\n",
       "2019-10-03  79.500000  79.500000  79.500000  79.500000  79.500000       0\n",
       "2019-10-04  79.989998  80.699997  79.830002  80.699997  80.699997       0\n",
       "2019-10-07  80.599998  81.320000  80.379997  81.320000  81.320000       0"
      ]
     },
     "execution_count": 8,
     "metadata": {},
     "output_type": "execute_result"
    }
   ],
   "source": [
    "equity_df.head()"
   ]
  },
  {
   "cell_type": "code",
   "execution_count": 9,
   "metadata": {},
   "outputs": [
    {
     "data": {
      "text/html": [
       "<div>\n",
       "<style scoped>\n",
       "    .dataframe tbody tr th:only-of-type {\n",
       "        vertical-align: middle;\n",
       "    }\n",
       "\n",
       "    .dataframe tbody tr th {\n",
       "        vertical-align: top;\n",
       "    }\n",
       "\n",
       "    .dataframe thead th {\n",
       "        text-align: right;\n",
       "    }\n",
       "</style>\n",
       "<table border=\"1\" class=\"dataframe\">\n",
       "  <thead>\n",
       "    <tr style=\"text-align: right;\">\n",
       "      <th></th>\n",
       "      <th>Open</th>\n",
       "      <th>High</th>\n",
       "      <th>Low</th>\n",
       "      <th>Close</th>\n",
       "      <th>Adj Close</th>\n",
       "      <th>Volume</th>\n",
       "    </tr>\n",
       "    <tr>\n",
       "      <th>Date</th>\n",
       "      <th></th>\n",
       "      <th></th>\n",
       "      <th></th>\n",
       "      <th></th>\n",
       "      <th></th>\n",
       "      <th></th>\n",
       "    </tr>\n",
       "  </thead>\n",
       "  <tbody>\n",
       "    <tr>\n",
       "      <th>2019-11-25</th>\n",
       "      <td>87.099998</td>\n",
       "      <td>87.180000</td>\n",
       "      <td>86.930000</td>\n",
       "      <td>87.129997</td>\n",
       "      <td>87.129997</td>\n",
       "      <td>0</td>\n",
       "    </tr>\n",
       "    <tr>\n",
       "      <th>2019-11-26</th>\n",
       "      <td>87.180000</td>\n",
       "      <td>87.349998</td>\n",
       "      <td>87.180000</td>\n",
       "      <td>87.279999</td>\n",
       "      <td>87.279999</td>\n",
       "      <td>0</td>\n",
       "    </tr>\n",
       "    <tr>\n",
       "      <th>2019-11-27</th>\n",
       "      <td>87.209999</td>\n",
       "      <td>87.500000</td>\n",
       "      <td>87.120003</td>\n",
       "      <td>87.169998</td>\n",
       "      <td>87.169998</td>\n",
       "      <td>0</td>\n",
       "    </tr>\n",
       "    <tr>\n",
       "      <th>2019-11-28</th>\n",
       "      <td>86.930000</td>\n",
       "      <td>87.059998</td>\n",
       "      <td>86.910004</td>\n",
       "      <td>86.970001</td>\n",
       "      <td>86.970001</td>\n",
       "      <td>0</td>\n",
       "    </tr>\n",
       "    <tr>\n",
       "      <th>2019-11-29</th>\n",
       "      <td>86.709999</td>\n",
       "      <td>87.199997</td>\n",
       "      <td>86.650002</td>\n",
       "      <td>86.669998</td>\n",
       "      <td>86.669998</td>\n",
       "      <td>0</td>\n",
       "    </tr>\n",
       "  </tbody>\n",
       "</table>\n",
       "</div>"
      ],
      "text/plain": [
       "                 Open       High        Low      Close  Adj Close  Volume\n",
       "Date                                                                     \n",
       "2019-11-25  87.099998  87.180000  86.930000  87.129997  87.129997       0\n",
       "2019-11-26  87.180000  87.349998  87.180000  87.279999  87.279999       0\n",
       "2019-11-27  87.209999  87.500000  87.120003  87.169998  87.169998       0\n",
       "2019-11-28  86.930000  87.059998  86.910004  86.970001  86.970001       0\n",
       "2019-11-29  86.709999  87.199997  86.650002  86.669998  86.669998       0"
      ]
     },
     "execution_count": 9,
     "metadata": {},
     "output_type": "execute_result"
    }
   ],
   "source": [
    "equity_df.tail()"
   ]
  },
  {
   "cell_type": "markdown",
   "metadata": {},
   "source": [
    "One notable difference between gold and equity prices is that we have prices for gold ETF every day of a week while we don't have prices for equity ETF for weekends (Saturday and Sunday). In order to make the analysis comparable, we will drop the prices of gold ETF on Saturday and Sunday before making further preprocessing and analysis."
   ]
  },
  {
   "cell_type": "markdown",
   "metadata": {},
   "source": [
    "Another difference is that November 28, 2019 is a Bank Holiday in the US market and we don't have the data that day for the gold ETF. In order to calculate the Pearson correlation, we will also drop the data of that day for the equity market to have two time series with the same length."
   ]
  },
  {
   "cell_type": "code",
   "execution_count": 10,
   "metadata": {},
   "outputs": [
    {
     "data": {
      "text/plain": [
       "(43, 6)"
      ]
     },
     "execution_count": 10,
     "metadata": {},
     "output_type": "execute_result"
    }
   ],
   "source": [
    "gold_df = gold_df[gold_df.index.dayofweek < 5]\n",
    "gold_df.shape"
   ]
  },
  {
   "cell_type": "code",
   "execution_count": 11,
   "metadata": {},
   "outputs": [
    {
     "data": {
      "text/plain": [
       "(43, 6)"
      ]
     },
     "execution_count": 11,
     "metadata": {},
     "output_type": "execute_result"
    }
   ],
   "source": [
    "equity_df = equity_df[equity_df.index != \"2019-11-28\"]\n",
    "equity_df.shape"
   ]
  },
  {
   "cell_type": "markdown",
   "metadata": {},
   "source": [
    "# 2. Data Processing"
   ]
  },
  {
   "cell_type": "markdown",
   "metadata": {},
   "source": [
    "We use adjusted close prices to calculate the daily returns. Adjusted close prices are the prices that already take into account stock split and dividends, which reflex more accurate the change of the prices."
   ]
  },
  {
   "cell_type": "code",
   "execution_count": 12,
   "metadata": {},
   "outputs": [
    {
     "data": {
      "text/html": [
       "<div>\n",
       "<style scoped>\n",
       "    .dataframe tbody tr th:only-of-type {\n",
       "        vertical-align: middle;\n",
       "    }\n",
       "\n",
       "    .dataframe tbody tr th {\n",
       "        vertical-align: top;\n",
       "    }\n",
       "\n",
       "    .dataframe thead th {\n",
       "        text-align: right;\n",
       "    }\n",
       "</style>\n",
       "<table border=\"1\" class=\"dataframe\">\n",
       "  <thead>\n",
       "    <tr style=\"text-align: right;\">\n",
       "      <th></th>\n",
       "      <th>Open</th>\n",
       "      <th>High</th>\n",
       "      <th>Low</th>\n",
       "      <th>Close</th>\n",
       "      <th>Adj Close</th>\n",
       "      <th>Volume</th>\n",
       "      <th>Daily Return</th>\n",
       "    </tr>\n",
       "    <tr>\n",
       "      <th>Date</th>\n",
       "      <th></th>\n",
       "      <th></th>\n",
       "      <th></th>\n",
       "      <th></th>\n",
       "      <th></th>\n",
       "      <th></th>\n",
       "      <th></th>\n",
       "    </tr>\n",
       "  </thead>\n",
       "  <tbody>\n",
       "    <tr>\n",
       "      <th>2019-10-01</th>\n",
       "      <td>138.070007</td>\n",
       "      <td>140.190002</td>\n",
       "      <td>137.800003</td>\n",
       "      <td>139.630005</td>\n",
       "      <td>139.630005</td>\n",
       "      <td>12476200</td>\n",
       "      <td>NaN</td>\n",
       "    </tr>\n",
       "    <tr>\n",
       "      <th>2019-10-02</th>\n",
       "      <td>140.789993</td>\n",
       "      <td>141.880005</td>\n",
       "      <td>140.460007</td>\n",
       "      <td>141.259995</td>\n",
       "      <td>141.259995</td>\n",
       "      <td>11914300</td>\n",
       "      <td>0.011674</td>\n",
       "    </tr>\n",
       "    <tr>\n",
       "      <th>2019-10-03</th>\n",
       "      <td>141.360001</td>\n",
       "      <td>143.250000</td>\n",
       "      <td>141.289993</td>\n",
       "      <td>141.899994</td>\n",
       "      <td>141.899994</td>\n",
       "      <td>12396100</td>\n",
       "      <td>0.004531</td>\n",
       "    </tr>\n",
       "    <tr>\n",
       "      <th>2019-10-04</th>\n",
       "      <td>141.479996</td>\n",
       "      <td>142.309998</td>\n",
       "      <td>141.139999</td>\n",
       "      <td>141.899994</td>\n",
       "      <td>141.899994</td>\n",
       "      <td>9651000</td>\n",
       "      <td>0.000000</td>\n",
       "    </tr>\n",
       "    <tr>\n",
       "      <th>2019-10-07</th>\n",
       "      <td>141.160004</td>\n",
       "      <td>141.770004</td>\n",
       "      <td>140.240005</td>\n",
       "      <td>140.690002</td>\n",
       "      <td>140.690002</td>\n",
       "      <td>6127200</td>\n",
       "      <td>-0.008527</td>\n",
       "    </tr>\n",
       "  </tbody>\n",
       "</table>\n",
       "</div>"
      ],
      "text/plain": [
       "                  Open        High         Low       Close   Adj Close  \\\n",
       "Date                                                                     \n",
       "2019-10-01  138.070007  140.190002  137.800003  139.630005  139.630005   \n",
       "2019-10-02  140.789993  141.880005  140.460007  141.259995  141.259995   \n",
       "2019-10-03  141.360001  143.250000  141.289993  141.899994  141.899994   \n",
       "2019-10-04  141.479996  142.309998  141.139999  141.899994  141.899994   \n",
       "2019-10-07  141.160004  141.770004  140.240005  140.690002  140.690002   \n",
       "\n",
       "              Volume  Daily Return  \n",
       "Date                                \n",
       "2019-10-01  12476200           NaN  \n",
       "2019-10-02  11914300      0.011674  \n",
       "2019-10-03  12396100      0.004531  \n",
       "2019-10-04   9651000      0.000000  \n",
       "2019-10-07   6127200     -0.008527  "
      ]
     },
     "execution_count": 12,
     "metadata": {},
     "output_type": "execute_result"
    }
   ],
   "source": [
    "gold_df[\"Daily Return\"] = gold_df[\"Adj Close\"].pct_change(1)\n",
    "gold_df.head()"
   ]
  },
  {
   "cell_type": "code",
   "execution_count": 13,
   "metadata": {},
   "outputs": [
    {
     "data": {
      "text/html": [
       "<div>\n",
       "<style scoped>\n",
       "    .dataframe tbody tr th:only-of-type {\n",
       "        vertical-align: middle;\n",
       "    }\n",
       "\n",
       "    .dataframe tbody tr th {\n",
       "        vertical-align: top;\n",
       "    }\n",
       "\n",
       "    .dataframe thead th {\n",
       "        text-align: right;\n",
       "    }\n",
       "</style>\n",
       "<table border=\"1\" class=\"dataframe\">\n",
       "  <thead>\n",
       "    <tr style=\"text-align: right;\">\n",
       "      <th></th>\n",
       "      <th>Open</th>\n",
       "      <th>High</th>\n",
       "      <th>Low</th>\n",
       "      <th>Close</th>\n",
       "      <th>Adj Close</th>\n",
       "      <th>Volume</th>\n",
       "      <th>Daily Return</th>\n",
       "    </tr>\n",
       "    <tr>\n",
       "      <th>Date</th>\n",
       "      <th></th>\n",
       "      <th></th>\n",
       "      <th></th>\n",
       "      <th></th>\n",
       "      <th></th>\n",
       "      <th></th>\n",
       "      <th></th>\n",
       "    </tr>\n",
       "  </thead>\n",
       "  <tbody>\n",
       "    <tr>\n",
       "      <th>2019-10-01</th>\n",
       "      <td>83.650002</td>\n",
       "      <td>83.650002</td>\n",
       "      <td>81.970001</td>\n",
       "      <td>81.989998</td>\n",
       "      <td>81.989998</td>\n",
       "      <td>0</td>\n",
       "      <td>NaN</td>\n",
       "    </tr>\n",
       "    <tr>\n",
       "      <th>2019-10-02</th>\n",
       "      <td>82.019997</td>\n",
       "      <td>82.019997</td>\n",
       "      <td>79.459999</td>\n",
       "      <td>79.500000</td>\n",
       "      <td>79.500000</td>\n",
       "      <td>0</td>\n",
       "      <td>-0.030370</td>\n",
       "    </tr>\n",
       "    <tr>\n",
       "      <th>2019-10-03</th>\n",
       "      <td>79.500000</td>\n",
       "      <td>79.500000</td>\n",
       "      <td>79.500000</td>\n",
       "      <td>79.500000</td>\n",
       "      <td>79.500000</td>\n",
       "      <td>0</td>\n",
       "      <td>0.000000</td>\n",
       "    </tr>\n",
       "    <tr>\n",
       "      <th>2019-10-04</th>\n",
       "      <td>79.989998</td>\n",
       "      <td>80.699997</td>\n",
       "      <td>79.830002</td>\n",
       "      <td>80.699997</td>\n",
       "      <td>80.699997</td>\n",
       "      <td>0</td>\n",
       "      <td>0.015094</td>\n",
       "    </tr>\n",
       "    <tr>\n",
       "      <th>2019-10-07</th>\n",
       "      <td>80.599998</td>\n",
       "      <td>81.320000</td>\n",
       "      <td>80.379997</td>\n",
       "      <td>81.320000</td>\n",
       "      <td>81.320000</td>\n",
       "      <td>0</td>\n",
       "      <td>0.007683</td>\n",
       "    </tr>\n",
       "  </tbody>\n",
       "</table>\n",
       "</div>"
      ],
      "text/plain": [
       "                 Open       High        Low      Close  Adj Close  Volume  \\\n",
       "Date                                                                        \n",
       "2019-10-01  83.650002  83.650002  81.970001  81.989998  81.989998       0   \n",
       "2019-10-02  82.019997  82.019997  79.459999  79.500000  79.500000       0   \n",
       "2019-10-03  79.500000  79.500000  79.500000  79.500000  79.500000       0   \n",
       "2019-10-04  79.989998  80.699997  79.830002  80.699997  80.699997       0   \n",
       "2019-10-07  80.599998  81.320000  80.379997  81.320000  81.320000       0   \n",
       "\n",
       "            Daily Return  \n",
       "Date                      \n",
       "2019-10-01           NaN  \n",
       "2019-10-02     -0.030370  \n",
       "2019-10-03      0.000000  \n",
       "2019-10-04      0.015094  \n",
       "2019-10-07      0.007683  "
      ]
     },
     "execution_count": 13,
     "metadata": {},
     "output_type": "execute_result"
    }
   ],
   "source": [
    "equity_df[\"Daily Return\"] = equity_df[\"Adj Close\"].pct_change(1)\n",
    "equity_df.head()"
   ]
  },
  {
   "cell_type": "markdown",
   "metadata": {},
   "source": [
    "# 3. Data Summaries"
   ]
  },
  {
   "cell_type": "markdown",
   "metadata": {},
   "source": [
    "The value at 2019-10-31 is the statistic for the whole October, likewise, the value at 2019-11-30 is the statistic for November."
   ]
  },
  {
   "cell_type": "markdown",
   "metadata": {},
   "source": [
    "The daily high minus low and the required statistics of part 7 will also be presented here."
   ]
  },
  {
   "cell_type": "code",
   "execution_count": 14,
   "metadata": {},
   "outputs": [
    {
     "name": "stdout",
     "output_type": "stream",
     "text": [
      "Average October Yield is \n",
      " 2 Year Price    1.551385\n",
      "3 Year Price     1.527154\n",
      "5 Year Price     1.525115\n",
      "7 Year Price     1.614000\n",
      "10 Year Price    1.701423\n",
      "30 Year Price    2.187269\n",
      "dtype: float64\n",
      "\n",
      "Average November Yield is \n",
      " 2 Year Price    1.616750\n",
      "3 Year Price     1.618042\n",
      "5 Year Price     1.641167\n",
      "7 Year Price     1.736833\n",
      "10 Year Price    1.811625\n",
      "30 Year Price    2.276708\n",
      "dtype: float64\n"
     ]
    }
   ],
   "source": [
    "# 3.1\n",
    "df_Oct = treasury_Yield_df[treasury_Yield_df['Date'].str.contains(\"Oct\")]\n",
    "average_yield_Oct = np.mean(df_Oct)\n",
    "print(\"Average October Yield is \\n{}\\n\".format(average_yield_Oct))\n",
    "\n",
    "df_Nov = treasury_Yield_df[treasury_Yield_df['Date'].str.contains(\"Nov\")]\n",
    "average_yield_Nov = np.mean(df_Nov)\n",
    "print(\"Average November Yield is \\n{}\".format(average_yield_Nov))"
   ]
  },
  {
   "cell_type": "code",
   "execution_count": 15,
   "metadata": {},
   "outputs": [
    {
     "name": "stdout",
     "output_type": "stream",
     "text": [
      "Standard Deviation for October Yield is \n",
      " 2 Year Price    0.079354\n",
      "3 Year Price     0.094165\n",
      "5 Year Price     0.101524\n",
      "7 Year Price     0.098831\n",
      "10 Year Price    0.102293\n",
      "30 Year Price    0.101143\n",
      "dtype: float64\n",
      "\n",
      "Standard Deviation for November Yield is \n",
      " 2 Year Price    0.033516\n",
      "3 Year Price     0.044156\n",
      "5 Year Price     0.054878\n",
      "7 Year Price     0.062000\n",
      "10 Year Price    0.067403\n",
      "30 Year Price    0.079564\n",
      "dtype: float64\n"
     ]
    }
   ],
   "source": [
    "st_dev_Oct = np.std(df_Oct)\n",
    "st_dev_NoV = np.std(df_Nov)\n",
    "print(\"Standard Deviation for October Yield is \\n{}\\n\".format(st_dev_Oct))\n",
    "print(\"Standard Deviation for November Yield is \\n{}\".format(st_dev_NoV))"
   ]
  },
  {
   "cell_type": "code",
   "execution_count": 16,
   "metadata": {},
   "outputs": [],
   "source": [
    "gold_df[\"High minus low\"] = gold_df[\"High\"] - gold_df[\"Low\"]\n",
    "equity_df[\"High minus low\"] = equity_df[\"High\"] - equity_df[\"Low\"]"
   ]
  },
  {
   "cell_type": "code",
   "execution_count": 17,
   "metadata": {},
   "outputs": [
    {
     "data": {
      "text/html": [
       "<div>\n",
       "<style scoped>\n",
       "    .dataframe tbody tr th:only-of-type {\n",
       "        vertical-align: middle;\n",
       "    }\n",
       "\n",
       "    .dataframe tbody tr th {\n",
       "        vertical-align: top;\n",
       "    }\n",
       "\n",
       "    .dataframe thead th {\n",
       "        text-align: right;\n",
       "    }\n",
       "</style>\n",
       "<table border=\"1\" class=\"dataframe\">\n",
       "  <thead>\n",
       "    <tr style=\"text-align: right;\">\n",
       "      <th></th>\n",
       "      <th>Open</th>\n",
       "      <th>High</th>\n",
       "      <th>Low</th>\n",
       "      <th>Close</th>\n",
       "      <th>Adj Close</th>\n",
       "      <th>Volume</th>\n",
       "      <th>Daily Return</th>\n",
       "      <th>High minus low</th>\n",
       "    </tr>\n",
       "    <tr>\n",
       "      <th>Date</th>\n",
       "      <th></th>\n",
       "      <th></th>\n",
       "      <th></th>\n",
       "      <th></th>\n",
       "      <th></th>\n",
       "      <th></th>\n",
       "      <th></th>\n",
       "      <th></th>\n",
       "    </tr>\n",
       "  </thead>\n",
       "  <tbody>\n",
       "    <tr>\n",
       "      <th>2019-10-31</th>\n",
       "      <td>140.847391</td>\n",
       "      <td>141.384349</td>\n",
       "      <td>140.303043</td>\n",
       "      <td>140.874782</td>\n",
       "      <td>140.874782</td>\n",
       "      <td>7.757257e+06</td>\n",
       "      <td>0.000921</td>\n",
       "      <td>1.081305</td>\n",
       "    </tr>\n",
       "    <tr>\n",
       "      <th>2019-11-30</th>\n",
       "      <td>138.611500</td>\n",
       "      <td>139.056000</td>\n",
       "      <td>138.083502</td>\n",
       "      <td>138.570500</td>\n",
       "      <td>138.570500</td>\n",
       "      <td>6.961465e+06</td>\n",
       "      <td>-0.001611</td>\n",
       "      <td>0.972498</td>\n",
       "    </tr>\n",
       "  </tbody>\n",
       "</table>\n",
       "</div>"
      ],
      "text/plain": [
       "                  Open        High         Low       Close   Adj Close  \\\n",
       "Date                                                                     \n",
       "2019-10-31  140.847391  141.384349  140.303043  140.874782  140.874782   \n",
       "2019-11-30  138.611500  139.056000  138.083502  138.570500  138.570500   \n",
       "\n",
       "                  Volume  Daily Return  High minus low  \n",
       "Date                                                    \n",
       "2019-10-31  7.757257e+06      0.000921        1.081305  \n",
       "2019-11-30  6.961465e+06     -0.001611        0.972498  "
      ]
     },
     "execution_count": 17,
     "metadata": {},
     "output_type": "execute_result"
    }
   ],
   "source": [
    "gold_df.resample('M').mean()"
   ]
  },
  {
   "cell_type": "code",
   "execution_count": 18,
   "metadata": {},
   "outputs": [
    {
     "data": {
      "text/html": [
       "<div>\n",
       "<style scoped>\n",
       "    .dataframe tbody tr th:only-of-type {\n",
       "        vertical-align: middle;\n",
       "    }\n",
       "\n",
       "    .dataframe tbody tr th {\n",
       "        vertical-align: top;\n",
       "    }\n",
       "\n",
       "    .dataframe thead th {\n",
       "        text-align: right;\n",
       "    }\n",
       "</style>\n",
       "<table border=\"1\" class=\"dataframe\">\n",
       "  <thead>\n",
       "    <tr style=\"text-align: right;\">\n",
       "      <th></th>\n",
       "      <th>Open</th>\n",
       "      <th>High</th>\n",
       "      <th>Low</th>\n",
       "      <th>Close</th>\n",
       "      <th>Adj Close</th>\n",
       "      <th>Volume</th>\n",
       "      <th>Daily Return</th>\n",
       "      <th>High minus low</th>\n",
       "    </tr>\n",
       "    <tr>\n",
       "      <th>Date</th>\n",
       "      <th></th>\n",
       "      <th></th>\n",
       "      <th></th>\n",
       "      <th></th>\n",
       "      <th></th>\n",
       "      <th></th>\n",
       "      <th></th>\n",
       "      <th></th>\n",
       "    </tr>\n",
       "  </thead>\n",
       "  <tbody>\n",
       "    <tr>\n",
       "      <th>2019-10-31</th>\n",
       "      <td>82.614347</td>\n",
       "      <td>82.982173</td>\n",
       "      <td>82.206957</td>\n",
       "      <td>82.605217</td>\n",
       "      <td>82.605217</td>\n",
       "      <td>2.0</td>\n",
       "      <td>0.001231</td>\n",
       "      <td>0.775217</td>\n",
       "    </tr>\n",
       "    <tr>\n",
       "      <th>2019-11-30</th>\n",
       "      <td>86.508500</td>\n",
       "      <td>86.817500</td>\n",
       "      <td>86.339501</td>\n",
       "      <td>86.609000</td>\n",
       "      <td>86.609000</td>\n",
       "      <td>5.1</td>\n",
       "      <td>0.001485</td>\n",
       "      <td>0.477999</td>\n",
       "    </tr>\n",
       "  </tbody>\n",
       "</table>\n",
       "</div>"
      ],
      "text/plain": [
       "                 Open       High        Low      Close  Adj Close  Volume  \\\n",
       "Date                                                                        \n",
       "2019-10-31  82.614347  82.982173  82.206957  82.605217  82.605217     2.0   \n",
       "2019-11-30  86.508500  86.817500  86.339501  86.609000  86.609000     5.1   \n",
       "\n",
       "            Daily Return  High minus low  \n",
       "Date                                      \n",
       "2019-10-31      0.001231        0.775217  \n",
       "2019-11-30      0.001485        0.477999  "
      ]
     },
     "execution_count": 18,
     "metadata": {},
     "output_type": "execute_result"
    }
   ],
   "source": [
    "equity_df.resample('M').mean()"
   ]
  },
  {
   "cell_type": "code",
   "execution_count": 19,
   "metadata": {},
   "outputs": [
    {
     "data": {
      "text/html": [
       "<div>\n",
       "<style scoped>\n",
       "    .dataframe tbody tr th:only-of-type {\n",
       "        vertical-align: middle;\n",
       "    }\n",
       "\n",
       "    .dataframe tbody tr th {\n",
       "        vertical-align: top;\n",
       "    }\n",
       "\n",
       "    .dataframe thead th {\n",
       "        text-align: right;\n",
       "    }\n",
       "</style>\n",
       "<table border=\"1\" class=\"dataframe\">\n",
       "  <thead>\n",
       "    <tr style=\"text-align: right;\">\n",
       "      <th></th>\n",
       "      <th>Open</th>\n",
       "      <th>High</th>\n",
       "      <th>Low</th>\n",
       "      <th>Close</th>\n",
       "      <th>Adj Close</th>\n",
       "      <th>Volume</th>\n",
       "      <th>Daily Return</th>\n",
       "      <th>High minus low</th>\n",
       "    </tr>\n",
       "    <tr>\n",
       "      <th>Date</th>\n",
       "      <th></th>\n",
       "      <th></th>\n",
       "      <th></th>\n",
       "      <th></th>\n",
       "      <th></th>\n",
       "      <th></th>\n",
       "      <th></th>\n",
       "      <th></th>\n",
       "    </tr>\n",
       "  </thead>\n",
       "  <tbody>\n",
       "    <tr>\n",
       "      <th>2019-10-31</th>\n",
       "      <td>0.972620</td>\n",
       "      <td>0.929309</td>\n",
       "      <td>0.950674</td>\n",
       "      <td>0.831229</td>\n",
       "      <td>0.831229</td>\n",
       "      <td>2.804327e+06</td>\n",
       "      <td>0.006173</td>\n",
       "      <td>0.479405</td>\n",
       "    </tr>\n",
       "    <tr>\n",
       "      <th>2019-11-30</th>\n",
       "      <td>1.618235</td>\n",
       "      <td>1.588269</td>\n",
       "      <td>1.585444</td>\n",
       "      <td>1.562095</td>\n",
       "      <td>1.562095</td>\n",
       "      <td>2.994154e+06</td>\n",
       "      <td>0.006188</td>\n",
       "      <td>0.492552</td>\n",
       "    </tr>\n",
       "  </tbody>\n",
       "</table>\n",
       "</div>"
      ],
      "text/plain": [
       "                Open      High       Low     Close  Adj Close        Volume  \\\n",
       "Date                                                                          \n",
       "2019-10-31  0.972620  0.929309  0.950674  0.831229   0.831229  2.804327e+06   \n",
       "2019-11-30  1.618235  1.588269  1.585444  1.562095   1.562095  2.994154e+06   \n",
       "\n",
       "            Daily Return  High minus low  \n",
       "Date                                      \n",
       "2019-10-31      0.006173        0.479405  \n",
       "2019-11-30      0.006188        0.492552  "
      ]
     },
     "execution_count": 19,
     "metadata": {},
     "output_type": "execute_result"
    }
   ],
   "source": [
    "gold_df.resample('M').std()"
   ]
  },
  {
   "cell_type": "code",
   "execution_count": 20,
   "metadata": {},
   "outputs": [
    {
     "data": {
      "text/html": [
       "<div>\n",
       "<style scoped>\n",
       "    .dataframe tbody tr th:only-of-type {\n",
       "        vertical-align: middle;\n",
       "    }\n",
       "\n",
       "    .dataframe tbody tr th {\n",
       "        vertical-align: top;\n",
       "    }\n",
       "\n",
       "    .dataframe thead th {\n",
       "        text-align: right;\n",
       "    }\n",
       "</style>\n",
       "<table border=\"1\" class=\"dataframe\">\n",
       "  <thead>\n",
       "    <tr style=\"text-align: right;\">\n",
       "      <th></th>\n",
       "      <th>Open</th>\n",
       "      <th>High</th>\n",
       "      <th>Low</th>\n",
       "      <th>Close</th>\n",
       "      <th>Adj Close</th>\n",
       "      <th>Volume</th>\n",
       "      <th>Daily Return</th>\n",
       "      <th>High minus low</th>\n",
       "    </tr>\n",
       "    <tr>\n",
       "      <th>Date</th>\n",
       "      <th></th>\n",
       "      <th></th>\n",
       "      <th></th>\n",
       "      <th></th>\n",
       "      <th></th>\n",
       "      <th></th>\n",
       "      <th></th>\n",
       "      <th></th>\n",
       "    </tr>\n",
       "  </thead>\n",
       "  <tbody>\n",
       "    <tr>\n",
       "      <th>2019-10-31</th>\n",
       "      <td>1.501841</td>\n",
       "      <td>1.432122</td>\n",
       "      <td>1.584090</td>\n",
       "      <td>1.552722</td>\n",
       "      <td>1.552722</td>\n",
       "      <td>9.591663</td>\n",
       "      <td>0.010074</td>\n",
       "      <td>0.533521</td>\n",
       "    </tr>\n",
       "    <tr>\n",
       "      <th>2019-11-30</th>\n",
       "      <td>0.756392</td>\n",
       "      <td>0.679898</td>\n",
       "      <td>0.697564</td>\n",
       "      <td>0.629928</td>\n",
       "      <td>0.629928</td>\n",
       "      <td>22.341606</td>\n",
       "      <td>0.004221</td>\n",
       "      <td>0.182428</td>\n",
       "    </tr>\n",
       "  </tbody>\n",
       "</table>\n",
       "</div>"
      ],
      "text/plain": [
       "                Open      High       Low     Close  Adj Close     Volume  \\\n",
       "Date                                                                       \n",
       "2019-10-31  1.501841  1.432122  1.584090  1.552722   1.552722   9.591663   \n",
       "2019-11-30  0.756392  0.679898  0.697564  0.629928   0.629928  22.341606   \n",
       "\n",
       "            Daily Return  High minus low  \n",
       "Date                                      \n",
       "2019-10-31      0.010074        0.533521  \n",
       "2019-11-30      0.004221        0.182428  "
      ]
     },
     "execution_count": 20,
     "metadata": {},
     "output_type": "execute_result"
    }
   ],
   "source": [
    "equity_df.resample('M').std()"
   ]
  },
  {
   "cell_type": "markdown",
   "metadata": {},
   "source": [
    "# 4. Graphing"
   ]
  },
  {
   "cell_type": "code",
   "execution_count": 21,
   "metadata": {},
   "outputs": [
    {
     "data": {
      "text/plain": [
       "<AxesSubplot:xlabel='Date'>"
      ]
     },
     "execution_count": 21,
     "metadata": {},
     "output_type": "execute_result"
    },
    {
     "data": {
      "image/png": "[encoded data removed]",
      "text/plain": [
       "<Figure size 720x360 with 1 Axes>"
      ]
     },
     "metadata": {
      "needs_background": "light"
     },
     "output_type": "display_data"
    }
   ],
   "source": [
    "treasury_Yield_df.set_index('Date').plot(figsize=(10,5), grid=True)"
   ]
  },
  {
   "cell_type": "code",
   "execution_count": 22,
   "metadata": {},
   "outputs": [
    {
     "data": {
      "image/png": "[encoded data removed]",
      "text/plain": [
       "<Figure size 864x360 with 2 Axes>"
      ]
     },
     "metadata": {
      "needs_background": "light"
     },
     "output_type": "display_data"
    }
   ],
   "source": [
    "plt.figure(figsize=(12,5))\n",
    "plt.title('The prices of gold ETF (in USD) and equity ETF (in EUR) in October and November 2019')\n",
    "\n",
    "ax1 = gold_df[\"Adj Close\"].plot(color='blue', grid=True, label='gold ETF')\n",
    "ax2 = equity_df[\"Adj Close\"].plot(color='red', grid=True, secondary_y=True, label='equity ETF')\n",
    "\n",
    "h1, l1 = ax1.get_legend_handles_labels()\n",
    "h2, l2 = ax2.get_legend_handles_labels()\n",
    "\n",
    "plt.legend(h1+h2, l1+l2, loc=2)\n",
    "plt.show()"
   ]
  },
  {
   "cell_type": "markdown",
   "metadata": {},
   "source": [
    "# 5. Fitting the yield curve"
   ]
  },
  {
   "cell_type": "code",
   "execution_count": 23,
   "metadata": {},
   "outputs": [
    {
     "name": "stdout",
     "output_type": "stream",
     "text": [
      "NelsonSiegelSvenssonCurve(beta0=2.6460791130382035, beta1=-0.7093417256161145, beta2=-1.3222551460581986, beta3=-2.0635765939331834, tau1=1.623812678632114, tau2=5.1802674914969495)\n"
     ]
    },
    {
     "data": {
      "image/png": "[encoded data removed]",
      "text/plain": [
       "<Figure size 432x288 with 1 Axes>"
      ]
     },
     "metadata": {
      "needs_background": "light"
     },
     "output_type": "display_data"
    },
    {
     "name": "stdout",
     "output_type": "stream",
     "text": [
      "NelsonSiegelSvenssonCurve(beta0=10.879352874378485, beta1=-9.009894707767838, beta2=-6.180607863551855, beta3=-23.274176147109095, tau1=3.281215882994119, tau2=17.34347054296074)\n"
     ]
    },
    {
     "data": {
      "image/png": "[encoded data removed]",
      "text/plain": [
       "<Figure size 432x288 with 1 Axes>"
      ]
     },
     "metadata": {
      "needs_background": "light"
     },
     "output_type": "display_data"
    }
   ],
   "source": [
    "t =np.array([2.0,3.0,5.0,7.0,10.0,30.0])\n",
    "#avarage yield rate for October \n",
    "y = np.array([1.551385,1.527154,1.525115,1.614000,1.701423,2.187269])\n",
    "\n",
    "curve_fit, status = calibrate_nss_ols(t,y)\n",
    "NSS_ZC = NelsonSiegelSvenssonCurve.zero(curve_fit,t)\n",
    "NSS_ZC\n",
    "\n",
    "Oct_curve, status = calibrate_nss_ols(t,NSS_ZC)\n",
    "assert status.success\n",
    "print(Oct_curve)\n",
    "\n",
    "t = np.linspace(0,20,100)\n",
    "plt.plot(t,Oct_curve(t))\n",
    "plt.show()\n",
    "\n",
    "#avarage yield rate for November \n",
    "t =np.array([2.0,3.0,5.0,7.0,10.0,30.0])\n",
    "y = np.array([1.616750,1.618042,1.641167,1.736833,1.811625,2.276708])\n",
    "\n",
    "curve_fit, status = calibrate_nss_ols(t,y)\n",
    "NSS_ZC = NelsonSiegelSvenssonCurve.zero(curve_fit,t)\n",
    "NSS_ZC\n",
    "\n",
    "Nov_curve, status = calibrate_nss_ols(t,NSS_ZC)\n",
    "assert status.success\n",
    "print(Nov_curve)\n",
    "\n",
    "t = np.linspace(0,20,100)\n",
    "plt.plot(t,Nov_curve(t))\n",
    "plt.show()\n"
   ]
  },
  {
   "cell_type": "markdown",
   "metadata": {},
   "source": [
    "# 6. Modelling Prices"
   ]
  },
  {
   "cell_type": "code",
   "execution_count": 24,
   "metadata": {},
   "outputs": [],
   "source": [
    "def get_data(df, month, column):\n",
    "    return df[(df.index >= f\"2019-{month:02d}-01\") & (df.index < f\"2019-{(month+1):02d}-01\")][column]"
   ]
  },
  {
   "cell_type": "markdown",
   "metadata": {},
   "source": [
    "ARMA model is a specific case of ARIMA model with i = 0, that allows us to use the ARIMA model here."
   ]
  },
  {
   "cell_type": "code",
   "execution_count": 25,
   "metadata": {},
   "outputs": [],
   "source": [
    "def fit_arima(data):\n",
    "    model = ARIMA(data, order=(3,0,3))\n",
    "    model_fit = model.fit()\n",
    "    print(model_fit.summary())\n",
    "    residuals = pd.DataFrame(model_fit.resid)\n",
    "    ax1 = residuals.plot(label='residual')\n",
    "    plt.title(\"Residuals during the month\")\n",
    "    ax1.get_legend().remove()\n",
    "    plt.show()\n",
    "    ax2 = residuals.plot(kind='kde')\n",
    "    plt.title(\"Kernel density estimation of the residuals\")\n",
    "    ax2.get_legend().remove()\n",
    "    plt.show()"
   ]
  },
  {
   "cell_type": "code",
   "execution_count": 26,
   "metadata": {
    "scrolled": false
   },
   "outputs": [
    {
     "name": "stdout",
     "output_type": "stream",
     "text": [
      "------------------------------------------------------------------------------\n",
      "------------------------------------------------------------------------------\n",
      "------------------------------------------------------------------------------\n",
      "ARMA model for gold ETF in October\n"
     ]
    },
    {
     "name": "stderr",
     "output_type": "stream",
     "text": [
      "C:\\Python38\\lib\\site-packages\\statsmodels\\tsa\\base\\tsa_model.py:524: ValueWarning: No frequency information was provided, so inferred frequency B will be used.\n",
      "  warnings.warn('No frequency information was'\n",
      "C:\\Python38\\lib\\site-packages\\statsmodels\\tsa\\base\\tsa_model.py:524: ValueWarning: No frequency information was provided, so inferred frequency B will be used.\n",
      "  warnings.warn('No frequency information was'\n",
      "C:\\Python38\\lib\\site-packages\\statsmodels\\tsa\\base\\tsa_model.py:524: ValueWarning: No frequency information was provided, so inferred frequency B will be used.\n",
      "  warnings.warn('No frequency information was'\n",
      "C:\\Python38\\lib\\site-packages\\statsmodels\\tsa\\statespace\\sarimax.py:966: UserWarning: Non-stationary starting autoregressive parameters found. Using zeros as starting parameters.\n",
      "  warn('Non-stationary starting autoregressive parameters'\n",
      "C:\\Python38\\lib\\site-packages\\statsmodels\\tsa\\statespace\\sarimax.py:978: UserWarning: Non-invertible starting MA parameters found. Using zeros as starting parameters.\n",
      "  warn('Non-invertible starting MA parameters found.'\n"
     ]
    },
    {
     "name": "stdout",
     "output_type": "stream",
     "text": [
      "                               SARIMAX Results                                \n",
      "==============================================================================\n",
      "Dep. Variable:              Adj Close   No. Observations:                   23\n",
      "Model:                 ARIMA(3, 0, 3)   Log Likelihood                 -21.992\n",
      "Date:                Tue, 12 Jan 2021   AIC                             59.985\n",
      "Time:                        19:31:06   BIC                             69.069\n",
      "Sample:                    10-01-2019   HQIC                            62.269\n",
      "                         - 10-31-2019                                         \n",
      "Covariance Type:                  opg                                         \n",
      "==============================================================================\n",
      "                 coef    std err          z      P>|z|      [0.025      0.975]\n",
      "------------------------------------------------------------------------------\n",
      "const        140.8067      0.109   1290.215      0.000     140.593     141.021\n",
      "ar.L1          0.0995      0.407      0.245      0.807      -0.698       0.897\n",
      "ar.L2          0.4517      0.387      1.168      0.243      -0.306       1.210\n",
      "ar.L3         -0.0435      0.533     -0.082      0.935      -1.087       1.000\n",
      "ma.L1          0.6432     48.290      0.013      0.989     -94.004      95.290\n",
      "ma.L2         -0.6501     79.157     -0.008      0.993    -155.796     154.495\n",
      "ma.L3         -0.9907     48.228     -0.021      0.984     -95.516      93.535\n",
      "sigma2         0.3061     14.815      0.021      0.984     -28.731      29.343\n",
      "===================================================================================\n",
      "Ljung-Box (L1) (Q):                   0.11   Jarque-Bera (JB):                 0.98\n",
      "Prob(Q):                              0.74   Prob(JB):                         0.61\n",
      "Heteroskedasticity (H):               0.60   Skew:                             0.00\n",
      "Prob(H) (two-sided):                  0.49   Kurtosis:                         1.99\n",
      "===================================================================================\n",
      "\n",
      "Warnings:\n",
      "[1] Covariance matrix calculated using the outer product of gradients (complex-step).\n"
     ]
    },
    {
     "name": "stderr",
     "output_type": "stream",
     "text": [
      "C:\\Python38\\lib\\site-packages\\statsmodels\\base\\model.py:566: ConvergenceWarning: Maximum Likelihood optimization failed to converge. Check mle_retvals\n",
      "  warnings.warn(\"Maximum Likelihood optimization failed to \"\n"
     ]
    },
    {
     "data": {
      "image/png": "[encoded data removed]",
      "text/plain": [
       "<Figure size 432x288 with 1 Axes>"
      ]
     },
     "metadata": {
      "needs_background": "light"
     },
     "output_type": "display_data"
    },
    {
     "data": {
      "image/png": "[encoded data removed]",
      "text/plain": [
       "<Figure size 432x288 with 1 Axes>"
      ]
     },
     "metadata": {
      "needs_background": "light"
     },
     "output_type": "display_data"
    },
    {
     "name": "stdout",
     "output_type": "stream",
     "text": [
      "------------------------------------------------------------------------------\n",
      "------------------------------------------------------------------------------\n",
      "------------------------------------------------------------------------------\n",
      "ARMA model for gold ETF in November\n"
     ]
    },
    {
     "name": "stderr",
     "output_type": "stream",
     "text": [
      "C:\\Python38\\lib\\site-packages\\statsmodels\\tsa\\base\\tsa_model.py:581: ValueWarning: A date index has been provided, but it has no associated frequency information and so will be ignored when e.g. forecasting.\n",
      "  warnings.warn('A date index has been provided, but it has no'\n",
      "C:\\Python38\\lib\\site-packages\\statsmodels\\tsa\\base\\tsa_model.py:581: ValueWarning: A date index has been provided, but it has no associated frequency information and so will be ignored when e.g. forecasting.\n",
      "  warnings.warn('A date index has been provided, but it has no'\n",
      "C:\\Python38\\lib\\site-packages\\statsmodels\\tsa\\base\\tsa_model.py:581: ValueWarning: A date index has been provided, but it has no associated frequency information and so will be ignored when e.g. forecasting.\n",
      "  warnings.warn('A date index has been provided, but it has no'\n",
      "C:\\Python38\\lib\\site-packages\\statsmodels\\tsa\\statespace\\sarimax.py:966: UserWarning: Non-stationary starting autoregressive parameters found. Using zeros as starting parameters.\n",
      "  warn('Non-stationary starting autoregressive parameters'\n",
      "C:\\Python38\\lib\\site-packages\\statsmodels\\tsa\\statespace\\sarimax.py:978: UserWarning: Non-invertible starting MA parameters found. Using zeros as starting parameters.\n",
      "  warn('Non-invertible starting MA parameters found.'\n"
     ]
    },
    {
     "name": "stdout",
     "output_type": "stream",
     "text": [
      "                               SARIMAX Results                                \n",
      "==============================================================================\n",
      "Dep. Variable:              Adj Close   No. Observations:                   20\n",
      "Model:                 ARIMA(3, 0, 3)   Log Likelihood                 -22.205\n",
      "Date:                Tue, 12 Jan 2021   AIC                             60.409\n",
      "Time:                        19:31:07   BIC                             68.375\n",
      "Sample:                             0   HQIC                            61.964\n",
      "                                 - 20                                         \n",
      "Covariance Type:                  opg                                         \n",
      "==============================================================================\n",
      "                 coef    std err          z      P>|z|      [0.025      0.975]\n",
      "------------------------------------------------------------------------------\n",
      "const        138.8141      0.872    159.140      0.000     137.104     140.524\n",
      "ar.L1          0.7245      0.352      2.056      0.040       0.034       1.415\n",
      "ar.L2          0.8184      0.471      1.736      0.083      -0.105       1.742\n",
      "ar.L3         -0.9038      0.231     -3.920      0.000      -1.356      -0.452\n",
      "ma.L1         -0.0453      3.016     -0.015      0.988      -5.957       5.867\n",
      "ma.L2         -0.3233      3.093     -0.105      0.917      -6.385       5.738\n",
      "ma.L3          0.6844      2.381      0.287      0.774      -3.983       5.351\n",
      "sigma2         0.4109      1.012      0.406      0.685      -1.572       2.394\n",
      "===================================================================================\n",
      "Ljung-Box (L1) (Q):                   0.00   Jarque-Bera (JB):                 0.47\n",
      "Prob(Q):                              1.00   Prob(JB):                         0.79\n",
      "Heteroskedasticity (H):               0.17   Skew:                             0.36\n",
      "Prob(H) (two-sided):                  0.03   Kurtosis:                         2.81\n",
      "===================================================================================\n",
      "\n",
      "Warnings:\n",
      "[1] Covariance matrix calculated using the outer product of gradients (complex-step).\n"
     ]
    },
    {
     "name": "stderr",
     "output_type": "stream",
     "text": [
      "C:\\Python38\\lib\\site-packages\\statsmodels\\base\\model.py:566: ConvergenceWarning: Maximum Likelihood optimization failed to converge. Check mle_retvals\n",
      "  warnings.warn(\"Maximum Likelihood optimization failed to \"\n"
     ]
    },
    {
     "data": {
      "image/png": "[encoded data removed]",
      "text/plain": [
       "<Figure size 432x288 with 1 Axes>"
      ]
     },
     "metadata": {
      "needs_background": "light"
     },
     "output_type": "display_data"
    },
    {
     "data": {
      "image/png": "[encoded data removed]",
      "text/plain": [
       "<Figure size 432x288 with 1 Axes>"
      ]
     },
     "metadata": {
      "needs_background": "light"
     },
     "output_type": "display_data"
    },
    {
     "name": "stdout",
     "output_type": "stream",
     "text": [
      "------------------------------------------------------------------------------\n",
      "------------------------------------------------------------------------------\n",
      "------------------------------------------------------------------------------\n",
      "ARMA model for equity ETF in October\n"
     ]
    },
    {
     "name": "stderr",
     "output_type": "stream",
     "text": [
      "C:\\Python38\\lib\\site-packages\\statsmodels\\tsa\\base\\tsa_model.py:524: ValueWarning: No frequency information was provided, so inferred frequency B will be used.\n",
      "  warnings.warn('No frequency information was'\n",
      "C:\\Python38\\lib\\site-packages\\statsmodels\\tsa\\base\\tsa_model.py:524: ValueWarning: No frequency information was provided, so inferred frequency B will be used.\n",
      "  warnings.warn('No frequency information was'\n",
      "C:\\Python38\\lib\\site-packages\\statsmodels\\tsa\\base\\tsa_model.py:524: ValueWarning: No frequency information was provided, so inferred frequency B will be used.\n",
      "  warnings.warn('No frequency information was'\n"
     ]
    },
    {
     "name": "stdout",
     "output_type": "stream",
     "text": [
      "                               SARIMAX Results                                \n",
      "==============================================================================\n",
      "Dep. Variable:              Adj Close   No. Observations:                   23\n",
      "Model:                 ARIMA(3, 0, 3)   Log Likelihood                 -24.804\n",
      "Date:                Tue, 12 Jan 2021   AIC                             65.608\n",
      "Time:                        19:31:07   BIC                             74.692\n",
      "Sample:                    10-01-2019   HQIC                            67.893\n",
      "                         - 10-31-2019                                         \n",
      "Covariance Type:                  opg                                         \n",
      "==============================================================================\n",
      "                 coef    std err          z      P>|z|      [0.025      0.975]\n",
      "------------------------------------------------------------------------------\n",
      "const         82.7812      0.758    109.242      0.000      81.296      84.266\n",
      "ar.L1          0.8193      0.370      2.217      0.027       0.095       1.544\n",
      "ar.L2          0.7588      0.429      1.769      0.077      -0.082       1.600\n",
      "ar.L3         -0.6998      0.285     -2.453      0.014      -1.259      -0.141\n",
      "ma.L1          0.3424     32.670      0.010      0.992     -63.690      64.375\n",
      "ma.L2         -0.8206     43.766     -0.019      0.985     -86.601      84.960\n",
      "ma.L3         -0.5186     16.991     -0.031      0.976     -33.820      32.783\n",
      "sigma2         0.4307     13.924      0.031      0.975     -26.859      27.721\n",
      "===================================================================================\n",
      "Ljung-Box (L1) (Q):                   0.28   Jarque-Bera (JB):                 8.69\n",
      "Prob(Q):                              0.60   Prob(JB):                         0.01\n",
      "Heteroskedasticity (H):               0.21   Skew:                            -1.19\n",
      "Prob(H) (two-sided):                  0.04   Kurtosis:                         4.85\n",
      "===================================================================================\n",
      "\n",
      "Warnings:\n",
      "[1] Covariance matrix calculated using the outer product of gradients (complex-step).\n"
     ]
    },
    {
     "name": "stderr",
     "output_type": "stream",
     "text": [
      "C:\\Python38\\lib\\site-packages\\statsmodels\\base\\model.py:566: ConvergenceWarning: Maximum Likelihood optimization failed to converge. Check mle_retvals\n",
      "  warnings.warn(\"Maximum Likelihood optimization failed to \"\n"
     ]
    },
    {
     "data": {
      "image/png": "[encoded data removed]",
      "text/plain": [
       "<Figure size 432x288 with 1 Axes>"
      ]
     },
     "metadata": {
      "needs_background": "light"
     },
     "output_type": "display_data"
    },
    {
     "data": {
      "image/png": "[encoded data removed]",
      "text/plain": [
       "<Figure size 432x288 with 1 Axes>"
      ]
     },
     "metadata": {
      "needs_background": "light"
     },
     "output_type": "display_data"
    },
    {
     "name": "stdout",
     "output_type": "stream",
     "text": [
      "------------------------------------------------------------------------------\n",
      "------------------------------------------------------------------------------\n",
      "------------------------------------------------------------------------------\n",
      "ARMA model for equity ETF in November\n"
     ]
    },
    {
     "name": "stderr",
     "output_type": "stream",
     "text": [
      "C:\\Python38\\lib\\site-packages\\statsmodels\\tsa\\base\\tsa_model.py:581: ValueWarning: A date index has been provided, but it has no associated frequency information and so will be ignored when e.g. forecasting.\n",
      "  warnings.warn('A date index has been provided, but it has no'\n",
      "C:\\Python38\\lib\\site-packages\\statsmodels\\tsa\\base\\tsa_model.py:581: ValueWarning: A date index has been provided, but it has no associated frequency information and so will be ignored when e.g. forecasting.\n",
      "  warnings.warn('A date index has been provided, but it has no'\n",
      "C:\\Python38\\lib\\site-packages\\statsmodels\\tsa\\base\\tsa_model.py:581: ValueWarning: A date index has been provided, but it has no associated frequency information and so will be ignored when e.g. forecasting.\n",
      "  warnings.warn('A date index has been provided, but it has no'\n",
      "C:\\Python38\\lib\\site-packages\\statsmodels\\tsa\\statespace\\sarimax.py:966: UserWarning: Non-stationary starting autoregressive parameters found. Using zeros as starting parameters.\n",
      "  warn('Non-stationary starting autoregressive parameters'\n",
      "C:\\Python38\\lib\\site-packages\\statsmodels\\tsa\\statespace\\sarimax.py:978: UserWarning: Non-invertible starting MA parameters found. Using zeros as starting parameters.\n",
      "  warn('Non-invertible starting MA parameters found.'\n"
     ]
    },
    {
     "name": "stdout",
     "output_type": "stream",
     "text": [
      "                               SARIMAX Results                                \n",
      "==============================================================================\n",
      "Dep. Variable:              Adj Close   No. Observations:                   20\n",
      "Model:                 ARIMA(3, 0, 3)   Log Likelihood                  -6.218\n",
      "Date:                Tue, 12 Jan 2021   AIC                             28.436\n",
      "Time:                        19:31:08   BIC                             36.402\n",
      "Sample:                             0   HQIC                            29.991\n",
      "                                 - 20                                         \n",
      "Covariance Type:                  opg                                         \n",
      "==============================================================================\n",
      "                 coef    std err          z      P>|z|      [0.025      0.975]\n",
      "------------------------------------------------------------------------------\n",
      "const         86.1814      0.552    156.189      0.000      85.100      87.263\n",
      "ar.L1          0.9595      1.735      0.553      0.580      -2.442       4.361\n",
      "ar.L2          0.7551      3.173      0.238      0.812      -5.463       6.974\n",
      "ar.L3         -0.7821      1.583     -0.494      0.621      -3.885       2.321\n",
      "ma.L1          0.4105      4.706      0.087      0.930      -8.813       9.634\n",
      "ma.L2         -0.8495      4.831     -0.176      0.860     -10.317       8.618\n",
      "ma.L3         -0.5334      2.071     -0.258      0.797      -4.593       3.526\n",
      "sigma2         0.0889      0.315      0.282      0.778      -0.529       0.707\n",
      "===================================================================================\n",
      "Ljung-Box (L1) (Q):                   3.42   Jarque-Bera (JB):                 0.84\n",
      "Prob(Q):                              0.06   Prob(JB):                         0.66\n",
      "Heteroskedasticity (H):               0.92   Skew:                             0.33\n",
      "Prob(H) (two-sided):                  0.92   Kurtosis:                         2.25\n",
      "===================================================================================\n",
      "\n",
      "Warnings:\n",
      "[1] Covariance matrix calculated using the outer product of gradients (complex-step).\n"
     ]
    },
    {
     "name": "stderr",
     "output_type": "stream",
     "text": [
      "C:\\Python38\\lib\\site-packages\\statsmodels\\base\\model.py:566: ConvergenceWarning: Maximum Likelihood optimization failed to converge. Check mle_retvals\n",
      "  warnings.warn(\"Maximum Likelihood optimization failed to \"\n"
     ]
    },
    {
     "data": {
      "image/png": "[encoded data removed]",
      "text/plain": [
       "<Figure size 432x288 with 1 Axes>"
      ]
     },
     "metadata": {
      "needs_background": "light"
     },
     "output_type": "display_data"
    },
    {
     "data": {
      "image/png": "[encoded data removed]",
      "text/plain": [
       "<Figure size 432x288 with 1 Axes>"
      ]
     },
     "metadata": {
      "needs_background": "light"
     },
     "output_type": "display_data"
    }
   ],
   "source": [
    "df_name = {0: \"gold ETF\", 1: \"equity ETF\"}\n",
    "month_name = {10: \"October\", 11: \"November\"}\n",
    "for index, df in enumerate([gold_df, equity_df]):\n",
    "    for month in [10, 11]:\n",
    "        print(\"-\" * 78)\n",
    "        print(\"-\" * 78)\n",
    "        print(\"-\" * 78)\n",
    "        print(f\"ARMA model for {df_name[index]} in {month_name[month]}\")\n",
    "        data = get_data(df, month, \"Adj Close\")\n",
    "        fit_arima(data)"
   ]
  },
  {
   "cell_type": "markdown",
   "metadata": {},
   "source": [
    "# 7. Modelling Volatility"
   ]
  },
  {
   "cell_type": "markdown",
   "metadata": {},
   "source": [
    "The high minus low for the ETF's prices and their average, as well as the standard deviation of returns are presented in part 3"
   ]
  },
  {
   "cell_type": "code",
   "execution_count": 27,
   "metadata": {},
   "outputs": [],
   "source": [
    "def fit_garch(data):\n",
    "    garch = arch.arch_model(data, vol='garch', p=1, o=0, q=1)\n",
    "    garch_fitted = garch.fit()\n",
    "    print(garch_fitted.summary())"
   ]
  },
  {
   "cell_type": "code",
   "execution_count": 28,
   "metadata": {
    "scrolled": false
   },
   "outputs": [
    {
     "name": "stdout",
     "output_type": "stream",
     "text": [
      "------------------------------------------------------------------------------\n",
      "------------------------------------------------------------------------------\n",
      "------------------------------------------------------------------------------\n",
      "GARCH model for gold ETF in October\n",
      "Iteration:      1,   Func. Count:      6,   Neg. LLF: 2211987.449503363\n",
      "Iteration:      2,   Func. Count:     16,   Neg. LLF: -81.257589920448\n",
      "Optimization terminated successfully    (Exit mode 0)\n",
      "            Current function value: -81.25758995275967\n",
      "            Iterations: 6\n",
      "            Function evaluations: 16\n",
      "            Gradient evaluations: 2\n",
      "                     Constant Mean - GARCH Model Results                      \n",
      "==============================================================================\n",
      "Dep. Variable:           Daily Return   R-squared:                      -0.000\n",
      "Mean Model:             Constant Mean   Adj. R-squared:                 -0.000\n",
      "Vol Model:                      GARCH   Log-Likelihood:                81.2576\n",
      "Distribution:                  Normal   AIC:                          -154.515\n",
      "Method:            Maximum Likelihood   BIC:                          -150.151\n",
      "                                        No. Observations:                   22\n",
      "Date:                Tue, Jan 12 2021   Df Residuals:                       18\n",
      "Time:                        19:31:08   Df Model:                            4\n",
      "                                  Mean Model                                 \n",
      "=============================================================================\n",
      "                 coef    std err          t      P>|t|       95.0% Conf. Int.\n",
      "-----------------------------------------------------------------------------\n",
      "mu         8.7955e-04  1.323e-03      0.665      0.506 [-1.714e-03,3.473e-03]\n",
      "                               Volatility Model                              \n",
      "=============================================================================\n",
      "                 coef    std err          t      P>|t|       95.0% Conf. Int.\n",
      "-----------------------------------------------------------------------------\n",
      "omega      1.0914e-05  5.820e-10  1.875e+04      0.000  [1.091e-05,1.092e-05]\n",
      "alpha[1]   1.0000e-02  1.941e-02      0.515      0.606 [-2.805e-02,4.805e-02]\n",
      "beta[1]        0.6900  7.299e-02      9.454  3.273e-21      [  0.547,  0.833]\n",
      "=============================================================================\n",
      "\n",
      "Covariance estimator: robust\n",
      "------------------------------------------------------------------------------\n",
      "------------------------------------------------------------------------------\n",
      "------------------------------------------------------------------------------\n",
      "GARCH model for gold ETF in November\n",
      "Iteration:      1,   Func. Count:      6,   Neg. LLF: 12684817.542295108\n",
      "Iteration:      2,   Func. Count:     16,   Neg. LLF: -73.97790009442136\n",
      "Optimization terminated successfully    (Exit mode 0)\n",
      "            Current function value: -73.9779001217992\n",
      "            Iterations: 6\n",
      "            Function evaluations: 16\n",
      "            Gradient evaluations: 2\n",
      "                     Constant Mean - GARCH Model Results                      \n",
      "==============================================================================\n",
      "Dep. Variable:           Daily Return   R-squared:                      -0.000\n",
      "Mean Model:             Constant Mean   Adj. R-squared:                 -0.000\n",
      "Vol Model:                      GARCH   Log-Likelihood:                73.9779\n",
      "Distribution:                  Normal   AIC:                          -139.956\n",
      "Method:            Maximum Likelihood   BIC:                          -135.973\n",
      "                                        No. Observations:                   20\n",
      "Date:                Tue, Jan 12 2021   Df Residuals:                       16\n",
      "Time:                        19:31:08   Df Model:                            4\n",
      "                                   Mean Model                                  \n",
      "===============================================================================\n",
      "                  coef    std err          t      P>|t|        95.0% Conf. Int.\n",
      "-------------------------------------------------------------------------------\n",
      "mu         -1.4838e-03  7.497e-07  -1979.293      0.000 [-1.485e-03,-1.482e-03]\n",
      "                              Volatility Model                              \n",
      "============================================================================\n",
      "                 coef    std err          t      P>|t|      95.0% Conf. Int.\n",
      "----------------------------------------------------------------------------\n",
      "omega      1.0913e-05  4.658e-11  2.343e+05      0.000 [1.091e-05,1.091e-05]\n",
      "alpha[1]       0.0500      0.274      0.183      0.855     [ -0.487,  0.587]\n",
      "beta[1]        0.6500      0.237      2.741  6.122e-03     [  0.185,  1.115]\n",
      "============================================================================\n",
      "\n",
      "Covariance estimator: robust\n",
      "------------------------------------------------------------------------------\n",
      "------------------------------------------------------------------------------\n",
      "------------------------------------------------------------------------------\n",
      "GARCH model for equity ETF in October\n",
      "Iteration:      1,   Func. Count:      5,   Neg. LLF: -72.84794178149747\n",
      "Optimization terminated successfully    (Exit mode 0)\n",
      "            Current function value: -72.84794218002007\n",
      "            Iterations: 5\n",
      "            Function evaluations: 5\n",
      "            Gradient evaluations: 1\n",
      "                     Constant Mean - GARCH Model Results                      \n",
      "==============================================================================\n",
      "Dep. Variable:           Daily Return   R-squared:                      -0.000\n",
      "Mean Model:             Constant Mean   Adj. R-squared:                 -0.000\n",
      "Vol Model:                      GARCH   Log-Likelihood:                72.8479\n",
      "Distribution:                  Normal   AIC:                          -137.696\n",
      "Method:            Maximum Likelihood   BIC:                          -133.332\n",
      "                                        No. Observations:                   22\n",
      "Date:                Tue, Jan 12 2021   Df Residuals:                       18\n",
      "Time:                        19:31:08   Df Model:                            4\n",
      "                                 Mean Model                                 \n",
      "============================================================================\n",
      "                 coef    std err          t      P>|t|      95.0% Conf. Int.\n",
      "----------------------------------------------------------------------------\n",
      "mu         1.2314e-03  2.601e-06    473.508      0.000 [1.226e-03,1.237e-03]\n",
      "                              Volatility Model                              \n",
      "============================================================================\n",
      "                 coef    std err          t      P>|t|      95.0% Conf. Int.\n",
      "----------------------------------------------------------------------------\n",
      "omega      1.9376e-06  9.202e-10   2105.643      0.000 [1.936e-06,1.939e-06]\n",
      "alpha[1]       0.2000  8.072e-02      2.478  1.322e-02   [4.180e-02,  0.358]\n",
      "beta[1]        0.7800  5.716e-02     13.647  2.108e-42     [  0.668,  0.892]\n",
      "============================================================================\n",
      "\n",
      "Covariance estimator: robust\n",
      "------------------------------------------------------------------------------\n",
      "------------------------------------------------------------------------------\n",
      "------------------------------------------------------------------------------\n",
      "GARCH model for equity ETF in November\n",
      "Iteration:      1,   Func. Count:      6,   Neg. LLF: 197742414.82374087\n",
      "Iteration:      2,   Func. Count:     17,   Neg. LLF: -33.194659986845565\n",
      "Iteration:      3,   Func. Count:     25,   Neg. LLF: -10.286129970616884\n",
      "Iteration:      4,   Func. Count:     33,   Neg. LLF: -82.56739316456598\n",
      "Iteration:      5,   Func. Count:     38,   Neg. LLF: 258146278.98570937\n",
      "Iteration:      6,   Func. Count:     49,   Neg. LLF: 556727004.1629564\n",
      "Iteration:      7,   Func. Count:     60,   Neg. LLF: 405442990.2330078\n",
      "Iteration:      8,   Func. Count:     71,   Neg. LLF: 176430175.20465565\n",
      "Iteration:      9,   Func. Count:     82,   Neg. LLF: 519.795341797703\n",
      "Iteration:     10,   Func. Count:     88,   Neg. LLF: 403929955.2030698\n",
      "Iteration:     11,   Func. Count:     95,   Neg. LLF: -82.61557826768482\n",
      "Optimization terminated successfully    (Exit mode 0)\n",
      "            Current function value: -82.61557835134657\n",
      "            Iterations: 15\n",
      "            Function evaluations: 95\n",
      "            Gradient evaluations: 11\n",
      "                     Constant Mean - GARCH Model Results                      \n",
      "==============================================================================\n",
      "Dep. Variable:           Daily Return   R-squared:                      -0.021\n",
      "Mean Model:             Constant Mean   Adj. R-squared:                 -0.021\n",
      "Vol Model:                      GARCH   Log-Likelihood:                82.6156\n",
      "Distribution:                  Normal   AIC:                          -157.231\n",
      "Method:            Maximum Likelihood   BIC:                          -153.248\n",
      "                                        No. Observations:                   20\n",
      "Date:                Tue, Jan 12 2021   Df Residuals:                       16\n",
      "Time:                        19:31:08   Df Model:                            4\n",
      "                                 Mean Model                                 \n",
      "============================================================================\n",
      "                 coef    std err          t      P>|t|      95.0% Conf. Int.\n",
      "----------------------------------------------------------------------------\n",
      "mu         2.0804e-03  3.332e-08  6.243e+04      0.000 [2.080e-03,2.080e-03]\n",
      "                              Volatility Model                              \n",
      "============================================================================\n",
      "                 coef    std err          t      P>|t|      95.0% Conf. Int.\n",
      "----------------------------------------------------------------------------\n",
      "omega      6.9482e-06  4.271e-11  1.627e+05      0.000 [6.948e-06,6.948e-06]\n",
      "alpha[1]       0.7206      0.346      2.083  3.724e-02   [4.259e-02,  1.399]\n",
      "beta[1]        0.0120  9.873e-02      0.122      0.903     [ -0.181,  0.206]\n",
      "============================================================================\n",
      "\n",
      "Covariance estimator: robust\n"
     ]
    },
    {
     "name": "stderr",
     "output_type": "stream",
     "text": [
      "C:\\Users\\trinh\\AppData\\Roaming\\Python\\Python38\\site-packages\\arch\\univariate\\base.py:292: DataScaleWarning: y is poorly scaled, which may affect convergence of the optimizer when\n",
      "estimating the model parameters. The scale of y is 3.638e-05. Parameter\n",
      "estimation work better when this value is between 1 and 1000. The recommended\n",
      "rescaling is 100 * y.\n",
      "\n",
      "This warning can be disabled by either rescaling y before initializing the\n",
      "model or by setting rescale=False.\n",
      "\n",
      "  warnings.warn(\n",
      "C:\\Users\\trinh\\AppData\\Roaming\\Python\\Python38\\site-packages\\arch\\univariate\\base.py:292: DataScaleWarning: y is poorly scaled, which may affect convergence of the optimizer when\n",
      "estimating the model parameters. The scale of y is 3.638e-05. Parameter\n",
      "estimation work better when this value is between 1 and 1000. The recommended\n",
      "rescaling is 100 * y.\n",
      "\n",
      "This warning can be disabled by either rescaling y before initializing the\n",
      "model or by setting rescale=False.\n",
      "\n",
      "  warnings.warn(\n",
      "C:\\Users\\trinh\\AppData\\Roaming\\Python\\Python38\\site-packages\\arch\\univariate\\base.py:292: DataScaleWarning: y is poorly scaled, which may affect convergence of the optimizer when\n",
      "estimating the model parameters. The scale of y is 9.688e-05. Parameter\n",
      "estimation work better when this value is between 1 and 1000. The recommended\n",
      "rescaling is 100 * y.\n",
      "\n",
      "This warning can be disabled by either rescaling y before initializing the\n",
      "model or by setting rescale=False.\n",
      "\n",
      "  warnings.warn(\n",
      "C:\\Users\\trinh\\AppData\\Roaming\\Python\\Python38\\site-packages\\arch\\univariate\\base.py:292: DataScaleWarning: y is poorly scaled, which may affect convergence of the optimizer when\n",
      "estimating the model parameters. The scale of y is 1.692e-05. Parameter\n",
      "estimation work better when this value is between 1 and 1000. The recommended\n",
      "rescaling is 100 * y.\n",
      "\n",
      "This warning can be disabled by either rescaling y before initializing the\n",
      "model or by setting rescale=False.\n",
      "\n",
      "  warnings.warn(\n"
     ]
    }
   ],
   "source": [
    "for index, df in enumerate([gold_df, equity_df]):\n",
    "    for month in [10, 11]:\n",
    "        print(\"-\" * 78)\n",
    "        print(\"-\" * 78)\n",
    "        print(\"-\" * 78)\n",
    "        print(f\"GARCH model for {df_name[index]} in {month_name[month]}\")\n",
    "        data = get_data(df, month, \"Daily Return\")\n",
    "        data = data.dropna()\n",
    "        fit_garch(data)"
   ]
  },
  {
   "cell_type": "markdown",
   "metadata": {},
   "source": [
    "# 8. Correlation"
   ]
  },
  {
   "cell_type": "code",
   "execution_count": 29,
   "metadata": {},
   "outputs": [
    {
     "name": "stdout",
     "output_type": "stream",
     "text": [
      "The correlation of gold and equity ETFs in October is -0.6625802932767255\n"
     ]
    }
   ],
   "source": [
    "corr_oct = stats.pearsonr(gold_df[(\"2019-10-01\" < gold_df.index) & (gold_df.index < \"2019-11-01\")][\"Daily Return\"], equity_df[(\"2019-10-01\" < equity_df.index) & (equity_df.index < \"2019-11-01\")][\"Daily Return\"])[0]\n",
    "print(f\"The correlation of gold and equity ETFs in October is {corr_oct}\")"
   ]
  },
  {
   "cell_type": "code",
   "execution_count": 30,
   "metadata": {},
   "outputs": [
    {
     "name": "stdout",
     "output_type": "stream",
     "text": [
      "The correlation of gold and equity ETFs in November is -0.4119305823448921\n"
     ]
    }
   ],
   "source": [
    "corr_nov = stats.pearsonr(gold_df[gold_df.index >= \"2019-11-01\"][\"Daily Return\"], equity_df[equity_df.index >= \"2019-11-01\"][\"Daily Return\"])[0]\n",
    "print(f\"The correlation of gold and equity ETFs in November is {corr_nov}\")"
   ]
  }
 ],
 "metadata": {
  "kernelspec": {
   "display_name": "Python 3",
   "language": "python",
   "name": "python3"
  },
  "language_info": {
   "codemirror_mode": {
    "name": "ipython",
    "version": 3
   },
   "file_extension": ".py",
   "mimetype": "text/x-python",
   "name": "python",
   "nbconvert_exporter": "python",
   "pygments_lexer": "ipython3",
   "version": "3.8.5"
  }
 },
 "nbformat": 4,
 "nbformat_minor": 4
}

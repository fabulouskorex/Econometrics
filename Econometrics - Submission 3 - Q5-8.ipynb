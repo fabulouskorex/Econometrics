{
 "cells": [
  {
   "cell_type": "markdown",
   "metadata": {},
   "source": [
    "# 0. ETF Selection\n",
    "\n",
    "We select the SPDR Gold Shares (GLD) ETF as the gold ETF. It is traded on Nasdaq, the currency is USD.\n",
    "\n",
    "Similarly, we choose the Amundi CAC 40 UCITS ETF-C (C40.PA) as the equity ETF. It will track the CAC 40 index of France. It is traded on Paris Euronext, the currency is EUR.\n",
    "\n",
    "The currency for Bitcoin is USD.\n",
    "\n",
    "Data source: https://finance.yahoo.com/"
   ]
  },
  {
   "cell_type": "markdown",
   "metadata": {},
   "source": [
    "# 1. Data Importing"
   ]
  },
  {
   "cell_type": "code",
   "execution_count": 1,
   "metadata": {
    "scrolled": true
   },
   "outputs": [],
   "source": [
    "import arch\n",
    "import holidays\n",
    "import pmdarima\n",
    "import pandas as pd\n",
    "import numpy as np\n",
    "from pandas import Series, DataFrame\n",
    "import matplotlib.pyplot as plt\n",
    "import seaborn as sns\n",
    "from scipy import stats\n",
    "from datetime import datetime\n",
    "from statsmodels.tsa.arima.model import ARIMA\n",
    "from statsmodels.tsa.statespace.varmax import VARMAX\n",
    "from statsmodels.tsa.stattools import adfuller, coint\n",
    "from statsmodels.tsa.vector_ar.vecm import VECM\n",
    "from sklearn import preprocessing\n",
    "%matplotlib inline"
   ]
  },
  {
   "cell_type": "code",
   "execution_count": 2,
   "metadata": {},
   "outputs": [],
   "source": [
    "gold_df = pd.read_csv(\"data/SPDR Gold Shares (GLD) Jan - Dec 2020.csv\")\n",
    "equity_df = pd.read_csv(\"data/Amundi CAC 40 UCITS ETF-C (C40.PA) Jan 2020 - Dec 2020.csv\")\n",
    "bitcoin_df = pd.read_csv('data/Bitcoin USD (BTC-USD) Jan 2020 - Dec 2020.csv')"
   ]
  },
  {
   "cell_type": "markdown",
   "metadata": {},
   "source": [
    "Convert the data into the datetime format and make it the index to query the dataframe easier."
   ]
  },
  {
   "cell_type": "code",
   "execution_count": 3,
   "metadata": {},
   "outputs": [],
   "source": [
    "def convert_df(df):\n",
    "    df[\"Date\"] = pd.to_datetime(df[\"Date\"], format=\"%Y-%m-%d\")\n",
    "    df.set_index(\"Date\", inplace=True)   \n",
    "    return df\n",
    "\n",
    "gold_df = convert_df(gold_df)\n",
    "equity_df = convert_df(equity_df)\n",
    "bitcoin_df = convert_df(bitcoin_df)\n"
   ]
  },
  {
   "cell_type": "markdown",
   "metadata": {},
   "source": [
    "We use the common subset of days for all 3 time series to make them comparable and to run the test for cointegration in question 7."
   ]
  },
  {
   "cell_type": "code",
   "execution_count": 4,
   "metadata": {},
   "outputs": [],
   "source": [
    "missing = set(equity_df.index) - set(gold_df.index)"
   ]
  },
  {
   "cell_type": "code",
   "execution_count": 5,
   "metadata": {},
   "outputs": [],
   "source": [
    "def remove_missing_days(df, indices, missing):\n",
    "    return df.loc[[index for index in indices if index not in missing]]"
   ]
  },
  {
   "cell_type": "code",
   "execution_count": 6,
   "metadata": {},
   "outputs": [],
   "source": [
    "gold_df = remove_missing_days(gold_df, equity_df.index, missing)\n",
    "equity_df = remove_missing_days(equity_df, equity_df.index, missing)\n",
    "bitcoin_df = remove_missing_days(bitcoin_df, equity_df.index, missing)"
   ]
  },
  {
   "cell_type": "code",
   "execution_count": 7,
   "metadata": {},
   "outputs": [],
   "source": [
    "assert equity_df.shape == gold_df.shape\n",
    "assert equity_df.shape == bitcoin_df.shape"
   ]
  },
  {
   "cell_type": "markdown",
   "metadata": {},
   "source": [
    "We then fill some missing values in the equity series with its old values to avoid data leakage."
   ]
  },
  {
   "cell_type": "code",
   "execution_count": 8,
   "metadata": {},
   "outputs": [],
   "source": [
    "equity_df = equity_df.ffill()"
   ]
  },
  {
   "cell_type": "markdown",
   "metadata": {},
   "source": [
    "Verify that the time range is correct."
   ]
  },
  {
   "cell_type": "code",
   "execution_count": 9,
   "metadata": {},
   "outputs": [
    {
     "data": {
      "text/html": [
       "<div>\n",
       "<style scoped>\n",
       "    .dataframe tbody tr th:only-of-type {\n",
       "        vertical-align: middle;\n",
       "    }\n",
       "\n",
       "    .dataframe tbody tr th {\n",
       "        vertical-align: top;\n",
       "    }\n",
       "\n",
       "    .dataframe thead th {\n",
       "        text-align: right;\n",
       "    }\n",
       "</style>\n",
       "<table border=\"1\" class=\"dataframe\">\n",
       "  <thead>\n",
       "    <tr style=\"text-align: right;\">\n",
       "      <th></th>\n",
       "      <th>Open</th>\n",
       "      <th>High</th>\n",
       "      <th>Low</th>\n",
       "      <th>Close</th>\n",
       "      <th>Adj Close</th>\n",
       "      <th>Volume</th>\n",
       "    </tr>\n",
       "    <tr>\n",
       "      <th>Date</th>\n",
       "      <th></th>\n",
       "      <th></th>\n",
       "      <th></th>\n",
       "      <th></th>\n",
       "      <th></th>\n",
       "      <th></th>\n",
       "    </tr>\n",
       "  </thead>\n",
       "  <tbody>\n",
       "    <tr>\n",
       "      <th>2020-01-02</th>\n",
       "      <td>143.860001</td>\n",
       "      <td>144.210007</td>\n",
       "      <td>143.399994</td>\n",
       "      <td>143.949997</td>\n",
       "      <td>143.949997</td>\n",
       "      <td>7733800</td>\n",
       "    </tr>\n",
       "    <tr>\n",
       "      <th>2020-01-03</th>\n",
       "      <td>145.750000</td>\n",
       "      <td>146.320007</td>\n",
       "      <td>145.399994</td>\n",
       "      <td>145.860001</td>\n",
       "      <td>145.860001</td>\n",
       "      <td>12272800</td>\n",
       "    </tr>\n",
       "    <tr>\n",
       "      <th>2020-01-06</th>\n",
       "      <td>148.440002</td>\n",
       "      <td>148.479996</td>\n",
       "      <td>146.949997</td>\n",
       "      <td>147.389999</td>\n",
       "      <td>147.389999</td>\n",
       "      <td>14403300</td>\n",
       "    </tr>\n",
       "    <tr>\n",
       "      <th>2020-01-07</th>\n",
       "      <td>147.570007</td>\n",
       "      <td>148.139999</td>\n",
       "      <td>147.429993</td>\n",
       "      <td>147.970001</td>\n",
       "      <td>147.970001</td>\n",
       "      <td>7978500</td>\n",
       "    </tr>\n",
       "    <tr>\n",
       "      <th>2020-01-08</th>\n",
       "      <td>148.490005</td>\n",
       "      <td>148.610001</td>\n",
       "      <td>146.139999</td>\n",
       "      <td>146.860001</td>\n",
       "      <td>146.860001</td>\n",
       "      <td>22248500</td>\n",
       "    </tr>\n",
       "  </tbody>\n",
       "</table>\n",
       "</div>"
      ],
      "text/plain": [
       "                  Open        High         Low       Close   Adj Close  \\\n",
       "Date                                                                     \n",
       "2020-01-02  143.860001  144.210007  143.399994  143.949997  143.949997   \n",
       "2020-01-03  145.750000  146.320007  145.399994  145.860001  145.860001   \n",
       "2020-01-06  148.440002  148.479996  146.949997  147.389999  147.389999   \n",
       "2020-01-07  147.570007  148.139999  147.429993  147.970001  147.970001   \n",
       "2020-01-08  148.490005  148.610001  146.139999  146.860001  146.860001   \n",
       "\n",
       "              Volume  \n",
       "Date                  \n",
       "2020-01-02   7733800  \n",
       "2020-01-03  12272800  \n",
       "2020-01-06  14403300  \n",
       "2020-01-07   7978500  \n",
       "2020-01-08  22248500  "
      ]
     },
     "execution_count": 9,
     "metadata": {},
     "output_type": "execute_result"
    }
   ],
   "source": [
    "gold_df.head()"
   ]
  },
  {
   "cell_type": "code",
   "execution_count": 10,
   "metadata": {},
   "outputs": [
    {
     "data": {
      "text/html": [
       "<div>\n",
       "<style scoped>\n",
       "    .dataframe tbody tr th:only-of-type {\n",
       "        vertical-align: middle;\n",
       "    }\n",
       "\n",
       "    .dataframe tbody tr th {\n",
       "        vertical-align: top;\n",
       "    }\n",
       "\n",
       "    .dataframe thead th {\n",
       "        text-align: right;\n",
       "    }\n",
       "</style>\n",
       "<table border=\"1\" class=\"dataframe\">\n",
       "  <thead>\n",
       "    <tr style=\"text-align: right;\">\n",
       "      <th></th>\n",
       "      <th>Open</th>\n",
       "      <th>High</th>\n",
       "      <th>Low</th>\n",
       "      <th>Close</th>\n",
       "      <th>Adj Close</th>\n",
       "      <th>Volume</th>\n",
       "    </tr>\n",
       "    <tr>\n",
       "      <th>Date</th>\n",
       "      <th></th>\n",
       "      <th></th>\n",
       "      <th></th>\n",
       "      <th></th>\n",
       "      <th></th>\n",
       "      <th></th>\n",
       "    </tr>\n",
       "  </thead>\n",
       "  <tbody>\n",
       "    <tr>\n",
       "      <th>2020-12-23</th>\n",
       "      <td>175.100006</td>\n",
       "      <td>176.210007</td>\n",
       "      <td>175.059998</td>\n",
       "      <td>175.649994</td>\n",
       "      <td>175.649994</td>\n",
       "      <td>6542800</td>\n",
       "    </tr>\n",
       "    <tr>\n",
       "      <th>2020-12-24</th>\n",
       "      <td>175.550003</td>\n",
       "      <td>176.369995</td>\n",
       "      <td>175.509995</td>\n",
       "      <td>176.350006</td>\n",
       "      <td>176.350006</td>\n",
       "      <td>3695400</td>\n",
       "    </tr>\n",
       "    <tr>\n",
       "      <th>2020-12-28</th>\n",
       "      <td>177.259995</td>\n",
       "      <td>177.910004</td>\n",
       "      <td>175.630005</td>\n",
       "      <td>175.710007</td>\n",
       "      <td>175.710007</td>\n",
       "      <td>7778700</td>\n",
       "    </tr>\n",
       "    <tr>\n",
       "      <th>2020-12-29</th>\n",
       "      <td>176.250000</td>\n",
       "      <td>176.970001</td>\n",
       "      <td>175.570007</td>\n",
       "      <td>176.350006</td>\n",
       "      <td>176.350006</td>\n",
       "      <td>5983700</td>\n",
       "    </tr>\n",
       "    <tr>\n",
       "      <th>2020-12-30</th>\n",
       "      <td>176.440002</td>\n",
       "      <td>177.720001</td>\n",
       "      <td>176.440002</td>\n",
       "      <td>177.699997</td>\n",
       "      <td>177.699997</td>\n",
       "      <td>5914000</td>\n",
       "    </tr>\n",
       "  </tbody>\n",
       "</table>\n",
       "</div>"
      ],
      "text/plain": [
       "                  Open        High         Low       Close   Adj Close  \\\n",
       "Date                                                                     \n",
       "2020-12-23  175.100006  176.210007  175.059998  175.649994  175.649994   \n",
       "2020-12-24  175.550003  176.369995  175.509995  176.350006  176.350006   \n",
       "2020-12-28  177.259995  177.910004  175.630005  175.710007  175.710007   \n",
       "2020-12-29  176.250000  176.970001  175.570007  176.350006  176.350006   \n",
       "2020-12-30  176.440002  177.720001  176.440002  177.699997  177.699997   \n",
       "\n",
       "             Volume  \n",
       "Date                 \n",
       "2020-12-23  6542800  \n",
       "2020-12-24  3695400  \n",
       "2020-12-28  7778700  \n",
       "2020-12-29  5983700  \n",
       "2020-12-30  5914000  "
      ]
     },
     "execution_count": 10,
     "metadata": {},
     "output_type": "execute_result"
    }
   ],
   "source": [
    "gold_df.tail()"
   ]
  },
  {
   "cell_type": "code",
   "execution_count": 11,
   "metadata": {},
   "outputs": [
    {
     "data": {
      "text/html": [
       "<div>\n",
       "<style scoped>\n",
       "    .dataframe tbody tr th:only-of-type {\n",
       "        vertical-align: middle;\n",
       "    }\n",
       "\n",
       "    .dataframe tbody tr th {\n",
       "        vertical-align: top;\n",
       "    }\n",
       "\n",
       "    .dataframe thead th {\n",
       "        text-align: right;\n",
       "    }\n",
       "</style>\n",
       "<table border=\"1\" class=\"dataframe\">\n",
       "  <thead>\n",
       "    <tr style=\"text-align: right;\">\n",
       "      <th></th>\n",
       "      <th>Open</th>\n",
       "      <th>High</th>\n",
       "      <th>Low</th>\n",
       "      <th>Close</th>\n",
       "      <th>Adj Close</th>\n",
       "      <th>Volume</th>\n",
       "    </tr>\n",
       "    <tr>\n",
       "      <th>Date</th>\n",
       "      <th></th>\n",
       "      <th></th>\n",
       "      <th></th>\n",
       "      <th></th>\n",
       "      <th></th>\n",
       "      <th></th>\n",
       "    </tr>\n",
       "  </thead>\n",
       "  <tbody>\n",
       "    <tr>\n",
       "      <th>2020-01-02</th>\n",
       "      <td>88.589996</td>\n",
       "      <td>89.239998</td>\n",
       "      <td>88.589996</td>\n",
       "      <td>89.239998</td>\n",
       "      <td>89.239998</td>\n",
       "      <td>124.0</td>\n",
       "    </tr>\n",
       "    <tr>\n",
       "      <th>2020-01-03</th>\n",
       "      <td>88.489998</td>\n",
       "      <td>88.889999</td>\n",
       "      <td>88.309998</td>\n",
       "      <td>88.769997</td>\n",
       "      <td>88.769997</td>\n",
       "      <td>0.0</td>\n",
       "    </tr>\n",
       "    <tr>\n",
       "      <th>2020-01-06</th>\n",
       "      <td>88.529999</td>\n",
       "      <td>88.599998</td>\n",
       "      <td>87.750000</td>\n",
       "      <td>88.559998</td>\n",
       "      <td>88.559998</td>\n",
       "      <td>563.0</td>\n",
       "    </tr>\n",
       "    <tr>\n",
       "      <th>2020-01-07</th>\n",
       "      <td>88.839996</td>\n",
       "      <td>89.260002</td>\n",
       "      <td>88.500000</td>\n",
       "      <td>88.500000</td>\n",
       "      <td>88.500000</td>\n",
       "      <td>0.0</td>\n",
       "    </tr>\n",
       "    <tr>\n",
       "      <th>2020-01-08</th>\n",
       "      <td>88.120003</td>\n",
       "      <td>89.300003</td>\n",
       "      <td>88.120003</td>\n",
       "      <td>89.139999</td>\n",
       "      <td>89.139999</td>\n",
       "      <td>212.0</td>\n",
       "    </tr>\n",
       "  </tbody>\n",
       "</table>\n",
       "</div>"
      ],
      "text/plain": [
       "                 Open       High        Low      Close  Adj Close  Volume\n",
       "Date                                                                     \n",
       "2020-01-02  88.589996  89.239998  88.589996  89.239998  89.239998   124.0\n",
       "2020-01-03  88.489998  88.889999  88.309998  88.769997  88.769997     0.0\n",
       "2020-01-06  88.529999  88.599998  87.750000  88.559998  88.559998   563.0\n",
       "2020-01-07  88.839996  89.260002  88.500000  88.500000  88.500000     0.0\n",
       "2020-01-08  88.120003  89.300003  88.120003  89.139999  89.139999   212.0"
      ]
     },
     "execution_count": 11,
     "metadata": {},
     "output_type": "execute_result"
    }
   ],
   "source": [
    "equity_df.head()"
   ]
  },
  {
   "cell_type": "code",
   "execution_count": 12,
   "metadata": {},
   "outputs": [
    {
     "data": {
      "text/html": [
       "<div>\n",
       "<style scoped>\n",
       "    .dataframe tbody tr th:only-of-type {\n",
       "        vertical-align: middle;\n",
       "    }\n",
       "\n",
       "    .dataframe tbody tr th {\n",
       "        vertical-align: top;\n",
       "    }\n",
       "\n",
       "    .dataframe thead th {\n",
       "        text-align: right;\n",
       "    }\n",
       "</style>\n",
       "<table border=\"1\" class=\"dataframe\">\n",
       "  <thead>\n",
       "    <tr style=\"text-align: right;\">\n",
       "      <th></th>\n",
       "      <th>Open</th>\n",
       "      <th>High</th>\n",
       "      <th>Low</th>\n",
       "      <th>Close</th>\n",
       "      <th>Adj Close</th>\n",
       "      <th>Volume</th>\n",
       "    </tr>\n",
       "    <tr>\n",
       "      <th>Date</th>\n",
       "      <th></th>\n",
       "      <th></th>\n",
       "      <th></th>\n",
       "      <th></th>\n",
       "      <th></th>\n",
       "      <th></th>\n",
       "    </tr>\n",
       "  </thead>\n",
       "  <tbody>\n",
       "    <tr>\n",
       "      <th>2020-12-23</th>\n",
       "      <td>82.480003</td>\n",
       "      <td>83.330002</td>\n",
       "      <td>82.000000</td>\n",
       "      <td>83.250000</td>\n",
       "      <td>83.250000</td>\n",
       "      <td>68117.0</td>\n",
       "    </tr>\n",
       "    <tr>\n",
       "      <th>2020-12-24</th>\n",
       "      <td>83.419998</td>\n",
       "      <td>83.550003</td>\n",
       "      <td>82.930000</td>\n",
       "      <td>83.139999</td>\n",
       "      <td>83.139999</td>\n",
       "      <td>32892.0</td>\n",
       "    </tr>\n",
       "    <tr>\n",
       "      <th>2020-12-28</th>\n",
       "      <td>83.849998</td>\n",
       "      <td>84.290001</td>\n",
       "      <td>83.410004</td>\n",
       "      <td>84.160004</td>\n",
       "      <td>84.160004</td>\n",
       "      <td>20640.0</td>\n",
       "    </tr>\n",
       "    <tr>\n",
       "      <th>2020-12-29</th>\n",
       "      <td>84.440002</td>\n",
       "      <td>84.680000</td>\n",
       "      <td>84.320000</td>\n",
       "      <td>84.449997</td>\n",
       "      <td>84.449997</td>\n",
       "      <td>20668.0</td>\n",
       "    </tr>\n",
       "    <tr>\n",
       "      <th>2020-12-30</th>\n",
       "      <td>84.489998</td>\n",
       "      <td>84.699997</td>\n",
       "      <td>84.300003</td>\n",
       "      <td>84.339996</td>\n",
       "      <td>84.339996</td>\n",
       "      <td>3829.0</td>\n",
       "    </tr>\n",
       "  </tbody>\n",
       "</table>\n",
       "</div>"
      ],
      "text/plain": [
       "                 Open       High        Low      Close  Adj Close   Volume\n",
       "Date                                                                      \n",
       "2020-12-23  82.480003  83.330002  82.000000  83.250000  83.250000  68117.0\n",
       "2020-12-24  83.419998  83.550003  82.930000  83.139999  83.139999  32892.0\n",
       "2020-12-28  83.849998  84.290001  83.410004  84.160004  84.160004  20640.0\n",
       "2020-12-29  84.440002  84.680000  84.320000  84.449997  84.449997  20668.0\n",
       "2020-12-30  84.489998  84.699997  84.300003  84.339996  84.339996   3829.0"
      ]
     },
     "execution_count": 12,
     "metadata": {},
     "output_type": "execute_result"
    }
   ],
   "source": [
    "equity_df.tail()"
   ]
  },
  {
   "cell_type": "code",
   "execution_count": 13,
   "metadata": {},
   "outputs": [
    {
     "data": {
      "text/html": [
       "<div>\n",
       "<style scoped>\n",
       "    .dataframe tbody tr th:only-of-type {\n",
       "        vertical-align: middle;\n",
       "    }\n",
       "\n",
       "    .dataframe tbody tr th {\n",
       "        vertical-align: top;\n",
       "    }\n",
       "\n",
       "    .dataframe thead th {\n",
       "        text-align: right;\n",
       "    }\n",
       "</style>\n",
       "<table border=\"1\" class=\"dataframe\">\n",
       "  <thead>\n",
       "    <tr style=\"text-align: right;\">\n",
       "      <th></th>\n",
       "      <th>Open</th>\n",
       "      <th>High</th>\n",
       "      <th>Low</th>\n",
       "      <th>Close</th>\n",
       "      <th>Adj Close</th>\n",
       "      <th>Volume</th>\n",
       "    </tr>\n",
       "    <tr>\n",
       "      <th>Date</th>\n",
       "      <th></th>\n",
       "      <th></th>\n",
       "      <th></th>\n",
       "      <th></th>\n",
       "      <th></th>\n",
       "      <th></th>\n",
       "    </tr>\n",
       "  </thead>\n",
       "  <tbody>\n",
       "    <tr>\n",
       "      <th>2020-01-02</th>\n",
       "      <td>7202.551270</td>\n",
       "      <td>7212.155273</td>\n",
       "      <td>6935.270020</td>\n",
       "      <td>6985.470215</td>\n",
       "      <td>6985.470215</td>\n",
       "      <td>20802083465</td>\n",
       "    </tr>\n",
       "    <tr>\n",
       "      <th>2020-01-03</th>\n",
       "      <td>6984.428711</td>\n",
       "      <td>7413.715332</td>\n",
       "      <td>6914.996094</td>\n",
       "      <td>7344.884277</td>\n",
       "      <td>7344.884277</td>\n",
       "      <td>28111481031</td>\n",
       "    </tr>\n",
       "    <tr>\n",
       "      <th>2020-01-06</th>\n",
       "      <td>7410.452148</td>\n",
       "      <td>7781.867188</td>\n",
       "      <td>7409.292969</td>\n",
       "      <td>7769.219238</td>\n",
       "      <td>7769.219238</td>\n",
       "      <td>23276261598</td>\n",
       "    </tr>\n",
       "    <tr>\n",
       "      <th>2020-01-07</th>\n",
       "      <td>7768.682129</td>\n",
       "      <td>8178.215820</td>\n",
       "      <td>7768.227539</td>\n",
       "      <td>8163.692383</td>\n",
       "      <td>8163.692383</td>\n",
       "      <td>28767291326</td>\n",
       "    </tr>\n",
       "    <tr>\n",
       "      <th>2020-01-08</th>\n",
       "      <td>8161.935547</td>\n",
       "      <td>8396.738281</td>\n",
       "      <td>7956.774414</td>\n",
       "      <td>8079.862793</td>\n",
       "      <td>8079.862793</td>\n",
       "      <td>31672559264</td>\n",
       "    </tr>\n",
       "  </tbody>\n",
       "</table>\n",
       "</div>"
      ],
      "text/plain": [
       "                   Open         High          Low        Close    Adj Close  \\\n",
       "Date                                                                          \n",
       "2020-01-02  7202.551270  7212.155273  6935.270020  6985.470215  6985.470215   \n",
       "2020-01-03  6984.428711  7413.715332  6914.996094  7344.884277  7344.884277   \n",
       "2020-01-06  7410.452148  7781.867188  7409.292969  7769.219238  7769.219238   \n",
       "2020-01-07  7768.682129  8178.215820  7768.227539  8163.692383  8163.692383   \n",
       "2020-01-08  8161.935547  8396.738281  7956.774414  8079.862793  8079.862793   \n",
       "\n",
       "                 Volume  \n",
       "Date                     \n",
       "2020-01-02  20802083465  \n",
       "2020-01-03  28111481031  \n",
       "2020-01-06  23276261598  \n",
       "2020-01-07  28767291326  \n",
       "2020-01-08  31672559264  "
      ]
     },
     "execution_count": 13,
     "metadata": {},
     "output_type": "execute_result"
    }
   ],
   "source": [
    "bitcoin_df.head()"
   ]
  },
  {
   "cell_type": "code",
   "execution_count": 14,
   "metadata": {},
   "outputs": [
    {
     "data": {
      "text/html": [
       "<div>\n",
       "<style scoped>\n",
       "    .dataframe tbody tr th:only-of-type {\n",
       "        vertical-align: middle;\n",
       "    }\n",
       "\n",
       "    .dataframe tbody tr th {\n",
       "        vertical-align: top;\n",
       "    }\n",
       "\n",
       "    .dataframe thead th {\n",
       "        text-align: right;\n",
       "    }\n",
       "</style>\n",
       "<table border=\"1\" class=\"dataframe\">\n",
       "  <thead>\n",
       "    <tr style=\"text-align: right;\">\n",
       "      <th></th>\n",
       "      <th>Open</th>\n",
       "      <th>High</th>\n",
       "      <th>Low</th>\n",
       "      <th>Close</th>\n",
       "      <th>Adj Close</th>\n",
       "      <th>Volume</th>\n",
       "    </tr>\n",
       "    <tr>\n",
       "      <th>Date</th>\n",
       "      <th></th>\n",
       "      <th></th>\n",
       "      <th></th>\n",
       "      <th></th>\n",
       "      <th></th>\n",
       "      <th></th>\n",
       "    </tr>\n",
       "  </thead>\n",
       "  <tbody>\n",
       "    <tr>\n",
       "      <th>2020-12-23</th>\n",
       "      <td>23781.974609</td>\n",
       "      <td>24024.490234</td>\n",
       "      <td>22802.646484</td>\n",
       "      <td>23241.345703</td>\n",
       "      <td>23241.345703</td>\n",
       "      <td>51146161904</td>\n",
       "    </tr>\n",
       "    <tr>\n",
       "      <th>2020-12-24</th>\n",
       "      <td>23240.203125</td>\n",
       "      <td>23768.337891</td>\n",
       "      <td>22777.597656</td>\n",
       "      <td>23735.949219</td>\n",
       "      <td>23735.949219</td>\n",
       "      <td>41080759712</td>\n",
       "    </tr>\n",
       "    <tr>\n",
       "      <th>2020-12-28</th>\n",
       "      <td>26280.822266</td>\n",
       "      <td>27389.111328</td>\n",
       "      <td>26207.640625</td>\n",
       "      <td>27084.808594</td>\n",
       "      <td>27084.808594</td>\n",
       "      <td>49056742892</td>\n",
       "    </tr>\n",
       "    <tr>\n",
       "      <th>2020-12-29</th>\n",
       "      <td>27081.810547</td>\n",
       "      <td>27370.720703</td>\n",
       "      <td>25987.298828</td>\n",
       "      <td>27362.437500</td>\n",
       "      <td>27362.437500</td>\n",
       "      <td>45265946774</td>\n",
       "    </tr>\n",
       "    <tr>\n",
       "      <th>2020-12-30</th>\n",
       "      <td>27360.089844</td>\n",
       "      <td>28937.740234</td>\n",
       "      <td>27360.089844</td>\n",
       "      <td>28840.953125</td>\n",
       "      <td>28840.953125</td>\n",
       "      <td>51287442703</td>\n",
       "    </tr>\n",
       "  </tbody>\n",
       "</table>\n",
       "</div>"
      ],
      "text/plain": [
       "                    Open          High           Low         Close  \\\n",
       "Date                                                                 \n",
       "2020-12-23  23781.974609  24024.490234  22802.646484  23241.345703   \n",
       "2020-12-24  23240.203125  23768.337891  22777.597656  23735.949219   \n",
       "2020-12-28  26280.822266  27389.111328  26207.640625  27084.808594   \n",
       "2020-12-29  27081.810547  27370.720703  25987.298828  27362.437500   \n",
       "2020-12-30  27360.089844  28937.740234  27360.089844  28840.953125   \n",
       "\n",
       "               Adj Close       Volume  \n",
       "Date                                   \n",
       "2020-12-23  23241.345703  51146161904  \n",
       "2020-12-24  23735.949219  41080759712  \n",
       "2020-12-28  27084.808594  49056742892  \n",
       "2020-12-29  27362.437500  45265946774  \n",
       "2020-12-30  28840.953125  51287442703  "
      ]
     },
     "execution_count": 14,
     "metadata": {},
     "output_type": "execute_result"
    }
   ],
   "source": [
    "bitcoin_df.tail()"
   ]
  },
  {
   "cell_type": "markdown",
   "metadata": {},
   "source": [
    "# 2. Data Processing"
   ]
  },
  {
   "cell_type": "markdown",
   "metadata": {},
   "source": [
    "We use adjusted close prices to calculate the daily returns. Adjusted close prices are the prices that already take into account stock split and dividends, which reflex more accurate the change of the prices."
   ]
  },
  {
   "cell_type": "code",
   "execution_count": 15,
   "metadata": {},
   "outputs": [
    {
     "data": {
      "text/html": [
       "<div>\n",
       "<style scoped>\n",
       "    .dataframe tbody tr th:only-of-type {\n",
       "        vertical-align: middle;\n",
       "    }\n",
       "\n",
       "    .dataframe tbody tr th {\n",
       "        vertical-align: top;\n",
       "    }\n",
       "\n",
       "    .dataframe thead th {\n",
       "        text-align: right;\n",
       "    }\n",
       "</style>\n",
       "<table border=\"1\" class=\"dataframe\">\n",
       "  <thead>\n",
       "    <tr style=\"text-align: right;\">\n",
       "      <th></th>\n",
       "      <th>Open</th>\n",
       "      <th>High</th>\n",
       "      <th>Low</th>\n",
       "      <th>Close</th>\n",
       "      <th>Adj Close</th>\n",
       "      <th>Volume</th>\n",
       "      <th>Daily Return</th>\n",
       "    </tr>\n",
       "    <tr>\n",
       "      <th>Date</th>\n",
       "      <th></th>\n",
       "      <th></th>\n",
       "      <th></th>\n",
       "      <th></th>\n",
       "      <th></th>\n",
       "      <th></th>\n",
       "      <th></th>\n",
       "    </tr>\n",
       "  </thead>\n",
       "  <tbody>\n",
       "    <tr>\n",
       "      <th>2020-01-02</th>\n",
       "      <td>88.589996</td>\n",
       "      <td>89.239998</td>\n",
       "      <td>88.589996</td>\n",
       "      <td>89.239998</td>\n",
       "      <td>89.239998</td>\n",
       "      <td>124.0</td>\n",
       "      <td>NaN</td>\n",
       "    </tr>\n",
       "    <tr>\n",
       "      <th>2020-01-03</th>\n",
       "      <td>88.489998</td>\n",
       "      <td>88.889999</td>\n",
       "      <td>88.309998</td>\n",
       "      <td>88.769997</td>\n",
       "      <td>88.769997</td>\n",
       "      <td>0.0</td>\n",
       "      <td>-0.005267</td>\n",
       "    </tr>\n",
       "    <tr>\n",
       "      <th>2020-01-06</th>\n",
       "      <td>88.529999</td>\n",
       "      <td>88.599998</td>\n",
       "      <td>87.750000</td>\n",
       "      <td>88.559998</td>\n",
       "      <td>88.559998</td>\n",
       "      <td>563.0</td>\n",
       "      <td>-0.002366</td>\n",
       "    </tr>\n",
       "    <tr>\n",
       "      <th>2020-01-07</th>\n",
       "      <td>88.839996</td>\n",
       "      <td>89.260002</td>\n",
       "      <td>88.500000</td>\n",
       "      <td>88.500000</td>\n",
       "      <td>88.500000</td>\n",
       "      <td>0.0</td>\n",
       "      <td>-0.000677</td>\n",
       "    </tr>\n",
       "    <tr>\n",
       "      <th>2020-01-08</th>\n",
       "      <td>88.120003</td>\n",
       "      <td>89.300003</td>\n",
       "      <td>88.120003</td>\n",
       "      <td>89.139999</td>\n",
       "      <td>89.139999</td>\n",
       "      <td>212.0</td>\n",
       "      <td>0.007232</td>\n",
       "    </tr>\n",
       "  </tbody>\n",
       "</table>\n",
       "</div>"
      ],
      "text/plain": [
       "                 Open       High        Low      Close  Adj Close  Volume  \\\n",
       "Date                                                                        \n",
       "2020-01-02  88.589996  89.239998  88.589996  89.239998  89.239998   124.0   \n",
       "2020-01-03  88.489998  88.889999  88.309998  88.769997  88.769997     0.0   \n",
       "2020-01-06  88.529999  88.599998  87.750000  88.559998  88.559998   563.0   \n",
       "2020-01-07  88.839996  89.260002  88.500000  88.500000  88.500000     0.0   \n",
       "2020-01-08  88.120003  89.300003  88.120003  89.139999  89.139999   212.0   \n",
       "\n",
       "            Daily Return  \n",
       "Date                      \n",
       "2020-01-02           NaN  \n",
       "2020-01-03     -0.005267  \n",
       "2020-01-06     -0.002366  \n",
       "2020-01-07     -0.000677  \n",
       "2020-01-08      0.007232  "
      ]
     },
     "execution_count": 15,
     "metadata": {},
     "output_type": "execute_result"
    }
   ],
   "source": [
    "equity_df[\"Daily Return\"] = equity_df[\"Adj Close\"].pct_change(1)\n",
    "equity_df.head()"
   ]
  },
  {
   "cell_type": "code",
   "execution_count": 16,
   "metadata": {},
   "outputs": [
    {
     "data": {
      "text/html": [
       "<div>\n",
       "<style scoped>\n",
       "    .dataframe tbody tr th:only-of-type {\n",
       "        vertical-align: middle;\n",
       "    }\n",
       "\n",
       "    .dataframe tbody tr th {\n",
       "        vertical-align: top;\n",
       "    }\n",
       "\n",
       "    .dataframe thead th {\n",
       "        text-align: right;\n",
       "    }\n",
       "</style>\n",
       "<table border=\"1\" class=\"dataframe\">\n",
       "  <thead>\n",
       "    <tr style=\"text-align: right;\">\n",
       "      <th></th>\n",
       "      <th>Open</th>\n",
       "      <th>High</th>\n",
       "      <th>Low</th>\n",
       "      <th>Close</th>\n",
       "      <th>Adj Close</th>\n",
       "      <th>Volume</th>\n",
       "      <th>Daily Return</th>\n",
       "    </tr>\n",
       "    <tr>\n",
       "      <th>Date</th>\n",
       "      <th></th>\n",
       "      <th></th>\n",
       "      <th></th>\n",
       "      <th></th>\n",
       "      <th></th>\n",
       "      <th></th>\n",
       "      <th></th>\n",
       "    </tr>\n",
       "  </thead>\n",
       "  <tbody>\n",
       "    <tr>\n",
       "      <th>2020-01-02</th>\n",
       "      <td>143.860001</td>\n",
       "      <td>144.210007</td>\n",
       "      <td>143.399994</td>\n",
       "      <td>143.949997</td>\n",
       "      <td>143.949997</td>\n",
       "      <td>7733800</td>\n",
       "      <td>NaN</td>\n",
       "    </tr>\n",
       "    <tr>\n",
       "      <th>2020-01-03</th>\n",
       "      <td>145.750000</td>\n",
       "      <td>146.320007</td>\n",
       "      <td>145.399994</td>\n",
       "      <td>145.860001</td>\n",
       "      <td>145.860001</td>\n",
       "      <td>12272800</td>\n",
       "      <td>0.013269</td>\n",
       "    </tr>\n",
       "    <tr>\n",
       "      <th>2020-01-06</th>\n",
       "      <td>148.440002</td>\n",
       "      <td>148.479996</td>\n",
       "      <td>146.949997</td>\n",
       "      <td>147.389999</td>\n",
       "      <td>147.389999</td>\n",
       "      <td>14403300</td>\n",
       "      <td>0.010489</td>\n",
       "    </tr>\n",
       "    <tr>\n",
       "      <th>2020-01-07</th>\n",
       "      <td>147.570007</td>\n",
       "      <td>148.139999</td>\n",
       "      <td>147.429993</td>\n",
       "      <td>147.970001</td>\n",
       "      <td>147.970001</td>\n",
       "      <td>7978500</td>\n",
       "      <td>0.003935</td>\n",
       "    </tr>\n",
       "    <tr>\n",
       "      <th>2020-01-08</th>\n",
       "      <td>148.490005</td>\n",
       "      <td>148.610001</td>\n",
       "      <td>146.139999</td>\n",
       "      <td>146.860001</td>\n",
       "      <td>146.860001</td>\n",
       "      <td>22248500</td>\n",
       "      <td>-0.007502</td>\n",
       "    </tr>\n",
       "  </tbody>\n",
       "</table>\n",
       "</div>"
      ],
      "text/plain": [
       "                  Open        High         Low       Close   Adj Close  \\\n",
       "Date                                                                     \n",
       "2020-01-02  143.860001  144.210007  143.399994  143.949997  143.949997   \n",
       "2020-01-03  145.750000  146.320007  145.399994  145.860001  145.860001   \n",
       "2020-01-06  148.440002  148.479996  146.949997  147.389999  147.389999   \n",
       "2020-01-07  147.570007  148.139999  147.429993  147.970001  147.970001   \n",
       "2020-01-08  148.490005  148.610001  146.139999  146.860001  146.860001   \n",
       "\n",
       "              Volume  Daily Return  \n",
       "Date                                \n",
       "2020-01-02   7733800           NaN  \n",
       "2020-01-03  12272800      0.013269  \n",
       "2020-01-06  14403300      0.010489  \n",
       "2020-01-07   7978500      0.003935  \n",
       "2020-01-08  22248500     -0.007502  "
      ]
     },
     "execution_count": 16,
     "metadata": {},
     "output_type": "execute_result"
    }
   ],
   "source": [
    "gold_df[\"Daily Return\"] = gold_df[\"Adj Close\"].pct_change(1)\n",
    "gold_df.head()"
   ]
  },
  {
   "cell_type": "code",
   "execution_count": 17,
   "metadata": {},
   "outputs": [
    {
     "data": {
      "text/html": [
       "<div>\n",
       "<style scoped>\n",
       "    .dataframe tbody tr th:only-of-type {\n",
       "        vertical-align: middle;\n",
       "    }\n",
       "\n",
       "    .dataframe tbody tr th {\n",
       "        vertical-align: top;\n",
       "    }\n",
       "\n",
       "    .dataframe thead th {\n",
       "        text-align: right;\n",
       "    }\n",
       "</style>\n",
       "<table border=\"1\" class=\"dataframe\">\n",
       "  <thead>\n",
       "    <tr style=\"text-align: right;\">\n",
       "      <th></th>\n",
       "      <th>Open</th>\n",
       "      <th>High</th>\n",
       "      <th>Low</th>\n",
       "      <th>Close</th>\n",
       "      <th>Adj Close</th>\n",
       "      <th>Volume</th>\n",
       "      <th>Daily Return</th>\n",
       "    </tr>\n",
       "    <tr>\n",
       "      <th>Date</th>\n",
       "      <th></th>\n",
       "      <th></th>\n",
       "      <th></th>\n",
       "      <th></th>\n",
       "      <th></th>\n",
       "      <th></th>\n",
       "      <th></th>\n",
       "    </tr>\n",
       "  </thead>\n",
       "  <tbody>\n",
       "    <tr>\n",
       "      <th>2020-01-02</th>\n",
       "      <td>7202.551270</td>\n",
       "      <td>7212.155273</td>\n",
       "      <td>6935.270020</td>\n",
       "      <td>6985.470215</td>\n",
       "      <td>6985.470215</td>\n",
       "      <td>20802083465</td>\n",
       "      <td>NaN</td>\n",
       "    </tr>\n",
       "    <tr>\n",
       "      <th>2020-01-03</th>\n",
       "      <td>6984.428711</td>\n",
       "      <td>7413.715332</td>\n",
       "      <td>6914.996094</td>\n",
       "      <td>7344.884277</td>\n",
       "      <td>7344.884277</td>\n",
       "      <td>28111481031</td>\n",
       "      <td>0.051452</td>\n",
       "    </tr>\n",
       "    <tr>\n",
       "      <th>2020-01-06</th>\n",
       "      <td>7410.452148</td>\n",
       "      <td>7781.867188</td>\n",
       "      <td>7409.292969</td>\n",
       "      <td>7769.219238</td>\n",
       "      <td>7769.219238</td>\n",
       "      <td>23276261598</td>\n",
       "      <td>0.057773</td>\n",
       "    </tr>\n",
       "    <tr>\n",
       "      <th>2020-01-07</th>\n",
       "      <td>7768.682129</td>\n",
       "      <td>8178.215820</td>\n",
       "      <td>7768.227539</td>\n",
       "      <td>8163.692383</td>\n",
       "      <td>8163.692383</td>\n",
       "      <td>28767291326</td>\n",
       "      <td>0.050774</td>\n",
       "    </tr>\n",
       "    <tr>\n",
       "      <th>2020-01-08</th>\n",
       "      <td>8161.935547</td>\n",
       "      <td>8396.738281</td>\n",
       "      <td>7956.774414</td>\n",
       "      <td>8079.862793</td>\n",
       "      <td>8079.862793</td>\n",
       "      <td>31672559264</td>\n",
       "      <td>-0.010269</td>\n",
       "    </tr>\n",
       "  </tbody>\n",
       "</table>\n",
       "</div>"
      ],
      "text/plain": [
       "                   Open         High          Low        Close    Adj Close  \\\n",
       "Date                                                                          \n",
       "2020-01-02  7202.551270  7212.155273  6935.270020  6985.470215  6985.470215   \n",
       "2020-01-03  6984.428711  7413.715332  6914.996094  7344.884277  7344.884277   \n",
       "2020-01-06  7410.452148  7781.867188  7409.292969  7769.219238  7769.219238   \n",
       "2020-01-07  7768.682129  8178.215820  7768.227539  8163.692383  8163.692383   \n",
       "2020-01-08  8161.935547  8396.738281  7956.774414  8079.862793  8079.862793   \n",
       "\n",
       "                 Volume  Daily Return  \n",
       "Date                                   \n",
       "2020-01-02  20802083465           NaN  \n",
       "2020-01-03  28111481031      0.051452  \n",
       "2020-01-06  23276261598      0.057773  \n",
       "2020-01-07  28767291326      0.050774  \n",
       "2020-01-08  31672559264     -0.010269  "
      ]
     },
     "execution_count": 17,
     "metadata": {},
     "output_type": "execute_result"
    }
   ],
   "source": [
    "bitcoin_df[\"Daily Return\"] = bitcoin_df[\"Adj Close\"].pct_change(1)\n",
    "bitcoin_df.head()"
   ]
  },
  {
   "cell_type": "markdown",
   "metadata": {},
   "source": [
    "# 5. Category 1 Models: Just use 1 variable."
   ]
  },
  {
   "cell_type": "code",
   "execution_count": 18,
   "metadata": {},
   "outputs": [],
   "source": [
    "# Helper\n",
    "df_names = {0: \"gold ETF\", 1: \"equity ETF\", 2: \"Bitcoin\"}\n",
    "dfs = [gold_df, equity_df, bitcoin_df]\n",
    "def get_data(df, month_start, month_end, column=None):\n",
    "    data = df[(df.index >= f\"2020-{month_start:02d}-01\") & (df.index < f\"2020-{month_end:02d}-01\")]\n",
    "    if column: \n",
    "        data = data[column]\n",
    "    return data"
   ]
  },
  {
   "cell_type": "code",
   "execution_count": 19,
   "metadata": {},
   "outputs": [],
   "source": [
    "def summarize_data(df):\n",
    "    data = get_data(df, 3, 12, \"Adj Close\")\n",
    "    moving_avg = data.rolling(20, min_periods=1).mean()\n",
    "    return get_data(moving_avg, 4, 12)\n"
   ]
  },
  {
   "cell_type": "code",
   "execution_count": 20,
   "metadata": {},
   "outputs": [],
   "source": [
    "def get_data(df, month_start, month_end, column):\n",
    "    return df[(df.index >= f\"2020-{month_start:02d}-01\") & (df.index < f\"2020-{month_end:02d}-01\")][column]"
   ]
  },
  {
   "cell_type": "code",
   "execution_count": 21,
   "metadata": {},
   "outputs": [],
   "source": [
    "def fit_arima(data, exog= None):\n",
    "    model = ARIMA(data, exog=exog, order=(2,0,2))\n",
    "    model_fit = model.fit()\n",
    "    return model_fit"
   ]
  },
  {
   "cell_type": "code",
   "execution_count": 22,
   "metadata": {},
   "outputs": [],
   "source": [
    "def fit_garch(data, garch_type=\"GARCH\"):\n",
    "    if garch_type == \"TARCH\":\n",
    "        garch = arch.arch_model(data, vol='TGARCH', p=1, o=1, q=1, power=1)\n",
    "    else:\n",
    "        garch = arch.arch_model(data, vol=garch_type, p=1, o=0, q=1)\n",
    "    garch_fitted = garch.fit()\n",
    "    print(garch_fitted.summary())\n",
    "    if garch_type != \"FIGARCH\":\n",
    "        omega = garch_fitted.params[\"omega\"]\n",
    "        alpha = garch_fitted.params[\"alpha[1]\"]\n",
    "        beta = garch_fitted.params[\"beta[1]\"]\n",
    "        print(f\"Unconditional variance: {omega/(1 - alpha - beta)}\")\n",
    "    return garch_fitted"
   ]
  },
  {
   "cell_type": "code",
   "execution_count": 23,
   "metadata": {},
   "outputs": [],
   "source": [
    "bitcoin_q2 = get_data(bitcoin_df, 4, 6, \"Daily Return\")\n",
    "bitcoin_q3 = get_data(bitcoin_df, 7, 9, \"Daily Return\")\n",
    "bitcoin_q4 = get_data(bitcoin_df, 10, 12, \"Daily Return\")"
   ]
  },
  {
   "cell_type": "code",
   "execution_count": 24,
   "metadata": {},
   "outputs": [],
   "source": [
    "equity_q2 = get_data(equity_df, 4, 6, \"Daily Return\")\n",
    "equity_q3 = get_data(equity_df, 7, 9, \"Daily Return\")\n",
    "equity_q4 = get_data(equity_df, 10, 12, \"Daily Return\")"
   ]
  },
  {
   "cell_type": "code",
   "execution_count": 25,
   "metadata": {},
   "outputs": [],
   "source": [
    "gold_q2 = get_data(gold_df, 4, 6, \"Daily Return\")\n",
    "gold_q3 = get_data(gold_df, 7, 9, \"Daily Return\")\n",
    "gold_q4 = get_data(gold_df, 10, 12, \"Daily Return\")"
   ]
  },
  {
   "cell_type": "code",
   "execution_count": 26,
   "metadata": {},
   "outputs": [
    {
     "data": {
      "text/plain": [
       "(39,)"
      ]
     },
     "execution_count": 26,
     "metadata": {},
     "output_type": "execute_result"
    }
   ],
   "source": [
    "bitcoin_q2.shape"
   ]
  },
  {
   "cell_type": "code",
   "execution_count": 27,
   "metadata": {},
   "outputs": [
    {
     "data": {
      "text/plain": [
       "(43,)"
      ]
     },
     "execution_count": 27,
     "metadata": {},
     "output_type": "execute_result"
    }
   ],
   "source": [
    "bitcoin_q3.shape"
   ]
  },
  {
   "cell_type": "code",
   "execution_count": 28,
   "metadata": {},
   "outputs": [
    {
     "data": {
      "text/plain": [
       "(42,)"
      ]
     },
     "execution_count": 28,
     "metadata": {},
     "output_type": "execute_result"
    }
   ],
   "source": [
    "bitcoin_q4.shape"
   ]
  },
  {
   "cell_type": "code",
   "execution_count": 29,
   "metadata": {},
   "outputs": [
    {
     "data": {
      "text/plain": [
       "(39,)"
      ]
     },
     "execution_count": 29,
     "metadata": {},
     "output_type": "execute_result"
    }
   ],
   "source": [
    "gold_q2.shape"
   ]
  },
  {
   "cell_type": "code",
   "execution_count": 30,
   "metadata": {},
   "outputs": [
    {
     "data": {
      "text/plain": [
       "(43,)"
      ]
     },
     "execution_count": 30,
     "metadata": {},
     "output_type": "execute_result"
    }
   ],
   "source": [
    "gold_q3.shape"
   ]
  },
  {
   "cell_type": "markdown",
   "metadata": {},
   "source": [
    "Our first model with ARIMA is a simple one, we'll allocate our capital totally to bitcoin if we predict that the next day price will rise, otherwise we will short 100%.\n",
    "\n",
    "The total return for Q3 is 3.3%, not very impressive, but for Q4, it's 82%, which is much better. Return for 2 quarters is 87%"
   ]
  },
  {
   "cell_type": "code",
   "execution_count": 31,
   "metadata": {
    "scrolled": false
   },
   "outputs": [
    {
     "name": "stderr",
     "output_type": "stream",
     "text": [
      "C:\\Python38\\lib\\site-packages\\statsmodels\\tsa\\base\\tsa_model.py:581: ValueWarning: A date index has been provided, but it has no associated frequency information and so will be ignored when e.g. forecasting.\n",
      "  warnings.warn('A date index has been provided, but it has no'\n",
      "C:\\Python38\\lib\\site-packages\\statsmodels\\tsa\\base\\tsa_model.py:581: ValueWarning: A date index has been provided, but it has no associated frequency information and so will be ignored when e.g. forecasting.\n",
      "  warnings.warn('A date index has been provided, but it has no'\n",
      "C:\\Python38\\lib\\site-packages\\statsmodels\\tsa\\base\\tsa_model.py:581: ValueWarning: A date index has been provided, but it has no associated frequency information and so will be ignored when e.g. forecasting.\n",
      "  warnings.warn('A date index has been provided, but it has no'\n",
      "C:\\Python38\\lib\\site-packages\\statsmodels\\base\\model.py:566: ConvergenceWarning: Maximum Likelihood optimization failed to converge. Check mle_retvals\n",
      "  warnings.warn(\"Maximum Likelihood optimization failed to \"\n",
      "C:\\Python38\\lib\\site-packages\\statsmodels\\tsa\\base\\tsa_model.py:376: ValueWarning: No supported index is available. Prediction results will be given with an integer index beginning at `start`.\n",
      "  warnings.warn('No supported index is available.'\n"
     ]
    },
    {
     "data": {
      "text/plain": [
       "0.03305217361367663"
      ]
     },
     "execution_count": 31,
     "metadata": {},
     "output_type": "execute_result"
    }
   ],
   "source": [
    "model = fit_arima(bitcoin_q2)\n",
    "return_pred = model.predict(start=bitcoin_q2.shape[0], end=bitcoin_q2.shape[0] + bitcoin_q3.shape[0] - 1).values\n",
    "signal = np.where(return_pred > 0, 1, -1)\n",
    "return_q3 = np.product(bitcoin_q3 * signal + 1) - 1\n",
    "return_q3"
   ]
  },
  {
   "cell_type": "code",
   "execution_count": 32,
   "metadata": {},
   "outputs": [
    {
     "name": "stderr",
     "output_type": "stream",
     "text": [
      "C:\\Python38\\lib\\site-packages\\statsmodels\\tsa\\base\\tsa_model.py:581: ValueWarning: A date index has been provided, but it has no associated frequency information and so will be ignored when e.g. forecasting.\n",
      "  warnings.warn('A date index has been provided, but it has no'\n",
      "C:\\Python38\\lib\\site-packages\\statsmodels\\tsa\\base\\tsa_model.py:581: ValueWarning: A date index has been provided, but it has no associated frequency information and so will be ignored when e.g. forecasting.\n",
      "  warnings.warn('A date index has been provided, but it has no'\n",
      "C:\\Python38\\lib\\site-packages\\statsmodels\\tsa\\base\\tsa_model.py:581: ValueWarning: A date index has been provided, but it has no associated frequency information and so will be ignored when e.g. forecasting.\n",
      "  warnings.warn('A date index has been provided, but it has no'\n",
      "C:\\Python38\\lib\\site-packages\\statsmodels\\tsa\\base\\tsa_model.py:376: ValueWarning: No supported index is available. Prediction results will be given with an integer index beginning at `start`.\n",
      "  warnings.warn('No supported index is available.'\n"
     ]
    },
    {
     "data": {
      "text/plain": [
       "0.8192927891621655"
      ]
     },
     "execution_count": 32,
     "metadata": {},
     "output_type": "execute_result"
    }
   ],
   "source": [
    "model = fit_arima(bitcoin_q3)\n",
    "return_pred = model.predict(start=bitcoin_q3.shape[0], end=bitcoin_q3.shape[0] + bitcoin_q4.shape[0] - 1).values\n",
    "signal = np.where(return_pred >0, 1, -1)\n",
    "return_q4 = np.product(bitcoin_q4 * signal + 1) - 1\n",
    "return_q4"
   ]
  },
  {
   "cell_type": "code",
   "execution_count": 33,
   "metadata": {},
   "outputs": [
    {
     "data": {
      "text/plain": [
       "0.8794243702836635"
      ]
     },
     "execution_count": 33,
     "metadata": {},
     "output_type": "execute_result"
    }
   ],
   "source": [
    "(1 + return_q3) * (1 + return_q4) - 1"
   ]
  },
  {
   "cell_type": "markdown",
   "metadata": {},
   "source": [
    "We prefer the ARMA model for the ease of model and a decent return"
   ]
  },
  {
   "cell_type": "markdown",
   "metadata": {},
   "source": [
    "# 6. Category 2 Models: Just use 2 variables"
   ]
  },
  {
   "cell_type": "markdown",
   "metadata": {},
   "source": [
    "With VARMA model, we use the equity returns as to enhance the prediction for the bitcoin returns. for Q3, the return is 28% while for Q4, it's 63%.  Return for 2 quarters is 108%"
   ]
  },
  {
   "cell_type": "code",
   "execution_count": 34,
   "metadata": {},
   "outputs": [
    {
     "name": "stderr",
     "output_type": "stream",
     "text": [
      "C:\\Python38\\lib\\site-packages\\statsmodels\\tsa\\base\\tsa_model.py:581: ValueWarning: A date index has been provided, but it has no associated frequency information and so will be ignored when e.g. forecasting.\n",
      "  warnings.warn('A date index has been provided, but it has no'\n",
      "C:\\Python38\\lib\\site-packages\\statsmodels\\tsa\\base\\tsa_model.py:581: ValueWarning: A date index has been provided, but it has no associated frequency information and so will be ignored when e.g. forecasting.\n",
      "  warnings.warn('A date index has been provided, but it has no'\n",
      "C:\\Python38\\lib\\site-packages\\statsmodels\\tsa\\base\\tsa_model.py:581: ValueWarning: A date index has been provided, but it has no associated frequency information and so will be ignored when e.g. forecasting.\n",
      "  warnings.warn('A date index has been provided, but it has no'\n",
      "C:\\Python38\\lib\\site-packages\\statsmodels\\base\\model.py:566: ConvergenceWarning: Maximum Likelihood optimization failed to converge. Check mle_retvals\n",
      "  warnings.warn(\"Maximum Likelihood optimization failed to \"\n",
      "C:\\Python38\\lib\\site-packages\\statsmodels\\tsa\\base\\tsa_model.py:376: ValueWarning: No supported index is available. Prediction results will be given with an integer index beginning at `start`.\n",
      "  warnings.warn('No supported index is available.'\n"
     ]
    },
    {
     "data": {
      "text/plain": [
       "0.2782697582897862"
      ]
     },
     "execution_count": 34,
     "metadata": {},
     "output_type": "execute_result"
    }
   ],
   "source": [
    "model = fit_arima(bitcoin_q2, equity_q2)\n",
    "return_pred = model.predict(exog=equity_q3, start=bitcoin_q2.shape[0], end=bitcoin_q2.shape[0] + bitcoin_q3.shape[0] - 1).values\n",
    "signal = np.where(return_pred > 0, 1, -1)\n",
    "return_q3 = np.product(bitcoin_q3 * signal + 1) - 1\n",
    "return_q3"
   ]
  },
  {
   "cell_type": "code",
   "execution_count": 35,
   "metadata": {},
   "outputs": [
    {
     "name": "stderr",
     "output_type": "stream",
     "text": [
      "C:\\Python38\\lib\\site-packages\\statsmodels\\tsa\\base\\tsa_model.py:581: ValueWarning: A date index has been provided, but it has no associated frequency information and so will be ignored when e.g. forecasting.\n",
      "  warnings.warn('A date index has been provided, but it has no'\n",
      "C:\\Python38\\lib\\site-packages\\statsmodels\\tsa\\base\\tsa_model.py:581: ValueWarning: A date index has been provided, but it has no associated frequency information and so will be ignored when e.g. forecasting.\n",
      "  warnings.warn('A date index has been provided, but it has no'\n",
      "C:\\Python38\\lib\\site-packages\\statsmodels\\tsa\\base\\tsa_model.py:581: ValueWarning: A date index has been provided, but it has no associated frequency information and so will be ignored when e.g. forecasting.\n",
      "  warnings.warn('A date index has been provided, but it has no'\n",
      "C:\\Python38\\lib\\site-packages\\statsmodels\\tsa\\base\\tsa_model.py:376: ValueWarning: No supported index is available. Prediction results will be given with an integer index beginning at `start`.\n",
      "  warnings.warn('No supported index is available.'\n"
     ]
    },
    {
     "data": {
      "text/plain": [
       "0.6289117237103818"
      ]
     },
     "execution_count": 35,
     "metadata": {},
     "output_type": "execute_result"
    }
   ],
   "source": [
    "model = fit_arima(bitcoin_q3, equity_q3)\n",
    "return_pred = model.predict(exog=equity_q4, start=bitcoin_q3.shape[0], end=bitcoin_q3.shape[0] + bitcoin_q4.shape[0] - 1).values\n",
    "signal = np.where(return_pred > 0, 1, -1)\n",
    "return_q4 = np.product(bitcoin_q4 * signal + 1) - 1\n",
    "return_q4"
   ]
  },
  {
   "cell_type": "code",
   "execution_count": 36,
   "metadata": {},
   "outputs": [
    {
     "data": {
      "text/plain": [
       "1.0821885953426689"
      ]
     },
     "execution_count": 36,
     "metadata": {},
     "output_type": "execute_result"
    }
   ],
   "source": [
    "(1 + return_q3) * (1 + return_q4) - 1"
   ]
  },
  {
   "cell_type": "markdown",
   "metadata": {},
   "source": [
    "We prefer the VARMA model thanks to its execellent return"
   ]
  },
  {
   "cell_type": "markdown",
   "metadata": {},
   "source": [
    "# 7 . Category 3 Models: Use all 3 variables"
   ]
  },
  {
   "cell_type": "markdown",
   "metadata": {},
   "source": [
    "## VARMA model"
   ]
  },
  {
   "cell_type": "markdown",
   "metadata": {},
   "source": [
    "With VARMA model, we use both the equity and gold returns as to enhance the prediction for the bitcoin returns. for Q3, the return is 50% while for Q4, it's 40%. Return for 2 quarters is 109%"
   ]
  },
  {
   "cell_type": "code",
   "execution_count": 37,
   "metadata": {},
   "outputs": [
    {
     "name": "stderr",
     "output_type": "stream",
     "text": [
      "C:\\Python38\\lib\\site-packages\\statsmodels\\tsa\\base\\tsa_model.py:581: ValueWarning: A date index has been provided, but it has no associated frequency information and so will be ignored when e.g. forecasting.\n",
      "  warnings.warn('A date index has been provided, but it has no'\n",
      "C:\\Python38\\lib\\site-packages\\statsmodels\\tsa\\base\\tsa_model.py:581: ValueWarning: A date index has been provided, but it has no associated frequency information and so will be ignored when e.g. forecasting.\n",
      "  warnings.warn('A date index has been provided, but it has no'\n",
      "C:\\Python38\\lib\\site-packages\\statsmodels\\tsa\\base\\tsa_model.py:581: ValueWarning: A date index has been provided, but it has no associated frequency information and so will be ignored when e.g. forecasting.\n",
      "  warnings.warn('A date index has been provided, but it has no'\n",
      "C:\\Python38\\lib\\site-packages\\statsmodels\\base\\model.py:566: ConvergenceWarning: Maximum Likelihood optimization failed to converge. Check mle_retvals\n",
      "  warnings.warn(\"Maximum Likelihood optimization failed to \"\n",
      "C:\\Python38\\lib\\site-packages\\statsmodels\\tsa\\base\\tsa_model.py:376: ValueWarning: No supported index is available. Prediction results will be given with an integer index beginning at `start`.\n",
      "  warnings.warn('No supported index is available.'\n"
     ]
    },
    {
     "data": {
      "text/plain": [
       "0.4981117995367046"
      ]
     },
     "execution_count": 37,
     "metadata": {},
     "output_type": "execute_result"
    }
   ],
   "source": [
    "model = fit_arima(bitcoin_q2, pd.concat([equity_q2, gold_q2], axis=1))\n",
    "return_pred = model.predict(exog=pd.concat([equity_q3, gold_q3], axis=1), start=bitcoin_q2.shape[0], end=bitcoin_q2.shape[0] + bitcoin_q3.shape[0] - 1).values\n",
    "signal = np.where(return_pred > 0, 1, -1)\n",
    "return_q3 = np.product(bitcoin_q3 * signal + 1) - 1\n",
    "return_q3"
   ]
  },
  {
   "cell_type": "code",
   "execution_count": 38,
   "metadata": {},
   "outputs": [
    {
     "name": "stderr",
     "output_type": "stream",
     "text": [
      "C:\\Python38\\lib\\site-packages\\statsmodels\\tsa\\base\\tsa_model.py:581: ValueWarning: A date index has been provided, but it has no associated frequency information and so will be ignored when e.g. forecasting.\n",
      "  warnings.warn('A date index has been provided, but it has no'\n",
      "C:\\Python38\\lib\\site-packages\\statsmodels\\tsa\\base\\tsa_model.py:581: ValueWarning: A date index has been provided, but it has no associated frequency information and so will be ignored when e.g. forecasting.\n",
      "  warnings.warn('A date index has been provided, but it has no'\n",
      "C:\\Python38\\lib\\site-packages\\statsmodels\\tsa\\base\\tsa_model.py:581: ValueWarning: A date index has been provided, but it has no associated frequency information and so will be ignored when e.g. forecasting.\n",
      "  warnings.warn('A date index has been provided, but it has no'\n",
      "C:\\Python38\\lib\\site-packages\\statsmodels\\base\\model.py:566: ConvergenceWarning: Maximum Likelihood optimization failed to converge. Check mle_retvals\n",
      "  warnings.warn(\"Maximum Likelihood optimization failed to \"\n",
      "C:\\Python38\\lib\\site-packages\\statsmodels\\tsa\\base\\tsa_model.py:376: ValueWarning: No supported index is available. Prediction results will be given with an integer index beginning at `start`.\n",
      "  warnings.warn('No supported index is available.'\n"
     ]
    },
    {
     "data": {
      "text/plain": [
       "0.3971697263227958"
      ]
     },
     "execution_count": 38,
     "metadata": {},
     "output_type": "execute_result"
    }
   ],
   "source": [
    "model = fit_arima(bitcoin_q3, pd.concat([equity_q3, gold_q3], axis=1))\n",
    "return_pred = model.predict(exog=pd.concat([equity_q4, gold_q4], axis=1), start=bitcoin_q3.shape[0], end=bitcoin_q3.shape[0] + bitcoin_q4.shape[0] - 1).values\n",
    "signal = np.where(return_pred > 0, 1, -1)\n",
    "return_q4 = np.product(bitcoin_q4 * signal + 1) - 1\n",
    "return_q4"
   ]
  },
  {
   "cell_type": "code",
   "execution_count": 39,
   "metadata": {},
   "outputs": [
    {
     "data": {
      "text/plain": [
       "1.0931164529596487"
      ]
     },
     "execution_count": 39,
     "metadata": {},
     "output_type": "execute_result"
    }
   ],
   "source": [
    "(1 + return_q3) * (1 + return_q4) - 1"
   ]
  },
  {
   "cell_type": "code",
   "execution_count": 40,
   "metadata": {
    "scrolled": false
   },
   "outputs": [],
   "source": [
    "# index = 2\n",
    "# df = dfs[index]\n",
    "# print(f\"{model} model for {df_names[index]} from April to December\")\n",
    "# data = get_data(df, 4, 6, \"Daily Return\")\n",
    "# data = data.dropna()\n",
    "# garch_fitted = fit_garch(data, \"GARCH\")\n",
    "# forecasts = garch_fitted.forecast(horizon=43)"
   ]
  },
  {
   "cell_type": "markdown",
   "metadata": {},
   "source": [
    "Compare models using cumulative return and volatility"
   ]
  },
  {
   "cell_type": "code",
   "execution_count": 41,
   "metadata": {},
   "outputs": [],
   "source": [
    "data1 = get_data(gold_df, 4, 6, \"Daily Return\").values\n",
    "data2 = get_data(equity_df, 4, 6, \"Daily Return\").values\n",
    "data3 = get_data(bitcoin_df, 4, 6, \"Daily Return\").values"
   ]
  },
  {
   "cell_type": "code",
   "execution_count": 42,
   "metadata": {},
   "outputs": [
    {
     "data": {
      "text/plain": [
       "(-6.076460637243138,\n",
       " 5.692753720973776e-06,\n",
       " array([-4.69574274, -3.97301265, -3.618289  ]))"
      ]
     },
     "execution_count": 42,
     "metadata": {},
     "output_type": "execute_result"
    }
   ],
   "source": [
    "coint(data1, np.array([data2, data3]).T)"
   ]
  },
  {
   "cell_type": "code",
   "execution_count": 43,
   "metadata": {},
   "outputs": [
    {
     "data": {
      "text/plain": [
       "(-6.203463603398757,\n",
       " 2.972096825666223e-06,\n",
       " array([-4.69574274, -3.97301265, -3.618289  ]))"
      ]
     },
     "execution_count": 43,
     "metadata": {},
     "output_type": "execute_result"
    }
   ],
   "source": [
    "coint(data2, np.array([data1, data3]).T)"
   ]
  },
  {
   "cell_type": "code",
   "execution_count": 44,
   "metadata": {},
   "outputs": [
    {
     "data": {
      "text/plain": [
       "(-5.93178147713331,\n",
       " 1.1733043376457846e-05,\n",
       " array([-4.69574274, -3.97301265, -3.618289  ]))"
      ]
     },
     "execution_count": 44,
     "metadata": {},
     "output_type": "execute_result"
    }
   ],
   "source": [
    "coint(data3, np.array([data1, data2]).T)"
   ]
  },
  {
   "cell_type": "markdown",
   "metadata": {},
   "source": [
    "p-value < 0.01 for all tests, we conclude that there are cointegrating vectors."
   ]
  },
  {
   "cell_type": "markdown",
   "metadata": {},
   "source": [
    "## Vector Error Correction Model"
   ]
  },
  {
   "cell_type": "markdown",
   "metadata": {},
   "source": [
    "We allocate our capital to 3 assets based on the predicted return, with a negative return means that we'll short the asset, and the sum of the 3 assets is always 1. Q3's return is 23%, Q4's return is 47%, total return is 81%"
   ]
  },
  {
   "cell_type": "code",
   "execution_count": 45,
   "metadata": {},
   "outputs": [
    {
     "data": {
      "text/plain": [
       "array([[ 0.35615871, -0.13442721,  0.77826851],\n",
       "       [ 0.76760722,  0.01941791,  0.21297487],\n",
       "       [ 0.59149272, -0.09495761,  0.5034649 ],\n",
       "       [ 0.67734894, -0.26858181,  0.59123287],\n",
       "       [ 0.59466803, -0.17363254,  0.5789645 ],\n",
       "       [ 0.62066518, -0.14095401,  0.52028883],\n",
       "       [ 0.62382008, -0.1626765 ,  0.53885642],\n",
       "       [ 0.62423843, -0.1768401 ,  0.55260166],\n",
       "       [ 0.61861166, -0.16729426,  0.5486826 ],\n",
       "       [ 0.62072114, -0.16345469,  0.54273354],\n",
       "       [ 0.62163705, -0.16658122,  0.54494417],\n",
       "       [ 0.62130375, -0.16791401,  0.54661026],\n",
       "       [ 0.62080003, -0.16672788,  0.54592785],\n",
       "       [ 0.62102733, -0.1663406 ,  0.54531327],\n",
       "       [ 0.62114845, -0.16675154,  0.54560309],\n",
       "       [ 0.62108596, -0.16687495,  0.54578899],\n",
       "       [ 0.62103702, -0.16672607,  0.54568905],\n",
       "       [ 0.62106491, -0.16669045,  0.54562555],\n",
       "       [ 0.62107859, -0.16674252,  0.54566393],\n",
       "       [ 0.62106946, -0.16675307,  0.54568362],\n",
       "       [ 0.62106462, -0.16673461,  0.54566999],\n",
       "       [ 0.62106817, -0.16673174,  0.54566356],\n",
       "       [ 0.6210696 , -0.16673818,  0.54566858],\n",
       "       [ 0.62106837, -0.16673894,  0.54567057],\n",
       "       [ 0.6210679 , -0.16673668,  0.54566878],\n",
       "       [ 0.62106836, -0.16673651,  0.54566815],\n",
       "       [ 0.62106849, -0.16673729,  0.5456688 ],\n",
       "       [ 0.62106834, -0.16673732,  0.54566899],\n",
       "       [ 0.62106829, -0.16673705,  0.54566876],\n",
       "       [ 0.62106835, -0.16673705,  0.5456687 ],\n",
       "       [ 0.62106836, -0.16673714,  0.54566878],\n",
       "       [ 0.62106834, -0.16673714,  0.5456688 ],\n",
       "       [ 0.62106834, -0.16673711,  0.54566877],\n",
       "       [ 0.62106835, -0.16673711,  0.54566877],\n",
       "       [ 0.62106835, -0.16673712,  0.54566878],\n",
       "       [ 0.62106834, -0.16673712,  0.54566878],\n",
       "       [ 0.62106834, -0.16673712,  0.54566877],\n",
       "       [ 0.62106834, -0.16673712,  0.54566877],\n",
       "       [ 0.62106834, -0.16673712,  0.54566877],\n",
       "       [ 0.62106834, -0.16673712,  0.54566877],\n",
       "       [ 0.62106834, -0.16673712,  0.54566877],\n",
       "       [ 0.62106834, -0.16673712,  0.54566877],\n",
       "       [ 0.62106834, -0.16673712,  0.54566877]])"
      ]
     },
     "execution_count": 45,
     "metadata": {},
     "output_type": "execute_result"
    }
   ],
   "source": [
    "data_q2 = np.array([data1, data2, data3]).T\n",
    "model = VECM(data_q2, coint_rank=1)\n",
    "vecm_res = model.fit()\n",
    "res = vecm_res.predict(steps=43)\n",
    "row_sums = res.sum(axis=1)\n",
    "weights = res / row_sums[:, np.newaxis]\n",
    "weights"
   ]
  },
  {
   "cell_type": "code",
   "execution_count": 46,
   "metadata": {},
   "outputs": [],
   "source": [
    "data1 = get_data(gold_df, 7, 9, \"Daily Return\").values\n",
    "data2 = get_data(equity_df, 7, 9, \"Daily Return\").values\n",
    "data3 = get_data(bitcoin_df, 7, 9, \"Daily Return\").values\n",
    "data_q3 = np.array([data1, data2, data3]).T"
   ]
  },
  {
   "cell_type": "code",
   "execution_count": 47,
   "metadata": {},
   "outputs": [
    {
     "data": {
      "text/plain": [
       "0.23021595813304496"
      ]
     },
     "execution_count": 47,
     "metadata": {},
     "output_type": "execute_result"
    }
   ],
   "source": [
    "return_q3 = weights * data_q3\n",
    "total_return_q3 = return_q3.sum(axis=1)\n",
    "portfolio_return_q3 = np.product(total_return_q3 + 1) - 1\n",
    "portfolio_return_q3"
   ]
  },
  {
   "cell_type": "code",
   "execution_count": 48,
   "metadata": {},
   "outputs": [
    {
     "data": {
      "text/plain": [
       "(-6.922723638048469,\n",
       " 5.848143640071725e-08,\n",
       " array([-4.6556178 , -3.95031996, -3.60224723]))"
      ]
     },
     "execution_count": 48,
     "metadata": {},
     "output_type": "execute_result"
    }
   ],
   "source": [
    "coint(data1, np.array([data2, data3]).T)"
   ]
  },
  {
   "cell_type": "code",
   "execution_count": 49,
   "metadata": {},
   "outputs": [
    {
     "data": {
      "text/plain": [
       "(-3.7317779390504793,\n",
       " 0.05119188151529683,\n",
       " array([-4.6556178 , -3.95031996, -3.60224723]))"
      ]
     },
     "execution_count": 49,
     "metadata": {},
     "output_type": "execute_result"
    }
   ],
   "source": [
    "coint(data2, np.array([data1, data3]).T)"
   ]
  },
  {
   "cell_type": "code",
   "execution_count": 50,
   "metadata": {
    "scrolled": true
   },
   "outputs": [
    {
     "data": {
      "text/plain": [
       "(-8.835667550986745,\n",
       " 3.3294143920743777e-13,\n",
       " array([-4.6556178 , -3.95031996, -3.60224723]))"
      ]
     },
     "execution_count": 50,
     "metadata": {},
     "output_type": "execute_result"
    }
   ],
   "source": [
    "coint(data3, np.array([data1, data2]).T)"
   ]
  },
  {
   "cell_type": "markdown",
   "metadata": {},
   "source": [
    "Interestingly, we can't reject the null hypothesis for the test for the equity ETF and the combintion of gold and bitcoin ETF. We can reject the null hypothesis for the other two tests."
   ]
  },
  {
   "cell_type": "code",
   "execution_count": 51,
   "metadata": {},
   "outputs": [
    {
     "data": {
      "text/plain": [
       "array([[ 0.36787808, -0.02095399,  0.65307591],\n",
       "       [ 0.4516389 , -0.05938162,  0.60774272],\n",
       "       [ 0.36473565, -0.09113523,  0.72639958],\n",
       "       [ 0.44790039, -0.13803918,  0.69013879],\n",
       "       [ 0.37440332, -0.08996644,  0.71556312],\n",
       "       [ 0.42211176, -0.11344712,  0.69133536],\n",
       "       [ 0.38806927, -0.09945866,  0.71138939],\n",
       "       [ 0.41008717, -0.1083739 ,  0.69828674],\n",
       "       [ 0.39550792, -0.10253513,  0.70702721],\n",
       "       [ 0.40460034, -0.10597913,  0.70137879],\n",
       "       [ 0.39894411, -0.10395701,  0.70501289],\n",
       "       [ 0.40236036, -0.10512746,  0.7027671 ],\n",
       "       [ 0.40032143, -0.10445588,  0.70413444],\n",
       "       [ 0.40151098, -0.10482965,  0.70331867],\n",
       "       [ 0.40082905, -0.10462671,  0.70379767],\n",
       "       [ 0.40121154, -0.10473376,  0.70352222],\n",
       "       [ 0.40100184, -0.10467928,  0.70367743],\n",
       "       [ 0.40111364, -0.10470559,  0.70359195],\n",
       "       [ 0.40105605, -0.10469385,  0.7036378 ],\n",
       "       [ 0.40108438, -0.10469838,  0.70361401],\n",
       "       [ 0.40107136, -0.10469719,  0.70362583],\n",
       "       [ 0.40107668, -0.10469699,  0.70362031],\n",
       "       [ 0.40107501, -0.10469765,  0.70362264],\n",
       "       [ 0.4010751 , -0.10469695,  0.70362185],\n",
       "       [ 0.40107559, -0.10469754,  0.70362195],\n",
       "       [ 0.40107498, -0.10469709,  0.70362211],\n",
       "       [ 0.40107552, -0.10469741,  0.70362189],\n",
       "       [ 0.4010751 , -0.10469719,  0.70362209],\n",
       "       [ 0.40107541, -0.10469734,  0.70362193],\n",
       "       [ 0.4010752 , -0.10469724,  0.70362205],\n",
       "       [ 0.40107534, -0.1046973 ,  0.70362197],\n",
       "       [ 0.40107525, -0.10469727,  0.70362202],\n",
       "       [ 0.4010753 , -0.10469729,  0.70362199],\n",
       "       [ 0.40107527, -0.10469728,  0.70362201],\n",
       "       [ 0.40107529, -0.10469728,  0.70362199],\n",
       "       [ 0.40107528, -0.10469728,  0.703622  ],\n",
       "       [ 0.40107528, -0.10469728,  0.703622  ],\n",
       "       [ 0.40107528, -0.10469728,  0.703622  ],\n",
       "       [ 0.40107528, -0.10469728,  0.703622  ],\n",
       "       [ 0.40107528, -0.10469728,  0.703622  ],\n",
       "       [ 0.40107528, -0.10469728,  0.703622  ],\n",
       "       [ 0.40107528, -0.10469728,  0.703622  ]])"
      ]
     },
     "execution_count": 51,
     "metadata": {},
     "output_type": "execute_result"
    }
   ],
   "source": [
    "\n",
    "model = VECM(data_q3, coint_rank=1)\n",
    "vecm_res = model.fit()\n",
    "res = vecm_res.predict(steps=42)\n",
    "row_sums = res.sum(axis=1)\n",
    "weights = res / row_sums[:, np.newaxis]\n",
    "weights"
   ]
  },
  {
   "cell_type": "code",
   "execution_count": 52,
   "metadata": {},
   "outputs": [],
   "source": [
    "data1 = get_data(gold_df, 10, 12, \"Daily Return\").values\n",
    "data2 = get_data(equity_df, 10, 12, \"Daily Return\").values\n",
    "data3 = get_data(bitcoin_df, 10, 12, \"Daily Return\").values\n",
    "data_q4 = np.array([data1, data2, data3]).T"
   ]
  },
  {
   "cell_type": "code",
   "execution_count": 53,
   "metadata": {},
   "outputs": [
    {
     "data": {
      "text/plain": [
       "0.47305473104700324"
      ]
     },
     "execution_count": 53,
     "metadata": {},
     "output_type": "execute_result"
    }
   ],
   "source": [
    "return_q4 = weights * data_q4\n",
    "total_return_q4 = return_q4.sum(axis=1)\n",
    "portfolio_return_q4 = np.product(total_return_q4 + 1) - 1\n",
    "portfolio_return_q4"
   ]
  },
  {
   "cell_type": "code",
   "execution_count": 55,
   "metadata": {},
   "outputs": [
    {
     "data": {
      "text/plain": [
       "0.8121754373374039"
      ]
     },
     "execution_count": 55,
     "metadata": {},
     "output_type": "execute_result"
    }
   ],
   "source": [
    "(1 + portfolio_return_q3) * (1 + portfolio_return_q4) - 1"
   ]
  },
  {
   "cell_type": "markdown",
   "metadata": {},
   "source": [
    "We prefer the VARMA model because it has a better return"
   ]
  },
  {
   "cell_type": "markdown",
   "metadata": {},
   "source": [
    "# 8. Combining the models"
   ]
  },
  {
   "cell_type": "markdown",
   "metadata": {},
   "source": [
    "Our 2 VARMA models have the best returns, we will naturally choose these two models to combine. Because the returns are close, we assign each model 50% of our capital. We will not rebalance the portfolio during the whole periods.\n",
    "\n",
    "The return of this model, therefore, will be the weighted average of the 2 models, which is about 108.7%"
   ]
  },
  {
   "cell_type": "markdown",
   "metadata": {},
   "source": [
    "In a sophisticated trading system, we can also use Modern portfolio theory to allocate the assets in a portfolio that maximizes the expected return."
   ]
  }
 ],
 "metadata": {
  "kernelspec": {
   "display_name": "Python 3",
   "language": "python",
   "name": "python3"
  },
  "language_info": {
   "codemirror_mode": {
    "name": "ipython",
    "version": 3
   },
   "file_extension": ".py",
   "mimetype": "text/x-python",
   "name": "python",
   "nbconvert_exporter": "python",
   "pygments_lexer": "ipython3",
   "version": "3.8.5"
  }
 },
 "nbformat": 4,
 "nbformat_minor": 4
}

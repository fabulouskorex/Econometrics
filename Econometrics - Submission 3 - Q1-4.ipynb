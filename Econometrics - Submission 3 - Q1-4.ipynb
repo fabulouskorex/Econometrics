{
 "cells": [
  {
   "cell_type": "markdown",
   "metadata": {},
   "source": [
    "# 1. Data Importing\n"
   ]
  },
  {
   "cell_type": "code",
   "execution_count": null,
   "metadata": {},
   "outputs": [],
   "source": [
    "import pandas as pd\n",
    "import numpy as np\n",
    "from sklearn.cluster import DBSCAN\n",
    "from pandas import Series, DataFrame\n",
    "from scipy.stats import kurtosis\n",
    "import matplotlib.pyplot as plt\n",
    "import seaborn as sns"
   ]
  },
  {
   "cell_type": "code",
   "execution_count": 2,
   "metadata": {},
   "outputs": [],
   "source": [
    "GLD_ETF_df = pd.read_csv(\"/home/fabulouskorex/Documents/SPDR Gold Shares (GLD) Jan - Dec 2020.csv\",parse_dates=True,index_col=0)\n",
    "EQT_ETF_df = pd.read_csv(\"/home/fabulouskorex/Documents/Amundi CAC 40 UCITS ETF-C (C40.PA) Jan 2020 - Dec 2020.csv\",parse_dates=True,index_col=0)\n",
    "BTC_df = pd.read_csv(\"/home/fabulouskorex/Documents/Bitcoin USD (BTC-USD) Jan 2020 - Dec 2020.csv\",parse_dates=True,index_col=0)"
   ]
  },
  {
   "cell_type": "code",
   "execution_count": 3,
   "metadata": {},
   "outputs": [],
   "source": [
    "gold_ETF_df = pd.read_csv(\"/home/fabulouskorex/Documents/SPDR Gold Shares (GLD) April 2020 - December 2020.csv\",parse_dates=True,index_col=0)\n",
    "equity_ETF_df = pd.read_csv(\"/home/fabulouskorex/Documents/Amundi CAC 40 UCITS ETF-C (C40.PA) April 2020 - December 2020.csv\",parse_dates=True,index_col=0)\n",
    "bitcoin_df = pd.read_csv(\"/home/fabulouskorex/Documents/Bitcoin USD (BTC-USD) April 2020 - December 2020.csv\",parse_dates=True,index_col=0)"
   ]
  },
  {
   "cell_type": "markdown",
   "metadata": {},
   "source": [
    "# 2. Data Processing "
   ]
  },
  {
   "cell_type": "code",
   "execution_count": 4,
   "metadata": {},
   "outputs": [
    {
     "data": {
      "text/html": [
       "<div>\n",
       "<style scoped>\n",
       "    .dataframe tbody tr th:only-of-type {\n",
       "        vertical-align: middle;\n",
       "    }\n",
       "\n",
       "    .dataframe tbody tr th {\n",
       "        vertical-align: top;\n",
       "    }\n",
       "\n",
       "    .dataframe thead th {\n",
       "        text-align: right;\n",
       "    }\n",
       "</style>\n",
       "<table border=\"1\" class=\"dataframe\">\n",
       "  <thead>\n",
       "    <tr style=\"text-align: right;\">\n",
       "      <th></th>\n",
       "      <th>Open</th>\n",
       "      <th>High</th>\n",
       "      <th>Low</th>\n",
       "      <th>Close</th>\n",
       "      <th>Adj Close</th>\n",
       "      <th>Volume</th>\n",
       "      <th>Daily_return_pct</th>\n",
       "    </tr>\n",
       "    <tr>\n",
       "      <th>Date</th>\n",
       "      <th></th>\n",
       "      <th></th>\n",
       "      <th></th>\n",
       "      <th></th>\n",
       "      <th></th>\n",
       "      <th></th>\n",
       "      <th></th>\n",
       "    </tr>\n",
       "  </thead>\n",
       "  <tbody>\n",
       "    <tr>\n",
       "      <th>2020-04-01</th>\n",
       "      <td>148.199997</td>\n",
       "      <td>150.080002</td>\n",
       "      <td>147.850006</td>\n",
       "      <td>149.449997</td>\n",
       "      <td>149.449997</td>\n",
       "      <td>11827400</td>\n",
       "      <td>NaN</td>\n",
       "    </tr>\n",
       "    <tr>\n",
       "      <th>2020-04-02</th>\n",
       "      <td>151.199997</td>\n",
       "      <td>152.500000</td>\n",
       "      <td>150.699997</td>\n",
       "      <td>151.899994</td>\n",
       "      <td>151.899994</td>\n",
       "      <td>9188300</td>\n",
       "      <td>0.016393</td>\n",
       "    </tr>\n",
       "    <tr>\n",
       "      <th>2020-04-03</th>\n",
       "      <td>152.229996</td>\n",
       "      <td>153.089996</td>\n",
       "      <td>151.660004</td>\n",
       "      <td>152.649994</td>\n",
       "      <td>152.649994</td>\n",
       "      <td>8469100</td>\n",
       "      <td>0.004937</td>\n",
       "    </tr>\n",
       "    <tr>\n",
       "      <th>2020-04-06</th>\n",
       "      <td>154.160004</td>\n",
       "      <td>157.220001</td>\n",
       "      <td>153.960007</td>\n",
       "      <td>156.880005</td>\n",
       "      <td>156.880005</td>\n",
       "      <td>14739300</td>\n",
       "      <td>0.027711</td>\n",
       "    </tr>\n",
       "    <tr>\n",
       "      <th>2020-04-07</th>\n",
       "      <td>155.330002</td>\n",
       "      <td>156.139999</td>\n",
       "      <td>154.380005</td>\n",
       "      <td>156.039993</td>\n",
       "      <td>156.039993</td>\n",
       "      <td>9195400</td>\n",
       "      <td>-0.005354</td>\n",
       "    </tr>\n",
       "  </tbody>\n",
       "</table>\n",
       "</div>"
      ],
      "text/plain": [
       "                  Open        High         Low       Close   Adj Close  \\\n",
       "Date                                                                     \n",
       "2020-04-01  148.199997  150.080002  147.850006  149.449997  149.449997   \n",
       "2020-04-02  151.199997  152.500000  150.699997  151.899994  151.899994   \n",
       "2020-04-03  152.229996  153.089996  151.660004  152.649994  152.649994   \n",
       "2020-04-06  154.160004  157.220001  153.960007  156.880005  156.880005   \n",
       "2020-04-07  155.330002  156.139999  154.380005  156.039993  156.039993   \n",
       "\n",
       "              Volume  Daily_return_pct  \n",
       "Date                                    \n",
       "2020-04-01  11827400               NaN  \n",
       "2020-04-02   9188300          0.016393  \n",
       "2020-04-03   8469100          0.004937  \n",
       "2020-04-06  14739300          0.027711  \n",
       "2020-04-07   9195400         -0.005354  "
      ]
     },
     "execution_count": 4,
     "metadata": {},
     "output_type": "execute_result"
    }
   ],
   "source": [
    "gold_ETF_df['Daily_return_pct'] = gold_ETF_df['Close'].pct_change(1)\n",
    "gold_ETF_df.head()\n"
   ]
  },
  {
   "cell_type": "code",
   "execution_count": 5,
   "metadata": {},
   "outputs": [
    {
     "data": {
      "text/html": [
       "<div>\n",
       "<style scoped>\n",
       "    .dataframe tbody tr th:only-of-type {\n",
       "        vertical-align: middle;\n",
       "    }\n",
       "\n",
       "    .dataframe tbody tr th {\n",
       "        vertical-align: top;\n",
       "    }\n",
       "\n",
       "    .dataframe thead th {\n",
       "        text-align: right;\n",
       "    }\n",
       "</style>\n",
       "<table border=\"1\" class=\"dataframe\">\n",
       "  <thead>\n",
       "    <tr style=\"text-align: right;\">\n",
       "      <th></th>\n",
       "      <th>Open</th>\n",
       "      <th>High</th>\n",
       "      <th>Low</th>\n",
       "      <th>Close</th>\n",
       "      <th>Adj Close</th>\n",
       "      <th>Volume</th>\n",
       "      <th>Daily_return_pct</th>\n",
       "    </tr>\n",
       "    <tr>\n",
       "      <th>Date</th>\n",
       "      <th></th>\n",
       "      <th></th>\n",
       "      <th></th>\n",
       "      <th></th>\n",
       "      <th></th>\n",
       "      <th></th>\n",
       "      <th></th>\n",
       "    </tr>\n",
       "  </thead>\n",
       "  <tbody>\n",
       "    <tr>\n",
       "      <th>2020-04-01</th>\n",
       "      <td>62.340000</td>\n",
       "      <td>62.490002</td>\n",
       "      <td>61.330002</td>\n",
       "      <td>61.520000</td>\n",
       "      <td>61.520000</td>\n",
       "      <td>0.0</td>\n",
       "      <td>NaN</td>\n",
       "    </tr>\n",
       "    <tr>\n",
       "      <th>2020-04-02</th>\n",
       "      <td>61.720001</td>\n",
       "      <td>62.720001</td>\n",
       "      <td>61.599998</td>\n",
       "      <td>62.090000</td>\n",
       "      <td>62.090000</td>\n",
       "      <td>0.0</td>\n",
       "      <td>0.009265</td>\n",
       "    </tr>\n",
       "    <tr>\n",
       "      <th>2020-04-03</th>\n",
       "      <td>61.910000</td>\n",
       "      <td>62.099998</td>\n",
       "      <td>61.570000</td>\n",
       "      <td>61.889999</td>\n",
       "      <td>61.889999</td>\n",
       "      <td>0.0</td>\n",
       "      <td>-0.003221</td>\n",
       "    </tr>\n",
       "    <tr>\n",
       "      <th>2020-04-06</th>\n",
       "      <td>63.500000</td>\n",
       "      <td>64.500000</td>\n",
       "      <td>63.250000</td>\n",
       "      <td>64.500000</td>\n",
       "      <td>64.500000</td>\n",
       "      <td>40092.0</td>\n",
       "      <td>0.042172</td>\n",
       "    </tr>\n",
       "    <tr>\n",
       "      <th>2020-04-07</th>\n",
       "      <td>65.470001</td>\n",
       "      <td>66.650002</td>\n",
       "      <td>65.470001</td>\n",
       "      <td>66.360001</td>\n",
       "      <td>66.360001</td>\n",
       "      <td>0.0</td>\n",
       "      <td>0.028837</td>\n",
       "    </tr>\n",
       "  </tbody>\n",
       "</table>\n",
       "</div>"
      ],
      "text/plain": [
       "                 Open       High        Low      Close  Adj Close   Volume  \\\n",
       "Date                                                                         \n",
       "2020-04-01  62.340000  62.490002  61.330002  61.520000  61.520000      0.0   \n",
       "2020-04-02  61.720001  62.720001  61.599998  62.090000  62.090000      0.0   \n",
       "2020-04-03  61.910000  62.099998  61.570000  61.889999  61.889999      0.0   \n",
       "2020-04-06  63.500000  64.500000  63.250000  64.500000  64.500000  40092.0   \n",
       "2020-04-07  65.470001  66.650002  65.470001  66.360001  66.360001      0.0   \n",
       "\n",
       "            Daily_return_pct  \n",
       "Date                          \n",
       "2020-04-01               NaN  \n",
       "2020-04-02          0.009265  \n",
       "2020-04-03         -0.003221  \n",
       "2020-04-06          0.042172  \n",
       "2020-04-07          0.028837  "
      ]
     },
     "execution_count": 5,
     "metadata": {},
     "output_type": "execute_result"
    }
   ],
   "source": [
    "equity_ETF_df['Daily_return_pct'] = equity_ETF_df['Close'].pct_change(1)\n",
    "equity_ETF_df.head()"
   ]
  },
  {
   "cell_type": "code",
   "execution_count": 6,
   "metadata": {},
   "outputs": [
    {
     "data": {
      "text/html": [
       "<div>\n",
       "<style scoped>\n",
       "    .dataframe tbody tr th:only-of-type {\n",
       "        vertical-align: middle;\n",
       "    }\n",
       "\n",
       "    .dataframe tbody tr th {\n",
       "        vertical-align: top;\n",
       "    }\n",
       "\n",
       "    .dataframe thead th {\n",
       "        text-align: right;\n",
       "    }\n",
       "</style>\n",
       "<table border=\"1\" class=\"dataframe\">\n",
       "  <thead>\n",
       "    <tr style=\"text-align: right;\">\n",
       "      <th></th>\n",
       "      <th>Open</th>\n",
       "      <th>High</th>\n",
       "      <th>Low</th>\n",
       "      <th>Close</th>\n",
       "      <th>Adj Close</th>\n",
       "      <th>Volume</th>\n",
       "      <th>Daily_return_pct</th>\n",
       "    </tr>\n",
       "    <tr>\n",
       "      <th>Date</th>\n",
       "      <th></th>\n",
       "      <th></th>\n",
       "      <th></th>\n",
       "      <th></th>\n",
       "      <th></th>\n",
       "      <th></th>\n",
       "      <th></th>\n",
       "    </tr>\n",
       "  </thead>\n",
       "  <tbody>\n",
       "    <tr>\n",
       "      <th>2020-04-01</th>\n",
       "      <td>6437.319336</td>\n",
       "      <td>6612.573730</td>\n",
       "      <td>6202.373535</td>\n",
       "      <td>6606.776367</td>\n",
       "      <td>6606.776367</td>\n",
       "      <td>40346426265</td>\n",
       "      <td>NaN</td>\n",
       "    </tr>\n",
       "    <tr>\n",
       "      <th>2020-04-02</th>\n",
       "      <td>6606.776367</td>\n",
       "      <td>7088.247559</td>\n",
       "      <td>6595.918457</td>\n",
       "      <td>6793.624512</td>\n",
       "      <td>6793.624512</td>\n",
       "      <td>47660646124</td>\n",
       "      <td>0.028281</td>\n",
       "    </tr>\n",
       "    <tr>\n",
       "      <th>2020-04-03</th>\n",
       "      <td>6797.396484</td>\n",
       "      <td>7003.220703</td>\n",
       "      <td>6673.335938</td>\n",
       "      <td>6733.387207</td>\n",
       "      <td>6733.387207</td>\n",
       "      <td>38976504902</td>\n",
       "      <td>-0.008867</td>\n",
       "    </tr>\n",
       "    <tr>\n",
       "      <th>2020-04-04</th>\n",
       "      <td>6738.382813</td>\n",
       "      <td>6878.953613</td>\n",
       "      <td>6696.484863</td>\n",
       "      <td>6867.527344</td>\n",
       "      <td>6867.527344</td>\n",
       "      <td>33185988583</td>\n",
       "      <td>0.019922</td>\n",
       "    </tr>\n",
       "    <tr>\n",
       "      <th>2020-04-05</th>\n",
       "      <td>6862.537598</td>\n",
       "      <td>6883.414063</td>\n",
       "      <td>6715.929199</td>\n",
       "      <td>6791.129395</td>\n",
       "      <td>6791.129395</td>\n",
       "      <td>29510409856</td>\n",
       "      <td>-0.011125</td>\n",
       "    </tr>\n",
       "  </tbody>\n",
       "</table>\n",
       "</div>"
      ],
      "text/plain": [
       "                   Open         High          Low        Close    Adj Close  \\\n",
       "Date                                                                          \n",
       "2020-04-01  6437.319336  6612.573730  6202.373535  6606.776367  6606.776367   \n",
       "2020-04-02  6606.776367  7088.247559  6595.918457  6793.624512  6793.624512   \n",
       "2020-04-03  6797.396484  7003.220703  6673.335938  6733.387207  6733.387207   \n",
       "2020-04-04  6738.382813  6878.953613  6696.484863  6867.527344  6867.527344   \n",
       "2020-04-05  6862.537598  6883.414063  6715.929199  6791.129395  6791.129395   \n",
       "\n",
       "                 Volume  Daily_return_pct  \n",
       "Date                                       \n",
       "2020-04-01  40346426265               NaN  \n",
       "2020-04-02  47660646124          0.028281  \n",
       "2020-04-03  38976504902         -0.008867  \n",
       "2020-04-04  33185988583          0.019922  \n",
       "2020-04-05  29510409856         -0.011125  "
      ]
     },
     "execution_count": 6,
     "metadata": {},
     "output_type": "execute_result"
    }
   ],
   "source": [
    "bitcoin_df['Daily_return_pct'] = bitcoin_df['Close'].pct_change(1)\n",
    "bitcoin_df.head()"
   ]
  },
  {
   "cell_type": "markdown",
   "metadata": {},
   "source": [
    "# 3.1 Returns"
   ]
  },
  {
   "cell_type": "code",
   "execution_count": 7,
   "metadata": {},
   "outputs": [
    {
     "data": {
      "text/html": [
       "<div>\n",
       "<style scoped>\n",
       "    .dataframe tbody tr th:only-of-type {\n",
       "        vertical-align: middle;\n",
       "    }\n",
       "\n",
       "    .dataframe tbody tr th {\n",
       "        vertical-align: top;\n",
       "    }\n",
       "\n",
       "    .dataframe thead th {\n",
       "        text-align: right;\n",
       "    }\n",
       "</style>\n",
       "<table border=\"1\" class=\"dataframe\">\n",
       "  <thead>\n",
       "    <tr style=\"text-align: right;\">\n",
       "      <th></th>\n",
       "      <th>Open</th>\n",
       "      <th>High</th>\n",
       "      <th>Low</th>\n",
       "      <th>Close</th>\n",
       "      <th>Adj Close</th>\n",
       "      <th>Volume</th>\n",
       "      <th>Returns</th>\n",
       "    </tr>\n",
       "    <tr>\n",
       "      <th>Date</th>\n",
       "      <th></th>\n",
       "      <th></th>\n",
       "      <th></th>\n",
       "      <th></th>\n",
       "      <th></th>\n",
       "      <th></th>\n",
       "      <th></th>\n",
       "    </tr>\n",
       "  </thead>\n",
       "  <tbody>\n",
       "    <tr>\n",
       "      <th>2020-01-02</th>\n",
       "      <td>88.589996</td>\n",
       "      <td>89.239998</td>\n",
       "      <td>88.589996</td>\n",
       "      <td>89.239998</td>\n",
       "      <td>89.239998</td>\n",
       "      <td>124.0</td>\n",
       "      <td>NaN</td>\n",
       "    </tr>\n",
       "    <tr>\n",
       "      <th>2020-01-03</th>\n",
       "      <td>88.489998</td>\n",
       "      <td>88.889999</td>\n",
       "      <td>88.309998</td>\n",
       "      <td>88.769997</td>\n",
       "      <td>88.769997</td>\n",
       "      <td>0.0</td>\n",
       "      <td>-0.005267</td>\n",
       "    </tr>\n",
       "    <tr>\n",
       "      <th>2020-01-06</th>\n",
       "      <td>88.529999</td>\n",
       "      <td>88.599998</td>\n",
       "      <td>87.750000</td>\n",
       "      <td>88.559998</td>\n",
       "      <td>88.559998</td>\n",
       "      <td>563.0</td>\n",
       "      <td>-0.002366</td>\n",
       "    </tr>\n",
       "    <tr>\n",
       "      <th>2020-01-07</th>\n",
       "      <td>88.839996</td>\n",
       "      <td>89.260002</td>\n",
       "      <td>88.500000</td>\n",
       "      <td>88.500000</td>\n",
       "      <td>88.500000</td>\n",
       "      <td>0.0</td>\n",
       "      <td>-0.000677</td>\n",
       "    </tr>\n",
       "    <tr>\n",
       "      <th>2020-01-08</th>\n",
       "      <td>88.120003</td>\n",
       "      <td>89.300003</td>\n",
       "      <td>88.120003</td>\n",
       "      <td>89.139999</td>\n",
       "      <td>89.139999</td>\n",
       "      <td>212.0</td>\n",
       "      <td>0.007232</td>\n",
       "    </tr>\n",
       "  </tbody>\n",
       "</table>\n",
       "</div>"
      ],
      "text/plain": [
       "                 Open       High        Low      Close  Adj Close  Volume  \\\n",
       "Date                                                                        \n",
       "2020-01-02  88.589996  89.239998  88.589996  89.239998  89.239998   124.0   \n",
       "2020-01-03  88.489998  88.889999  88.309998  88.769997  88.769997     0.0   \n",
       "2020-01-06  88.529999  88.599998  87.750000  88.559998  88.559998   563.0   \n",
       "2020-01-07  88.839996  89.260002  88.500000  88.500000  88.500000     0.0   \n",
       "2020-01-08  88.120003  89.300003  88.120003  89.139999  89.139999   212.0   \n",
       "\n",
       "             Returns  \n",
       "Date                  \n",
       "2020-01-02       NaN  \n",
       "2020-01-03 -0.005267  \n",
       "2020-01-06 -0.002366  \n",
       "2020-01-07 -0.000677  \n",
       "2020-01-08  0.007232  "
      ]
     },
     "execution_count": 7,
     "metadata": {},
     "output_type": "execute_result"
    }
   ],
   "source": [
    "EQT_ETF_df['Returns'] = EQT_ETF_df['Close'].pct_change(1)\n",
    "EQT_ETF_df.head()"
   ]
  },
  {
   "cell_type": "code",
   "execution_count": 8,
   "metadata": {},
   "outputs": [
    {
     "data": {
      "text/html": [
       "<div>\n",
       "<style scoped>\n",
       "    .dataframe tbody tr th:only-of-type {\n",
       "        vertical-align: middle;\n",
       "    }\n",
       "\n",
       "    .dataframe tbody tr th {\n",
       "        vertical-align: top;\n",
       "    }\n",
       "\n",
       "    .dataframe thead th {\n",
       "        text-align: right;\n",
       "    }\n",
       "</style>\n",
       "<table border=\"1\" class=\"dataframe\">\n",
       "  <thead>\n",
       "    <tr style=\"text-align: right;\">\n",
       "      <th></th>\n",
       "      <th>Open</th>\n",
       "      <th>High</th>\n",
       "      <th>Low</th>\n",
       "      <th>Close</th>\n",
       "      <th>Adj Close</th>\n",
       "      <th>Volume</th>\n",
       "      <th>Returns</th>\n",
       "    </tr>\n",
       "    <tr>\n",
       "      <th>Date</th>\n",
       "      <th></th>\n",
       "      <th></th>\n",
       "      <th></th>\n",
       "      <th></th>\n",
       "      <th></th>\n",
       "      <th></th>\n",
       "      <th></th>\n",
       "    </tr>\n",
       "  </thead>\n",
       "  <tbody>\n",
       "    <tr>\n",
       "      <th>2020-01-02</th>\n",
       "      <td>143.860001</td>\n",
       "      <td>144.210007</td>\n",
       "      <td>143.399994</td>\n",
       "      <td>143.949997</td>\n",
       "      <td>143.949997</td>\n",
       "      <td>7733800</td>\n",
       "      <td>NaN</td>\n",
       "    </tr>\n",
       "    <tr>\n",
       "      <th>2020-01-03</th>\n",
       "      <td>145.750000</td>\n",
       "      <td>146.320007</td>\n",
       "      <td>145.399994</td>\n",
       "      <td>145.860001</td>\n",
       "      <td>145.860001</td>\n",
       "      <td>12272800</td>\n",
       "      <td>0.013269</td>\n",
       "    </tr>\n",
       "    <tr>\n",
       "      <th>2020-01-06</th>\n",
       "      <td>148.440002</td>\n",
       "      <td>148.479996</td>\n",
       "      <td>146.949997</td>\n",
       "      <td>147.389999</td>\n",
       "      <td>147.389999</td>\n",
       "      <td>14403300</td>\n",
       "      <td>0.010489</td>\n",
       "    </tr>\n",
       "    <tr>\n",
       "      <th>2020-01-07</th>\n",
       "      <td>147.570007</td>\n",
       "      <td>148.139999</td>\n",
       "      <td>147.429993</td>\n",
       "      <td>147.970001</td>\n",
       "      <td>147.970001</td>\n",
       "      <td>7978500</td>\n",
       "      <td>0.003935</td>\n",
       "    </tr>\n",
       "    <tr>\n",
       "      <th>2020-01-08</th>\n",
       "      <td>148.490005</td>\n",
       "      <td>148.610001</td>\n",
       "      <td>146.139999</td>\n",
       "      <td>146.860001</td>\n",
       "      <td>146.860001</td>\n",
       "      <td>22248500</td>\n",
       "      <td>-0.007502</td>\n",
       "    </tr>\n",
       "  </tbody>\n",
       "</table>\n",
       "</div>"
      ],
      "text/plain": [
       "                  Open        High         Low       Close   Adj Close  \\\n",
       "Date                                                                     \n",
       "2020-01-02  143.860001  144.210007  143.399994  143.949997  143.949997   \n",
       "2020-01-03  145.750000  146.320007  145.399994  145.860001  145.860001   \n",
       "2020-01-06  148.440002  148.479996  146.949997  147.389999  147.389999   \n",
       "2020-01-07  147.570007  148.139999  147.429993  147.970001  147.970001   \n",
       "2020-01-08  148.490005  148.610001  146.139999  146.860001  146.860001   \n",
       "\n",
       "              Volume   Returns  \n",
       "Date                            \n",
       "2020-01-02   7733800       NaN  \n",
       "2020-01-03  12272800  0.013269  \n",
       "2020-01-06  14403300  0.010489  \n",
       "2020-01-07   7978500  0.003935  \n",
       "2020-01-08  22248500 -0.007502  "
      ]
     },
     "execution_count": 8,
     "metadata": {},
     "output_type": "execute_result"
    }
   ],
   "source": [
    "GLD_ETF_df['Returns'] = GLD_ETF_df['Close'].pct_change(1)\n",
    "GLD_ETF_df.head()"
   ]
  },
  {
   "cell_type": "code",
   "execution_count": 9,
   "metadata": {},
   "outputs": [
    {
     "data": {
      "text/html": [
       "<div>\n",
       "<style scoped>\n",
       "    .dataframe tbody tr th:only-of-type {\n",
       "        vertical-align: middle;\n",
       "    }\n",
       "\n",
       "    .dataframe tbody tr th {\n",
       "        vertical-align: top;\n",
       "    }\n",
       "\n",
       "    .dataframe thead th {\n",
       "        text-align: right;\n",
       "    }\n",
       "</style>\n",
       "<table border=\"1\" class=\"dataframe\">\n",
       "  <thead>\n",
       "    <tr style=\"text-align: right;\">\n",
       "      <th></th>\n",
       "      <th>Open</th>\n",
       "      <th>High</th>\n",
       "      <th>Low</th>\n",
       "      <th>Close</th>\n",
       "      <th>Adj Close</th>\n",
       "      <th>Volume</th>\n",
       "      <th>Returns</th>\n",
       "    </tr>\n",
       "    <tr>\n",
       "      <th>Date</th>\n",
       "      <th></th>\n",
       "      <th></th>\n",
       "      <th></th>\n",
       "      <th></th>\n",
       "      <th></th>\n",
       "      <th></th>\n",
       "      <th></th>\n",
       "    </tr>\n",
       "  </thead>\n",
       "  <tbody>\n",
       "    <tr>\n",
       "      <th>2020-01-01</th>\n",
       "      <td>7194.892090</td>\n",
       "      <td>7254.330566</td>\n",
       "      <td>7174.944336</td>\n",
       "      <td>7200.174316</td>\n",
       "      <td>7200.174316</td>\n",
       "      <td>18565664996</td>\n",
       "      <td>NaN</td>\n",
       "    </tr>\n",
       "    <tr>\n",
       "      <th>2020-01-02</th>\n",
       "      <td>7202.551270</td>\n",
       "      <td>7212.155273</td>\n",
       "      <td>6935.270020</td>\n",
       "      <td>6985.470215</td>\n",
       "      <td>6985.470215</td>\n",
       "      <td>20802083465</td>\n",
       "      <td>-0.029819</td>\n",
       "    </tr>\n",
       "    <tr>\n",
       "      <th>2020-01-03</th>\n",
       "      <td>6984.428711</td>\n",
       "      <td>7413.715332</td>\n",
       "      <td>6914.996094</td>\n",
       "      <td>7344.884277</td>\n",
       "      <td>7344.884277</td>\n",
       "      <td>28111481031</td>\n",
       "      <td>0.051452</td>\n",
       "    </tr>\n",
       "    <tr>\n",
       "      <th>2020-01-04</th>\n",
       "      <td>7345.375488</td>\n",
       "      <td>7427.385742</td>\n",
       "      <td>7309.514160</td>\n",
       "      <td>7410.656738</td>\n",
       "      <td>7410.656738</td>\n",
       "      <td>18444271274</td>\n",
       "      <td>0.008955</td>\n",
       "    </tr>\n",
       "    <tr>\n",
       "      <th>2020-01-05</th>\n",
       "      <td>7410.451660</td>\n",
       "      <td>7544.497070</td>\n",
       "      <td>7400.535645</td>\n",
       "      <td>7411.317383</td>\n",
       "      <td>7411.317383</td>\n",
       "      <td>19725074094</td>\n",
       "      <td>0.000089</td>\n",
       "    </tr>\n",
       "  </tbody>\n",
       "</table>\n",
       "</div>"
      ],
      "text/plain": [
       "                   Open         High          Low        Close    Adj Close  \\\n",
       "Date                                                                          \n",
       "2020-01-01  7194.892090  7254.330566  7174.944336  7200.174316  7200.174316   \n",
       "2020-01-02  7202.551270  7212.155273  6935.270020  6985.470215  6985.470215   \n",
       "2020-01-03  6984.428711  7413.715332  6914.996094  7344.884277  7344.884277   \n",
       "2020-01-04  7345.375488  7427.385742  7309.514160  7410.656738  7410.656738   \n",
       "2020-01-05  7410.451660  7544.497070  7400.535645  7411.317383  7411.317383   \n",
       "\n",
       "                 Volume   Returns  \n",
       "Date                               \n",
       "2020-01-01  18565664996       NaN  \n",
       "2020-01-02  20802083465 -0.029819  \n",
       "2020-01-03  28111481031  0.051452  \n",
       "2020-01-04  18444271274  0.008955  \n",
       "2020-01-05  19725074094  0.000089  "
      ]
     },
     "execution_count": 9,
     "metadata": {},
     "output_type": "execute_result"
    }
   ],
   "source": [
    "BTC_df['Returns'] = BTC_df['Close'].pct_change(1)\n",
    "BTC_df.head()"
   ]
  },
  {
   "cell_type": "markdown",
   "metadata": {},
   "source": [
    "# 3.2 Kurtosis"
   ]
  },
  {
   "cell_type": "code",
   "execution_count": 10,
   "metadata": {},
   "outputs": [
    {
     "data": {
      "text/plain": [
       "4.953120799542083"
      ]
     },
     "execution_count": 10,
     "metadata": {},
     "output_type": "execute_result"
    }
   ],
   "source": [
    "kurtosis(EQT_ETF_df[\"Returns\"].dropna())"
   ]
  },
  {
   "cell_type": "code",
   "execution_count": 11,
   "metadata": {},
   "outputs": [
    {
     "data": {
      "text/plain": [
       "3.417692936704773"
      ]
     },
     "execution_count": 11,
     "metadata": {},
     "output_type": "execute_result"
    }
   ],
   "source": [
    "kurtosis(GLD_ETF_df[\"Returns\"].dropna())"
   ]
  },
  {
   "cell_type": "code",
   "execution_count": 12,
   "metadata": {},
   "outputs": [
    {
     "data": {
      "text/plain": [
       "27.887019245015576"
      ]
     },
     "execution_count": 12,
     "metadata": {},
     "output_type": "execute_result"
    }
   ],
   "source": [
    "kurtosis(BTC_df[\"Returns\"].dropna())"
   ]
  },
  {
   "cell_type": "code",
   "execution_count": 13,
   "metadata": {},
   "outputs": [
    {
     "data": {
      "text/plain": [
       "(252, 7)"
      ]
     },
     "execution_count": 13,
     "metadata": {},
     "output_type": "execute_result"
    }
   ],
   "source": [
    "GLD_ETF_df.shape"
   ]
  },
  {
   "cell_type": "markdown",
   "metadata": {},
   "source": [
    "# 3.3 - 4.2 Extreme Value"
   ]
  },
  {
   "cell_type": "code",
   "execution_count": 14,
   "metadata": {},
   "outputs": [],
   "source": [
    "EQT1 = pd.concat([EQT_ETF_df['Close'], EQT_ETF_df['Returns']], axis=1, keys=['Close', 'Returns']).fillna(0).values\n",
    "EQT2 = pd.concat([GLD_ETF_df['Close'], GLD_ETF_df['Returns']], axis=1, keys=['Close', 'Returns']).fillna(0).values\n",
    "EQT3 = pd.concat([BTC_df['Close'], BTC_df['Returns']], axis=1, keys=['Close', 'Returns']).fillna(0).values"
   ]
  },
  {
   "cell_type": "markdown",
   "metadata": {},
   "source": [
    "We choose DBSCAN because it is essentally an algorithm used to cluster data into groups.\n",
    "It can be used to detect outliers (extreme values). After clustering all the data points, every cluster with only 1 data point can be regarded as an extreme value. In proportion, it is a good fit for us to detect-\n",
    "detect extreme values."
   ]
  },
  {
   "cell_type": "code",
   "execution_count": 16,
   "metadata": {},
   "outputs": [],
   "source": [
    "from sklearn.cluster import DBSCAN\n",
    "from sklearn.preprocessing import StandardScaler\n",
    "\n",
    "def dbscan(X, eps, min_samples):\n",
    "    ss = StandardScaler()\n",
    "    X = ss.fit_transform(X)\n",
    "    db = DBSCAN(eps=eps, min_samples=min_samples)\n",
    "    db.fit(X)\n",
    "    y_pred = db.fit_predict(X)\n",
    "    plt.scatter(X[:,0], X[:,1],c=y_pred, cmap='Paired')\n",
    "    plt.title(\"DBSCAN\")"
   ]
  },
  {
   "cell_type": "code",
   "execution_count": 17,
   "metadata": {},
   "outputs": [
    {
     "data": {
      "image/png": "[encoded data removed]",
      "text/plain": [
       "<Figure size 432x288 with 1 Axes>"
      ]
     },
     "metadata": {
      "needs_background": "light"
     },
     "output_type": "display_data"
    }
   ],
   "source": [
    "dbscan(EQT1, eps=1.7, min_samples=2)"
   ]
  },
  {
   "cell_type": "code",
   "execution_count": 18,
   "metadata": {},
   "outputs": [
    {
     "data": {
      "image/png": "[encoded data removed]",
      "text/plain": [
       "<Figure size 432x288 with 1 Axes>"
      ]
     },
     "metadata": {
      "needs_background": "light"
     },
     "output_type": "display_data"
    }
   ],
   "source": [
    "dbscan(EQT2, eps=1.7, min_samples=2)"
   ]
  },
  {
   "cell_type": "code",
   "execution_count": 19,
   "metadata": {},
   "outputs": [
    {
     "data": {
      "image/png": "[encoded data removed]",
      "text/plain": [
       "<Figure size 432x288 with 1 Axes>"
      ]
     },
     "metadata": {
      "needs_background": "light"
     },
     "output_type": "display_data"
    }
   ],
   "source": [
    "dbscan(EQT3, eps=1.7, min_samples=2)"
   ]
  },
  {
   "cell_type": "markdown",
   "metadata": {},
   "source": [
    "# 4.3 Non Guassian Copula"
   ]
  },
  {
   "cell_type": "code",
   "execution_count": 20,
   "metadata": {},
   "outputs": [
    {
     "data": {
      "image/png": "[encoded data removed]",
      "text/plain": [
       "<Figure size 432x288 with 3 Axes>"
      ]
     },
     "metadata": {
      "needs_background": "light"
     },
     "output_type": "display_data"
    }
   ],
   "source": [
    "from copulalib.copulalib import Copula\n",
    "from array import array \n",
    "\n",
    "# Data and histograms\n",
    "def plotData():\n",
    "    x = (BTC_df[\"Close\"]).fillna(0).values\n",
    "    y = (BTC_df['Returns']).fillna(0).values\n",
    "    fig = plt.figure()\n",
    "    fig.add_subplot(2,2,1)\n",
    "    plt.hist(x,bins=20,color='green',alpha=0.8,align='mid')\n",
    "    plt.title('X variable distribution')\n",
    "    fig.add_subplot(2,2,3)\n",
    "    plt.scatter(x,y,marker=\"o\",alpha=0.8)\n",
    "    fig.add_subplot(2,2,4)\n",
    "    plt.title('Joint X,Y')\n",
    "    plt.hist(y,bins=20,orientation='horizontal',color='red',alpha=0.8,align='mid')\n",
    "    plt.title('Y variable distribution')    \n",
    "    plt.show()\n",
    "    \n",
    "def generateCopulas():\n",
    "    x = array((BTC_df[\"Close\"]).fillna(0).values.tolist())\n",
    "    y = array((BTC_df['Returns']).fillna(0).values.tolist())\n",
    "    fig = plt.figure()\n",
    "    \n",
    "    clayton = Copula(x,y,family='clayton')\n",
    "    uc,vc = clayton.generate_uv(1000)\n",
    "    fig.add_subplot(2,2,2)\n",
    "    plt.scatter(uc,vc,marker='.',color='red')\n",
    "    plt.ylim(0,1)\n",
    "    plt.xlim(0,1)\n",
    "    plt.title('Clayton copula')\n",
    "    plt.show()\n",
    "    \n",
    "#generateData()\n",
    "plotData()\n",
    "#generateCopulas() "
   ]
  },
  {
   "cell_type": "code",
   "execution_count": 21,
   "metadata": {},
   "outputs": [
    {
     "data": {
      "image/png": "[encoded data removed]",
      "text/plain": [
       "<Figure size 432x288 with 3 Axes>"
      ]
     },
     "metadata": {
      "needs_background": "light"
     },
     "output_type": "display_data"
    }
   ],
   "source": [
    "# Data and histograms\n",
    "def plotData():\n",
    "    x = (EQT_ETF_df[\"Close\"]).fillna(0).values\n",
    "    y = (EQT_ETF_df['Returns']).fillna(0).values\n",
    "    fig = plt.figure()\n",
    "    fig.add_subplot(2,2,1)\n",
    "    plt.hist(x,bins=20,color='green',alpha=0.8,align='mid')\n",
    "    plt.title('X variable distribution')\n",
    "    fig.add_subplot(2,2,3)\n",
    "    plt.scatter(x,y,marker=\"o\",alpha=0.8)\n",
    "    fig.add_subplot(2,2,4)\n",
    "    plt.title('Joint X,Y')\n",
    "    plt.hist(y,bins=20,orientation='horizontal',color='red',alpha=0.8,align='mid')\n",
    "    plt.title('Y variable distribution')    \n",
    "    plt.show()\n",
    "    \n",
    "def generateCopulas():\n",
    "    x = array((EQT_ETF_df[\"Close\"]).fillna(0).values.tolist())\n",
    "    y = array((EQT_ETF_df['Returns']).fillna(0).values.tolist())\n",
    "    fig = plt.figure()\n",
    "    \n",
    "    clayton = Copula(x,y,family='clayton')\n",
    "    uc,vc = clayton.generate_uv(1000)\n",
    "    fig.add_subplot(2,2,2)\n",
    "    plt.scatter(uc,vc,marker='.',color='red')\n",
    "    plt.ylim(0,1)\n",
    "    plt.xlim(0,1)\n",
    "    plt.title('Clayton copula')\n",
    "    plt.show()\n",
    "    \n",
    "#generateData()\n",
    "plotData()\n",
    "#generateCopulas() "
   ]
  },
  {
   "cell_type": "code",
   "execution_count": null,
   "metadata": {},
   "outputs": [],
   "source": []
  }
 ],
 "metadata": {
  "kernelspec": {
   "display_name": "Python 3",
   "language": "python",
   "name": "python3"
  },
  "language_info": {
   "codemirror_mode": {
    "name": "ipython",
    "version": 3
   },
   "file_extension": ".py",
   "mimetype": "text/x-python",
   "name": "python",
   "nbconvert_exporter": "python",
   "pygments_lexer": "ipython3",
   "version": "3.8.5"
  }
 },
 "nbformat": 4,
 "nbformat_minor": 2
}
